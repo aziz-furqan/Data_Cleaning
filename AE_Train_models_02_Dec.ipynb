{
  "cells": [
    {
      "cell_type": "code",
      "execution_count": 14,
      "metadata": {
        "id": "canadian-canyon"
      },
      "outputs": [],
      "source": [
        "import torch\n",
        "import torch.nn as nn\n",
        "import torch.nn.functional as F\n",
        "import torch.optim as optim\n",
        "from torchvision import datasets, transforms\n",
        "import matplotlib.pyplot as plt"
      ],
      "id": "canadian-canyon"
    },
    {
      "cell_type": "code",
      "execution_count": 15,
      "metadata": {
        "id": "uauZnSpr67Ob"
      },
      "outputs": [],
      "source": [
        "import pandas as pd\n",
        "import numpy as np\n",
        "from torch.utils.data import Dataset,DataLoader\n",
        "import torch.utils.data as data_utils\n",
        "from sklearn import metrics"
      ],
      "id": "uauZnSpr67Ob"
    },
    {
      "cell_type": "code",
      "source": [
        "from torch.utils.tensorboard import SummaryWriter\n",
        "%load_ext tensorboard\n",
        "!rm -rf ./logs/ \n",
        "import shutil\n",
        "import os\n",
        "import time"
      ],
      "metadata": {
        "id": "WpO5MeG02_rK",
        "colab": {
          "base_uri": "https://localhost:8080/"
        },
        "outputId": "afbf5e63-5597-4edd-cdcc-88d2efa936a4"
      },
      "id": "WpO5MeG02_rK",
      "execution_count": 16,
      "outputs": [
        {
          "output_type": "stream",
          "name": "stdout",
          "text": [
            "The tensorboard extension is already loaded. To reload it, use:\n",
            "  %reload_ext tensorboard\n"
          ]
        }
      ]
    },
    {
      "cell_type": "code",
      "source": [
        "# Load the TensorBoard notebook extension\n",
        "%load_ext tensorboard"
      ],
      "metadata": {
        "id": "eYUh2jFjAAAc",
        "colab": {
          "base_uri": "https://localhost:8080/"
        },
        "outputId": "40a4f0ed-ae08-4002-842d-7dcbd4082642"
      },
      "id": "eYUh2jFjAAAc",
      "execution_count": 17,
      "outputs": [
        {
          "output_type": "stream",
          "name": "stdout",
          "text": [
            "The tensorboard extension is already loaded. To reload it, use:\n",
            "  %reload_ext tensorboard\n"
          ]
        }
      ]
    },
    {
      "cell_type": "markdown",
      "metadata": {
        "id": "V4nwGjyY6AL2"
      },
      "source": [
        "Reading CSV files"
      ],
      "id": "V4nwGjyY6AL2"
    },
    {
      "cell_type": "code",
      "source": [
        "try: \n",
        "    os.mkdir('/content/Best_model/')\n",
        "except OSError as error: \n",
        "    print(error)"
      ],
      "metadata": {
        "id": "wNXtsxM10co1",
        "colab": {
          "base_uri": "https://localhost:8080/"
        },
        "outputId": "2095fd9a-9e44-4eda-9a2f-a6e7fea7ae67"
      },
      "id": "wNXtsxM10co1",
      "execution_count": 18,
      "outputs": [
        {
          "output_type": "stream",
          "name": "stdout",
          "text": [
            "[Errno 17] File exists: '/content/Best_model/'\n"
          ]
        }
      ]
    },
    {
      "cell_type": "code",
      "execution_count": 32,
      "metadata": {
        "id": "dEfPxb7e5_Wm"
      },
      "outputs": [],
      "source": [
        "Facebook = pd.read_csv('/content/Facebook.csv',index_col=[0])\n",
        "Instagram = pd.read_csv('/content/Instagram.csv',index_col=[0])\n",
        "Twitter = pd.read_csv('/content/Twitter.csv',index_col=[0])\n",
        "# All = pd.concat([Facebook,Instagram,Twitter],ignore_index=True)\n",
        "# del All['QoE']\n",
        "\n",
        "FB_QoE = Facebook['QoE']\n",
        "IN_QoE = Instagram['QoE']\n",
        "TW_QoE = Twitter['QoE']\n",
        "QoEs = {'Facebook':FB_QoE,'Twitter':TW_QoE,'Instagram':IN_QoE}\n",
        "\n",
        "del Facebook['QoE']\n",
        "del Twitter['QoE']\n",
        "del Instagram['QoE']"
      ],
      "id": "dEfPxb7e5_Wm"
    },
    {
      "cell_type": "code",
      "source": [
        "FB_train = torch.Tensor(np.array(Facebook))\n",
        "IN_train = torch.Tensor(np.array(Instagram))\n",
        "TW_train = torch.Tensor(np.array(Twitter))\n"
      ],
      "metadata": {
        "id": "uO4dhamqf53b"
      },
      "id": "uO4dhamqf53b",
      "execution_count": 33,
      "outputs": []
    },
    {
      "cell_type": "code",
      "source": [
        "print(FB_train.shape)\n",
        "print(IN_train.shape)\n",
        "print(TW_train.shape)\n"
      ],
      "metadata": {
        "colab": {
          "base_uri": "https://localhost:8080/"
        },
        "id": "5c3wUrAyvxeb",
        "outputId": "e03c737d-8cbd-4243-b305-48eb3c50951e"
      },
      "id": "5c3wUrAyvxeb",
      "execution_count": 31,
      "outputs": [
        {
          "output_type": "stream",
          "name": "stdout",
          "text": [
            "torch.Size([2562, 23])\n",
            "torch.Size([2539, 23])\n",
            "torch.Size([2706, 23])\n"
          ]
        }
      ]
    },
    {
      "cell_type": "code",
      "source": [
        "# Fb_Train, Fb_val = torch.utils.data.random_split(FB_train,[int(len(FB_train)*0.9),len(FB_train)-(int(len(FB_train)*0.9))])\n",
        "# In_Train, In_val = torch.utils.data.random_split(IN_train,[int(len(IN_train)*0.9),len(IN_train)-(int(len(IN_train)*0.9))])\n",
        "# Tw_Train, Tw_val = torch.utils.data.random_split(TW_train,[int(len(TW_train)*0.9),len(TW_train)-(int(len(TW_train)*0.9))])\n",
        "\n",
        "\n",
        "Fb_Train = FB_train[:int(len(FB_train)*0.9)]\n",
        "Fb_val = FB_train[int(len(FB_train)*0.9):]\n",
        "\n",
        "In_Train = IN_train[:int(len(IN_train)*0.9)]\n",
        "In_val = IN_train[int(len(IN_train)*0.9):]\n",
        "\n",
        "Tw_Train = FB_train[:int(len(TW_train)*0.9)]\n",
        "Tw_val = FB_train[int(len(TW_train)*0.9):]"
      ],
      "metadata": {
        "id": "RVKKILUsTx2x"
      },
      "id": "RVKKILUsTx2x",
      "execution_count": 9,
      "outputs": []
    },
    {
      "cell_type": "code",
      "source": [
        "len(Fb_Train)\n",
        "# len(Fb_val)"
      ],
      "metadata": {
        "colab": {
          "base_uri": "https://localhost:8080/"
        },
        "id": "EeoZUPdbNgLX",
        "outputId": "9f5aa4e7-abfb-4097-e1c7-e57d41d789bb"
      },
      "id": "EeoZUPdbNgLX",
      "execution_count": 13,
      "outputs": [
        {
          "output_type": "execute_result",
          "data": {
            "text/plain": [
              "2305"
            ]
          },
          "metadata": {},
          "execution_count": 13
        }
      ]
    },
    {
      "cell_type": "code",
      "source": [
        "Fb_val_loader = data_utils.DataLoader(Fb_val, batch_size = 100, shuffle = False)\n",
        "Tw_val_loader = data_utils.DataLoader(Tw_val, batch_size = 100, shuffle = False)\n",
        "In_val_loader = data_utils.DataLoader(In_val, batch_size = 100, shuffle = False)"
      ],
      "metadata": {
        "id": "JbWjUt_YthHQ"
      },
      "id": "JbWjUt_YthHQ",
      "execution_count": 20,
      "outputs": []
    },
    {
      "cell_type": "code",
      "source": [
        "class Net(nn.Module):\n",
        "    def __init__(self,l1=16,l2=10):\n",
        "        super(Net,self).__init__() \n",
        "        self.encoder = nn.Sequential(\n",
        "            nn.Linear(23, l1), # (N, 784) -> (N, 128)\n",
        "            nn.ReLU(),\n",
        "            nn.Linear(l1, l2)\n",
        "            )\n",
        "        \n",
        "        self.decoder = nn.Sequential(\n",
        "            nn.Linear(l2, l1),\n",
        "            nn.ReLU(),\n",
        "            nn.Linear(l1, 23),\n",
        "            nn.ReLU()\n",
        "        )\n",
        "\n",
        "    def forward(self, x):\n",
        "        encoded = self.encoder(x)\n",
        "        decoded = self.decoder(encoded)\n",
        "        return decoded\n",
        "    def encode(self,x):\n",
        "      return self.encoder(x)  "
      ],
      "metadata": {
        "id": "WMdlfgcmjYSr"
      },
      "id": "WMdlfgcmjYSr",
      "execution_count": 21,
      "outputs": []
    },
    {
      "cell_type": "code",
      "source": [
        "config = {\n",
        "        \"Weight_decay\": [0.1,0.01,0.001],\n",
        "        \"lr\": [0.01,0.1],\n",
        "        # \"batch_size\": [100,128,200]\n",
        "        \"batch_size\": [16,32,64,128]\n",
        "    }"
      ],
      "metadata": {
        "id": "v1o_yK6umbUh"
      },
      "id": "v1o_yK6umbUh",
      "execution_count": 22,
      "outputs": []
    },
    {
      "cell_type": "code",
      "source": [
        "\n"
      ],
      "metadata": {
        "id": "uiG8_fIcvbNl"
      },
      "id": "uiG8_fIcvbNl",
      "execution_count": 22,
      "outputs": []
    },
    {
      "cell_type": "code",
      "source": [
        "def evaluate(model,val_dataloader):\n",
        "\n",
        "    model.eval()\n",
        "    criterion = nn.MSELoss()\n",
        "    losses = 0\n",
        "\n",
        "    with torch.no_grad():\n",
        "      for img in val_dataloader:\n",
        "\n",
        "        recon = model(img)\n",
        "        loss = criterion(recon, img)\n",
        "        losses += loss.item()        \n",
        "\n",
        "    return losses / len(val_dataloader)"
      ],
      "metadata": {
        "id": "RiZiFRsARLjA"
      },
      "id": "RiZiFRsARLjA",
      "execution_count": 23,
      "outputs": []
    },
    {
      "cell_type": "code",
      "source": [
        "def Tune(config,data,val_loader,Platform):\n",
        "  start = time.time()\n",
        "  print(f\"-------  Platform is : {Platform}-------\")\n",
        "  with open(f'/content/Best_model/{Platform}_summary.txt','w') as f:\n",
        "    f.write(f'Start Local Time: {time.ctime()}\\n')\n",
        "  num_epochs = 20\n",
        "  Principle_Val = float('inf')\n",
        "  criterion = nn.MSELoss()\n",
        "  # model = Net()\n",
        "  for lr in config['lr']:\n",
        "    for w_d in config['Weight_decay']:\n",
        "      for b_s in config['batch_size']:\n",
        "        model = Net()\n",
        "        optimizer = torch.optim.Adam(model.parameters(),\n",
        "                          lr=lr, \n",
        "                        weight_decay= w_d)\n",
        "        Train = data_utils.DataLoader(data, batch_size = b_s, shuffle = False)\n",
        "        Best_loss = float('inf')\n",
        "        train_start = time.time()\n",
        "        for epoch in range(num_epochs):\n",
        "          losses = 0.0\n",
        "          for img in Train:\n",
        "\n",
        "            optimizer.zero_grad()\n",
        "            recon = model(img)\n",
        "            loss = criterion(recon, img)\n",
        "\n",
        "            loss.backward()\n",
        "            optimizer.step()\n",
        "            losses += loss.item()\n",
        "         \n",
        "          Val_loss = evaluate(model,val_loader)\n",
        "          if Best_loss > Val_loss:\n",
        "            Best_loss = Val_loss\n",
        "            Best_epoch = epoch\n",
        "            # torch.save(model.state_dict(), f'/content/models/lr{lr}_wd{w_d}_bs{b_s}.pth')\n",
        "          model.train()\n",
        "\n",
        "          # print(\"lr : \", lr,\"  batch_size : \" ,b_s,\"  Weight_decay : \",w_d)\n",
        "          # print(f'Epoch:{epoch+1}, Training Loss:{losses/(len(Train)*b_s):.4f}, Validtion Loss: {Val_loss} ')\n",
        "        if Principle_Val > Best_loss:\n",
        "            Principle_Val = Best_loss\n",
        "            Principle_lr = lr\n",
        "            Principle_wd = w_d\n",
        "            Principle_bs = b_s\n",
        "            Principle_epoch = Best_epoch\n",
        "            torch.save(model.state_dict(), f'/content/Best_model/{Platform}_Best.pth')\n",
        "        with open(f'/content/Best_model/{Platform}summary.txt','a') as f:\n",
        "            f.write(f'lr : {lr}\\tw_d : {w_d}\\tb_s : {b_s}\\tepoch : {Best_epoch}\\tBest_Loss : {Best_loss}\\n')\n",
        "            print(f'lr : {lr}\\tw_d : {w_d}\\tb_s : {b_s}\\tepoch : {Best_epoch}\\tBest_Loss : {Best_loss}\\tTime Taken : {time.time()-train_start}')\n",
        "  \n",
        "  with open(f'/content/Best_model/{Platform}_summary.txt','a') as f:\n",
        "    f.write(f'Principle_lr : {Principle_lr}\\tPrinciple_w_d : {Principle_wd}\\tb_s : {Principle_bs}\\tPrinciple_epoch : {Principle_epoch}\\tPrinciple_Loss : {Principle_Val}\\n')\n",
        "    f.write(f'End Local Time: {time.ctime()}\\n')\n",
        "    Total_Time = time.time() - start\n",
        "    f.write(f'Total Time : {Total_Time} s')\n",
        "    print(f'Principle_lr : {Principle_lr}\\tPrinciple_w_d : {Principle_wd}\\tb_s : {Principle_bs}\\tPrinciple_epoch : {Principle_epoch}\\tPrinciple_Loss : {Principle_Val}')\n",
        "    print(\"Total Time : \",Total_Time,\" s\")\n",
        "    print('\\n\\n')\n"
      ],
      "metadata": {
        "id": "hY7-Z2n4l1q8"
      },
      "id": "hY7-Z2n4l1q8",
      "execution_count": 24,
      "outputs": []
    },
    {
      "cell_type": "code",
      "source": [
        "Tune(config,Fb_Train,Fb_val_loader,\"Facebook\")\n",
        "Tune(config,Tw_Train,Tw_val_loader,\"Twitter\")\n",
        "Tune(config,In_Train,In_val_loader,\"Instagram\")"
      ],
      "metadata": {
        "colab": {
          "base_uri": "https://localhost:8080/"
        },
        "id": "nXHjkanS2z2r",
        "outputId": "48c0326e-2f66-4a44-83ee-1b856ace5d13"
      },
      "id": "nXHjkanS2z2r",
      "execution_count": 25,
      "outputs": [
        {
          "output_type": "stream",
          "name": "stdout",
          "text": [
            "-------  Platform is : Facebook-------\n",
            "lr : 0.01\tw_d : 0.1\tb_s : 16\tepoch : 19\tBest_Loss : 18.27100435892741\tTime Taken : 2.9256129264831543\n",
            "lr : 0.01\tw_d : 0.1\tb_s : 32\tepoch : 19\tBest_Loss : 19.90953191121419\tTime Taken : 1.3924791812896729\n",
            "lr : 0.01\tw_d : 0.1\tb_s : 64\tepoch : 19\tBest_Loss : 26.83017412821452\tTime Taken : 0.8009390830993652\n",
            "lr : 0.01\tw_d : 0.1\tb_s : 128\tepoch : 16\tBest_Loss : 44.890228271484375\tTime Taken : 0.4722912311553955\n",
            "lr : 0.01\tw_d : 0.01\tb_s : 16\tepoch : 18\tBest_Loss : 49.925576527913414\tTime Taken : 2.6016907691955566\n",
            "lr : 0.01\tw_d : 0.01\tb_s : 32\tepoch : 19\tBest_Loss : 139.7996368408203\tTime Taken : 1.3926677703857422\n",
            "lr : 0.01\tw_d : 0.01\tb_s : 64\tepoch : 19\tBest_Loss : 23.481685002644856\tTime Taken : 0.7724993228912354\n",
            "lr : 0.01\tw_d : 0.01\tb_s : 128\tepoch : 19\tBest_Loss : 41.710774739583336\tTime Taken : 0.4715428352355957\n",
            "lr : 0.01\tw_d : 0.001\tb_s : 16\tepoch : 18\tBest_Loss : 29.308215459187824\tTime Taken : 2.597801923751831\n",
            "lr : 0.01\tw_d : 0.001\tb_s : 32\tepoch : 12\tBest_Loss : 133.27345275878906\tTime Taken : 1.384756326675415\n",
            "lr : 0.01\tw_d : 0.001\tb_s : 64\tepoch : 19\tBest_Loss : 66.40685272216797\tTime Taken : 0.769108772277832\n",
            "lr : 0.01\tw_d : 0.001\tb_s : 128\tepoch : 19\tBest_Loss : 148.85171508789062\tTime Taken : 0.48640894889831543\n",
            "lr : 0.1\tw_d : 0.1\tb_s : 16\tepoch : 2\tBest_Loss : 83.97647857666016\tTime Taken : 2.895461082458496\n",
            "lr : 0.1\tw_d : 0.1\tb_s : 32\tepoch : 11\tBest_Loss : 176.76353963216147\tTime Taken : 1.8311526775360107\n",
            "lr : 0.1\tw_d : 0.1\tb_s : 64\tepoch : 17\tBest_Loss : 177.55567932128906\tTime Taken : 0.9602336883544922\n",
            "lr : 0.1\tw_d : 0.1\tb_s : 128\tepoch : 17\tBest_Loss : 177.0354461669922\tTime Taken : 0.48500752449035645\n",
            "lr : 0.1\tw_d : 0.01\tb_s : 16\tepoch : 8\tBest_Loss : 176.7448476155599\tTime Taken : 2.619372606277466\n",
            "lr : 0.1\tw_d : 0.01\tb_s : 32\tepoch : 18\tBest_Loss : 545.0144449869791\tTime Taken : 1.445988655090332\n",
            "lr : 0.1\tw_d : 0.01\tb_s : 64\tepoch : 10\tBest_Loss : 177.06525166829428\tTime Taken : 0.8048150539398193\n",
            "lr : 0.1\tw_d : 0.01\tb_s : 128\tepoch : 11\tBest_Loss : 170.85011291503906\tTime Taken : 0.48460888862609863\n",
            "lr : 0.1\tw_d : 0.001\tb_s : 16\tepoch : 15\tBest_Loss : 2025.0062255859375\tTime Taken : 2.6224441528320312\n",
            "lr : 0.1\tw_d : 0.001\tb_s : 32\tepoch : 17\tBest_Loss : 176.7216796875\tTime Taken : 1.41904616355896\n",
            "lr : 0.1\tw_d : 0.001\tb_s : 64\tepoch : 6\tBest_Loss : 169.44454447428384\tTime Taken : 0.8050689697265625\n",
            "lr : 0.1\tw_d : 0.001\tb_s : 128\tepoch : 18\tBest_Loss : 73.43219757080078\tTime Taken : 0.4736795425415039\n",
            "Principle_lr : 0.01\tPrinciple_w_d : 0.1\tb_s : 16\tPrinciple_epoch : 19\tPrinciple_Loss : 18.27100435892741\n",
            "Total Time :  32.96587944030762  s\n",
            "\n",
            "\n",
            "\n",
            "-------  Platform is : Twitter-------\n",
            "lr : 0.01\tw_d : 0.1\tb_s : 16\tepoch : 16\tBest_Loss : 47.162427266438804\tTime Taken : 2.8070313930511475\n",
            "lr : 0.01\tw_d : 0.1\tb_s : 32\tepoch : 17\tBest_Loss : 43.70622762044271\tTime Taken : 1.526808500289917\n",
            "lr : 0.01\tw_d : 0.1\tb_s : 64\tepoch : 15\tBest_Loss : 19.988282521565754\tTime Taken : 0.8584959506988525\n",
            "lr : 0.01\tw_d : 0.1\tb_s : 128\tepoch : 19\tBest_Loss : 26.19724973042806\tTime Taken : 0.5258150100708008\n",
            "lr : 0.01\tw_d : 0.01\tb_s : 16\tepoch : 5\tBest_Loss : 170.93474324544272\tTime Taken : 2.8382468223571777\n",
            "lr : 0.01\tw_d : 0.01\tb_s : 32\tepoch : 16\tBest_Loss : 22.059245427449543\tTime Taken : 1.5091497898101807\n",
            "lr : 0.01\tw_d : 0.01\tb_s : 64\tepoch : 16\tBest_Loss : 32.75411605834961\tTime Taken : 0.863701343536377\n",
            "lr : 0.01\tw_d : 0.01\tb_s : 128\tepoch : 15\tBest_Loss : 74.78927103678386\tTime Taken : 0.5234699249267578\n",
            "lr : 0.01\tw_d : 0.001\tb_s : 16\tepoch : 6\tBest_Loss : 178.5552012125651\tTime Taken : 2.8697218894958496\n",
            "lr : 0.01\tw_d : 0.001\tb_s : 32\tepoch : 13\tBest_Loss : 38.46533330281576\tTime Taken : 1.5226922035217285\n",
            "lr : 0.01\tw_d : 0.001\tb_s : 64\tepoch : 19\tBest_Loss : 18.165983200073242\tTime Taken : 0.8631837368011475\n",
            "lr : 0.01\tw_d : 0.001\tb_s : 128\tepoch : 19\tBest_Loss : 30.908641815185547\tTime Taken : 0.504727840423584\n",
            "lr : 0.1\tw_d : 0.1\tb_s : 16\tepoch : 12\tBest_Loss : 2045.51025390625\tTime Taken : 2.990539312362671\n",
            "lr : 0.1\tw_d : 0.1\tb_s : 32\tepoch : 2\tBest_Loss : 179.84732055664062\tTime Taken : 1.513702154159546\n",
            "lr : 0.1\tw_d : 0.1\tb_s : 64\tepoch : 19\tBest_Loss : 2045.5657958984375\tTime Taken : 0.845099687576294\n",
            "lr : 0.1\tw_d : 0.1\tb_s : 128\tepoch : 16\tBest_Loss : 96.9844462076823\tTime Taken : 0.5258731842041016\n",
            "lr : 0.1\tw_d : 0.01\tb_s : 16\tepoch : 18\tBest_Loss : 178.57830810546875\tTime Taken : 2.856388807296753\n",
            "lr : 0.1\tw_d : 0.01\tb_s : 32\tepoch : 12\tBest_Loss : 178.57258097330728\tTime Taken : 1.507131814956665\n",
            "lr : 0.1\tw_d : 0.01\tb_s : 64\tepoch : 14\tBest_Loss : 178.9186045328776\tTime Taken : 0.8476922512054443\n",
            "lr : 0.1\tw_d : 0.01\tb_s : 128\tepoch : 16\tBest_Loss : 186.87822469075522\tTime Taken : 0.5224130153656006\n",
            "lr : 0.1\tw_d : 0.001\tb_s : 16\tepoch : 6\tBest_Loss : 178.95684814453125\tTime Taken : 2.8293488025665283\n",
            "lr : 0.1\tw_d : 0.001\tb_s : 32\tepoch : 12\tBest_Loss : 178.63336690266928\tTime Taken : 1.5103785991668701\n",
            "lr : 0.1\tw_d : 0.001\tb_s : 64\tepoch : 8\tBest_Loss : 2045.5530192057292\tTime Taken : 0.865811824798584\n",
            "lr : 0.1\tw_d : 0.001\tb_s : 128\tepoch : 10\tBest_Loss : 153.70267740885416\tTime Taken : 0.5252833366394043\n",
            "Principle_lr : 0.01\tPrinciple_w_d : 0.001\tb_s : 64\tPrinciple_epoch : 19\tPrinciple_Loss : 18.165983200073242\n",
            "Total Time :  34.59510135650635  s\n",
            "\n",
            "\n",
            "\n",
            "-------  Platform is : Instagram-------\n",
            "lr : 0.01\tw_d : 0.1\tb_s : 16\tepoch : 17\tBest_Loss : 66.0947036743164\tTime Taken : 2.618941307067871\n",
            "lr : 0.01\tw_d : 0.1\tb_s : 32\tepoch : 17\tBest_Loss : 66.11461893717448\tTime Taken : 1.419722557067871\n",
            "lr : 0.01\tw_d : 0.1\tb_s : 64\tepoch : 19\tBest_Loss : 25.7510248819987\tTime Taken : 0.7936904430389404\n",
            "lr : 0.01\tw_d : 0.1\tb_s : 128\tepoch : 19\tBest_Loss : 73.08930206298828\tTime Taken : 0.48677802085876465\n",
            "lr : 0.01\tw_d : 0.01\tb_s : 16\tepoch : 18\tBest_Loss : 22.168100357055664\tTime Taken : 2.6344261169433594\n",
            "lr : 0.01\tw_d : 0.01\tb_s : 32\tepoch : 18\tBest_Loss : 36.45804977416992\tTime Taken : 1.4063587188720703\n",
            "lr : 0.01\tw_d : 0.01\tb_s : 64\tepoch : 19\tBest_Loss : 21.806236902872723\tTime Taken : 0.79095458984375\n",
            "lr : 0.01\tw_d : 0.01\tb_s : 128\tepoch : 18\tBest_Loss : 143.21776326497397\tTime Taken : 0.4856703281402588\n",
            "lr : 0.01\tw_d : 0.001\tb_s : 16\tepoch : 19\tBest_Loss : 21.398984909057617\tTime Taken : 2.6582729816436768\n",
            "lr : 0.01\tw_d : 0.001\tb_s : 32\tepoch : 19\tBest_Loss : 161.54708353678384\tTime Taken : 1.4173481464385986\n",
            "lr : 0.01\tw_d : 0.001\tb_s : 64\tepoch : 18\tBest_Loss : 21.203327814737957\tTime Taken : 0.7886865139007568\n",
            "lr : 0.01\tw_d : 0.001\tb_s : 128\tepoch : 19\tBest_Loss : 27.257593154907227\tTime Taken : 0.4716377258300781\n",
            "lr : 0.1\tw_d : 0.1\tb_s : 16\tepoch : 12\tBest_Loss : 177.40975443522134\tTime Taken : 2.5951600074768066\n",
            "lr : 0.1\tw_d : 0.1\tb_s : 32\tepoch : 14\tBest_Loss : 177.26311747233072\tTime Taken : 1.413548469543457\n",
            "lr : 0.1\tw_d : 0.1\tb_s : 64\tepoch : 18\tBest_Loss : 177.28313191731772\tTime Taken : 0.7950184345245361\n",
            "lr : 0.1\tw_d : 0.1\tb_s : 128\tepoch : 19\tBest_Loss : 177.30303446451822\tTime Taken : 0.4747762680053711\n",
            "lr : 0.1\tw_d : 0.01\tb_s : 16\tepoch : 4\tBest_Loss : 177.5797322591146\tTime Taken : 2.617417335510254\n",
            "lr : 0.1\tw_d : 0.01\tb_s : 32\tepoch : 14\tBest_Loss : 460.3358459472656\tTime Taken : 1.401334524154663\n",
            "lr : 0.1\tw_d : 0.01\tb_s : 64\tepoch : 5\tBest_Loss : 80.25391133626302\tTime Taken : 0.8027157783508301\n",
            "lr : 0.1\tw_d : 0.01\tb_s : 128\tepoch : 19\tBest_Loss : 67.76458485921223\tTime Taken : 0.46784377098083496\n",
            "lr : 0.1\tw_d : 0.001\tb_s : 16\tepoch : 12\tBest_Loss : 177.3238321940104\tTime Taken : 2.616978645324707\n",
            "lr : 0.1\tw_d : 0.001\tb_s : 32\tepoch : 5\tBest_Loss : 177.77456665039062\tTime Taken : 1.4119408130645752\n",
            "lr : 0.1\tw_d : 0.001\tb_s : 64\tepoch : 14\tBest_Loss : 66.20182037353516\tTime Taken : 0.7891056537628174\n",
            "lr : 0.1\tw_d : 0.001\tb_s : 128\tepoch : 19\tBest_Loss : 73.93222554524739\tTime Taken : 0.49608492851257324\n",
            "Principle_lr : 0.01\tPrinciple_w_d : 0.001\tb_s : 64\tPrinciple_epoch : 18\tPrinciple_Loss : 21.203327814737957\n",
            "Total Time :  31.895525217056274  s\n",
            "\n",
            "\n",
            "\n"
          ]
        }
      ]
    },
    {
      "cell_type": "code",
      "source": [
        "def Extract_features(model,Data,model_path):\n",
        "  model.load_state_dict(torch.load(model_path,map_location=torch.device('cpu')))\n",
        "  model.eval()\n",
        "  Extracted = model.encode(Data)\n",
        "  print(Extracted.shape)\n",
        "  return Extracted\n",
        "\n",
        "Model = Net()\n",
        "Platforms = {'Facebook':FB_train,'Twitter':TW_train,'Instagram':IN_train}\n",
        "for platform in Platforms.keys():\n",
        "  path = f'/content/Best_model/{platform}_Best.pth'\n",
        "  Extracted_features = Extract_features(Model,Platforms[platform],path)\n",
        "  DF = pd.DataFrame(Extracted_features.detach().numpy())\n",
        "  print(\"Samples match : \",len(QoEs[platform]) == len(DF),\"\\n\")\n",
        "  DF[\"QoE\"] = QoEs[platform]\n",
        "  DF.to_csv(f'/content/{platform}_Bottleneck.csv')"
      ],
      "metadata": {
        "id": "vHBnhNi3XYAy",
        "colab": {
          "base_uri": "https://localhost:8080/"
        },
        "outputId": "46b1663d-4586-478c-a4db-1fea67604610"
      },
      "id": "vHBnhNi3XYAy",
      "execution_count": 37,
      "outputs": [
        {
          "output_type": "stream",
          "name": "stdout",
          "text": [
            "torch.Size([2562, 10])\n",
            "Samples match :  True \n",
            "\n",
            "torch.Size([2706, 10])\n",
            "Samples match :  True \n",
            "\n",
            "torch.Size([2539, 10])\n",
            "Samples match :  True \n",
            "\n"
          ]
        }
      ]
    },
    {
      "cell_type": "code",
      "source": [],
      "metadata": {
        "id": "7sMz-EGPOXYn"
      },
      "id": "7sMz-EGPOXYn",
      "execution_count": 37,
      "outputs": []
    },
    {
      "cell_type": "code",
      "source": [],
      "metadata": {
        "id": "HsfxRu1vPG4K"
      },
      "id": "HsfxRu1vPG4K",
      "execution_count": 37,
      "outputs": []
    },
    {
      "cell_type": "code",
      "source": [],
      "metadata": {
        "id": "iGBDpxmePJx0"
      },
      "id": "iGBDpxmePJx0",
      "execution_count": null,
      "outputs": []
    }
  ],
  "metadata": {
    "colab": {
      "provenance": []
    },
    "kernelspec": {
      "display_name": "pytorch",
      "language": "python",
      "name": "pytorch"
    },
    "language_info": {
      "codemirror_mode": {
        "name": "ipython",
        "version": 3
      },
      "file_extension": ".py",
      "mimetype": "text/x-python",
      "name": "python",
      "nbconvert_exporter": "python",
      "pygments_lexer": "ipython3",
      "version": "3.7.9"
    }
  },
  "nbformat": 4,
  "nbformat_minor": 5
}