{
  "nbformat": 4,
  "nbformat_minor": 0,
  "metadata": {
    "colab": {
      "provenance": [],
      "collapsed_sections": []
    },
    "kernelspec": {
      "name": "python3",
      "display_name": "Python 3"
    },
    "language_info": {
      "name": "python"
    }
  },
  "cells": [
    {
      "cell_type": "markdown",
      "source": [
        "Dowloading and Isntalling dependencies of spark in the next three coding blocks"
      ],
      "metadata": {
        "id": "BI1OoHKVfkd3"
      }
    },
    {
      "cell_type": "code",
      "execution_count": null,
      "metadata": {
        "id": "GdgLslbsQNfQ"
      },
      "outputs": [],
      "source": [
        "!apt-get install openjdk-8-jdk-headless -qq > /dev/null\n",
        "!wget -q http://archive.apache.org/dist/spark/spark-3.1.1/spark-3.1.1-bin-hadoop3.2.tgz\n",
        "!tar xf spark-3.1.1-bin-hadoop3.2.tgz\n",
        "!pip install -q findspark\n"
      ]
    },
    {
      "cell_type": "code",
      "source": [
        "import os\n",
        "os.environ[\"JAVA_HOME\"] = \"/usr/lib/jvm/java-8-openjdk-amd64\"\n",
        "os.environ[\"SPARK_HOME\"] = \"/content/spark-3.1.1-bin-hadoop3.2\""
      ],
      "metadata": {
        "id": "vRCBD5xoQtgE"
      },
      "execution_count": null,
      "outputs": []
    },
    {
      "cell_type": "code",
      "source": [
        "import findspark\n",
        "findspark.init()\n",
        "from pyspark.sql import SparkSession\n",
        "spark = SparkSession.builder.master(\"local[*]\").getOrCreate()\n",
        "spark.conf.set(\"spark.sql.repl.eagerEval.enabled\", True) # Property used to format output tables better\n",
        "spark"
      ],
      "metadata": {
        "colab": {
          "base_uri": "https://localhost:8080/",
          "height": 222
        },
        "id": "Y3F3lSuOQxFo",
        "outputId": "94720bae-9b86-4075-e3a0-8f574c6dafad"
      },
      "execution_count": null,
      "outputs": [
        {
          "output_type": "execute_result",
          "data": {
            "text/plain": [
              "<pyspark.sql.session.SparkSession at 0x7f08cf10e250>"
            ],
            "text/html": [
              "\n",
              "            <div>\n",
              "                <p><b>SparkSession - in-memory</b></p>\n",
              "                \n",
              "        <div>\n",
              "            <p><b>SparkContext</b></p>\n",
              "\n",
              "            <p><a href=\"http://1d2da4967247:4040\">Spark UI</a></p>\n",
              "\n",
              "            <dl>\n",
              "              <dt>Version</dt>\n",
              "                <dd><code>v3.1.1</code></dd>\n",
              "              <dt>Master</dt>\n",
              "                <dd><code>local[*]</code></dd>\n",
              "              <dt>AppName</dt>\n",
              "                <dd><code>pyspark-shell</code></dd>\n",
              "            </dl>\n",
              "        </div>\n",
              "        \n",
              "            </div>\n",
              "        "
            ]
          },
          "metadata": {},
          "execution_count": 3
        }
      ]
    },
    {
      "cell_type": "markdown",
      "source": [
        "Doing imports required"
      ],
      "metadata": {
        "id": "L0ZPd9I-gBOf"
      }
    },
    {
      "cell_type": "code",
      "source": [
        "!pip install -U imbalanced-learn\n",
        "!pip install seaborn\n",
        "from pyspark.sql.functions import col, expr, when\n",
        "import numpy as np\n",
        "import pandas as pd\n",
        "import seaborn as sns\n",
        "sns.set_theme(style=\"whitegrid\")\n",
        "import matplotlib.pyplot as plt \n",
        "import matplotlib as mpl\n",
        "import matplotlib.dates as mdates"
      ],
      "metadata": {
        "id": "XzBb5qcT9MHk",
        "colab": {
          "base_uri": "https://localhost:8080/"
        },
        "outputId": "2b6bbeed-a6c3-4dda-f75d-313d023c965f"
      },
      "execution_count": null,
      "outputs": [
        {
          "output_type": "stream",
          "name": "stdout",
          "text": [
            "Looking in indexes: https://pypi.org/simple, https://us-python.pkg.dev/colab-wheels/public/simple/\n",
            "Requirement already satisfied: imbalanced-learn in /usr/local/lib/python3.7/dist-packages (0.8.1)\n",
            "Collecting imbalanced-learn\n",
            "  Downloading imbalanced_learn-0.9.1-py3-none-any.whl (199 kB)\n",
            "\u001b[K     |████████████████████████████████| 199 kB 13.2 MB/s \n",
            "\u001b[?25hRequirement already satisfied: threadpoolctl>=2.0.0 in /usr/local/lib/python3.7/dist-packages (from imbalanced-learn) (3.1.0)\n",
            "  Downloading imbalanced_learn-0.9.0-py3-none-any.whl (199 kB)\n",
            "\u001b[K     |████████████████████████████████| 199 kB 61.8 MB/s \n",
            "\u001b[?25hRequirement already satisfied: joblib>=0.11 in /usr/local/lib/python3.7/dist-packages (from imbalanced-learn) (1.1.0)\n",
            "Requirement already satisfied: numpy>=1.14.6 in /usr/local/lib/python3.7/dist-packages (from imbalanced-learn) (1.21.6)\n",
            "Requirement already satisfied: scipy>=1.1.0 in /usr/local/lib/python3.7/dist-packages (from imbalanced-learn) (1.7.3)\n",
            "Requirement already satisfied: scikit-learn>=1.0.1 in /usr/local/lib/python3.7/dist-packages (from imbalanced-learn) (1.0.2)\n",
            "Installing collected packages: imbalanced-learn\n",
            "  Attempting uninstall: imbalanced-learn\n",
            "    Found existing installation: imbalanced-learn 0.8.1\n",
            "    Uninstalling imbalanced-learn-0.8.1:\n",
            "      Successfully uninstalled imbalanced-learn-0.8.1\n",
            "Successfully installed imbalanced-learn-0.9.0\n",
            "Looking in indexes: https://pypi.org/simple, https://us-python.pkg.dev/colab-wheels/public/simple/\n",
            "Requirement already satisfied: seaborn in /usr/local/lib/python3.7/dist-packages (0.11.2)\n",
            "Requirement already satisfied: matplotlib>=2.2 in /usr/local/lib/python3.7/dist-packages (from seaborn) (3.2.2)\n",
            "Requirement already satisfied: pandas>=0.23 in /usr/local/lib/python3.7/dist-packages (from seaborn) (1.3.5)\n",
            "Requirement already satisfied: scipy>=1.0 in /usr/local/lib/python3.7/dist-packages (from seaborn) (1.7.3)\n",
            "Requirement already satisfied: numpy>=1.15 in /usr/local/lib/python3.7/dist-packages (from seaborn) (1.21.6)\n",
            "Requirement already satisfied: cycler>=0.10 in /usr/local/lib/python3.7/dist-packages (from matplotlib>=2.2->seaborn) (0.11.0)\n",
            "Requirement already satisfied: python-dateutil>=2.1 in /usr/local/lib/python3.7/dist-packages (from matplotlib>=2.2->seaborn) (2.8.2)\n",
            "Requirement already satisfied: kiwisolver>=1.0.1 in /usr/local/lib/python3.7/dist-packages (from matplotlib>=2.2->seaborn) (1.4.4)\n",
            "Requirement already satisfied: pyparsing!=2.0.4,!=2.1.2,!=2.1.6,>=2.0.1 in /usr/local/lib/python3.7/dist-packages (from matplotlib>=2.2->seaborn) (3.0.9)\n",
            "Requirement already satisfied: typing-extensions in /usr/local/lib/python3.7/dist-packages (from kiwisolver>=1.0.1->matplotlib>=2.2->seaborn) (4.1.1)\n",
            "Requirement already satisfied: pytz>=2017.3 in /usr/local/lib/python3.7/dist-packages (from pandas>=0.23->seaborn) (2022.2.1)\n",
            "Requirement already satisfied: six>=1.5 in /usr/local/lib/python3.7/dist-packages (from python-dateutil>=2.1->matplotlib>=2.2->seaborn) (1.15.0)\n"
          ]
        }
      ]
    },
    {
      "cell_type": "markdown",
      "source": [
        "Reading the contents of the json file, Please paste your link/address here."
      ],
      "metadata": {
        "id": "obcNvnUHgOjH"
      }
    },
    {
      "cell_type": "code",
      "source": [
        "# Please paste the file link here.\n",
        "DF = spark.read.json('/content/sample.json')"
      ],
      "metadata": {
        "id": "xd36cPpvQ07v"
      },
      "execution_count": null,
      "outputs": []
    },
    {
      "cell_type": "markdown",
      "source": [
        "Identifying the Important Attributes for the class labeling."
      ],
      "metadata": {
        "id": "AacSayQvgfct"
      }
    },
    {
      "cell_type": "code",
      "source": [
        "imp_Attributes = ['DownloadSpeed','UploadSpeed','Ping','TTFB']"
      ],
      "metadata": {
        "id": "P168QSCcAbCw"
      },
      "execution_count": null,
      "outputs": []
    },
    {
      "cell_type": "markdown",
      "source": [
        "Defining Function to calculate Median. Finding medians of required attributes."
      ],
      "metadata": {
        "id": "TREPGqa7g8h-"
      }
    },
    {
      "cell_type": "code",
      "source": [
        "def calculate_Median(tdf,At):\n",
        "  tdf = tdf.select(At)\n",
        "  tdf = tdf.na.drop(subset=[At])\n",
        "  count = tdf.count()\n",
        "  tdf = tdf.sort(At)\n",
        "  if count % 2 ==0:\n",
        "    Median = (tdf.select(At).collect()[int(count/2)][0] + tdf.select(At).collect()[int(count/2)-1][0])/2\n",
        "  else:\n",
        "    Median = tdf.select(At).collect()[int((count-1)/2)][0]\n",
        "  return Median\n",
        "\n",
        "Med_DNS = calculate_Median(DF,imp_Attributes[0])\n",
        "Med_UPS = calculate_Median(DF,imp_Attributes[1])\n",
        "Med_Ping = calculate_Median(DF,imp_Attributes[2])\n",
        "Med_TTFB = calculate_Median(DF,imp_Attributes[3])"
      ],
      "metadata": {
        "id": "lgLKzA6xg1MR"
      },
      "execution_count": null,
      "outputs": []
    },
    {
      "cell_type": "code",
      "source": [
        "print (' Median DNS: ',Med_DNS,\"\\n\",'Median UPS: ',Med_UPS,\"\\n\",'Median Ping: ',Med_Ping,\"\\n\",'Median TTFB: ',Med_TTFB )"
      ],
      "metadata": {
        "colab": {
          "base_uri": "https://localhost:8080/"
        },
        "id": "0-ZR8MO9HD3a",
        "outputId": "e2b524b8-9f6e-4c37-f637-948319e84393"
      },
      "execution_count": null,
      "outputs": [
        {
          "output_type": "stream",
          "name": "stdout",
          "text": [
            " Median DNS:  25.516 \n",
            " Median UPS:  5.581 \n",
            " Median Ping:  10.0 \n",
            " Median TTFB:  806\n"
          ]
        }
      ]
    },
    {
      "cell_type": "markdown",
      "source": [
        "All the Attributes to be used are defined here in this list."
      ],
      "metadata": {
        "id": "WjWNlhQLhONJ"
      }
    },
    {
      "cell_type": "code",
      "source": [
        "Attributes = ['Latitude','Longitude','@timestamp','Manufacturer','Model','AppName','SdkVersion','AppVersion',\n",
        "              'AndroidApi','OSVersion','ActiveConnection','WifiBSSID','WifiRssi','WifiLinkSpeed',\n",
        "              'lvl1_name','IP','ASN','ISP','URL','dnsLookup','initialConnection','sslNegotiation',\n",
        "              'TTFB','fullyLoaded','PageloadSpeed','loadEventEnd','documentComplete','Ping',\n",
        "              'DownloadSpeed','UploadSpeed','LteRssi','WcdmaRssi','GsmRssi']\n",
        "# Attributes = ['location','@timestamp','Manufacturer','Model','AppName','SdkVersion','AppVersion',\n",
        "#               'AndroidApi','OSVersion','ActiveConnection','WifiBSSID','WifiRssi','WifiLinkSpeed',\n",
        "#               'lvl1_name','IP','ASN','ISP','URL','dnsLookup','initialConnection','sslNegotiation',\n",
        "#               'TTFB','fullyLoaded','PageloadSpeed','loadEventEnd','documentComplete','Ping',\n",
        "#               'DownloadSpeed','UploadSpeed','LteRssi','WcdmaRssi','GsmRssi']"
      ],
      "metadata": {
        "id": "h8o4wYJx0Bmc"
      },
      "execution_count": null,
      "outputs": []
    },
    {
      "cell_type": "code",
      "source": [
        "df = DF.select(Attributes)"
      ],
      "metadata": {
        "id": "p--yicAb0ZU0"
      },
      "execution_count": null,
      "outputs": []
    },
    {
      "cell_type": "markdown",
      "source": [
        "Visualizing the Attributes in our data to make sure we are using required ones."
      ],
      "metadata": {
        "id": "dZClwwkqhfNf"
      }
    },
    {
      "cell_type": "code",
      "source": [
        "df.columns"
      ],
      "metadata": {
        "colab": {
          "base_uri": "https://localhost:8080/"
        },
        "id": "P-v1WO8F0-Uc",
        "outputId": "02649129-90a0-4f8e-c979-d93c1a58285e"
      },
      "execution_count": null,
      "outputs": [
        {
          "output_type": "execute_result",
          "data": {
            "text/plain": [
              "['Latitude',\n",
              " 'Longitude',\n",
              " '@timestamp',\n",
              " 'Manufacturer',\n",
              " 'Model',\n",
              " 'AppName',\n",
              " 'SdkVersion',\n",
              " 'AppVersion',\n",
              " 'AndroidApi',\n",
              " 'OSVersion',\n",
              " 'ActiveConnection',\n",
              " 'WifiBSSID',\n",
              " 'WifiRssi',\n",
              " 'WifiLinkSpeed',\n",
              " 'lvl1_name',\n",
              " 'IP',\n",
              " 'ASN',\n",
              " 'ISP',\n",
              " 'URL',\n",
              " 'dnsLookup',\n",
              " 'initialConnection',\n",
              " 'sslNegotiation',\n",
              " 'TTFB',\n",
              " 'fullyLoaded',\n",
              " 'PageloadSpeed',\n",
              " 'loadEventEnd',\n",
              " 'documentComplete',\n",
              " 'Ping',\n",
              " 'DownloadSpeed',\n",
              " 'UploadSpeed',\n",
              " 'LteRssi',\n",
              " 'WcdmaRssi',\n",
              " 'GsmRssi']"
            ]
          },
          "metadata": {},
          "execution_count": 122
        }
      ]
    },
    {
      "cell_type": "markdown",
      "source": [
        "Removing Duplicates from the dataset samples."
      ],
      "metadata": {
        "id": "tgO9FWZLhzH6"
      }
    },
    {
      "cell_type": "code",
      "source": [
        "print(\"Checking and Removing Duplicates\\n\",\"Samples before removing:\",df.count())\n",
        "df = df.distinct()\n",
        "print(\"Samples after removing Duplicates:\",df.count())"
      ],
      "metadata": {
        "colab": {
          "base_uri": "https://localhost:8080/"
        },
        "id": "CgX217GKUNDH",
        "outputId": "044a4cfa-90e5-4260-afbf-6a1e2398438e"
      },
      "execution_count": null,
      "outputs": [
        {
          "output_type": "stream",
          "name": "stdout",
          "text": [
            "Checking and Removing Duplicates\n",
            " Samples before removing: 10000\n",
            "Samples after removing Duplicates: 9865\n"
          ]
        }
      ]
    },
    {
      "cell_type": "markdown",
      "source": [
        "Defining the Attributes according to the Action required for NULL values."
      ],
      "metadata": {
        "id": "S26-CwDth9ZI"
      }
    },
    {
      "cell_type": "code",
      "source": [
        "Record_Removing_Attributes = ['Latitude','Longitude','@timestamp','AppName','SdkVersion','AppVersion','AndroidApi','OSVersion','ActiveConnection','lvl1_name','IP','ASN','ISP','URL','Manufacturer','Model']\n",
        "Assign_Zero_Attributes_str = ['WifiBSSID','WifiRssi']\n",
        "Assign_Zero_Attributes = ['WifiLinkSpeed','dnsLookup','initialConnection','sslNegotiation',\n",
        "                         'fullyLoaded','PageloadSpeed','loadEventEnd','documentComplete','LteRssi','WcdmaRssi','GsmRssi']"
      ],
      "metadata": {
        "id": "ktFbDRNu3isX"
      },
      "execution_count": null,
      "outputs": []
    },
    {
      "cell_type": "markdown",
      "source": [
        "Droping rows of NULL values against record removing attributes and with google URL"
      ],
      "metadata": {
        "id": "zAdBNLAQzDFi"
      }
    },
    {
      "cell_type": "code",
      "source": [
        "df = df.na.drop(subset=Record_Removing_Attributes)\n",
        "df = df[df.ActiveConnection != \"\"] # There were some values in this coulum that were empty but not assigned NULL position.\n",
        "df=df.where(df.URL !=\"https://www.google.com.bh\")\n",
        "print(\"Truncated df count will be :\", df.count())"
      ],
      "metadata": {
        "colab": {
          "base_uri": "https://localhost:8080/"
        },
        "id": "tlwNoTGiSXBq",
        "outputId": "b03ee4ea-5065-433f-f7a6-c308ab1927b6"
      },
      "execution_count": null,
      "outputs": [
        {
          "output_type": "stream",
          "name": "stdout",
          "text": [
            "Truncated df count will be : 2214\n"
          ]
        }
      ]
    },
    {
      "cell_type": "code",
      "source": [
        "print('Before replacing values')\n",
        "df"
      ],
      "metadata": {
        "colab": {
          "base_uri": "https://localhost:8080/",
          "height": 968
        },
        "id": "P4v48nGw9H6j",
        "outputId": "29af552d-cc63-4566-d30b-062a913e4f65"
      },
      "execution_count": null,
      "outputs": [
        {
          "output_type": "stream",
          "name": "stdout",
          "text": [
            "Before replacing values\n"
          ]
        },
        {
          "output_type": "execute_result",
          "data": {
            "text/plain": [
              "+--------+---------+--------------------+------------+-------------+--------------------+----------+----------+----------+---------+----------------+-----------------+--------+-------------+--------------------+---------------+-----+-------------------+--------------------+---------+-----------------+--------------+----+-----------+-------------+------------+----------------+----+-------------+-----------+-------+---------+-------+\n",
              "|Latitude|Longitude|          @timestamp|Manufacturer|        Model|             AppName|SdkVersion|AppVersion|AndroidApi|OSVersion|ActiveConnection|        WifiBSSID|WifiRssi|WifiLinkSpeed|           lvl1_name|             IP|  ASN|                ISP|                 URL|dnsLookup|initialConnection|sslNegotiation|TTFB|fullyLoaded|PageloadSpeed|loadEventEnd|documentComplete|Ping|DownloadSpeed|UploadSpeed|LteRssi|WcdmaRssi|GsmRssi|\n",
              "+--------+---------+--------------------+------------+-------------+--------------------+----------+----------+----------+---------+----------------+-----------------+--------+-------------+--------------------+---------------+-----+-------------------+--------------------+---------+-----------------+--------------+----+-----------+-------------+------------+----------------+----+-------------+-----------+-------+---------+-------+\n",
              "| 26.2129| 50.58673|2022-01-14T23:20:...|       RAVOZ|RAVOZ Z3 Lite|com.speedchecker....|4.2.140-sh|    1.0.58|        30|       11|            WIFI|bc:0f:9a:7c:f4:46|     -65|           26| Capital Governorate|   88.201.0.229| 5416|            Batelco|https://mobile.tw...|        0|                0|             0| 499|       1590|    0.3011183|           0|               0|10.0|       25.516|      5.581|      0|        0|      0|\n",
              "|26.16837| 50.61715|2022-01-15T02:56:...|     samsung|     SM-A525F|com.speedchecker....|4.2.140-sh| 1.0.56-bh|        30|       11|              4G|                0|       0|            0| Capital Governorate|109.161.146.130|31452|Zain Bahrain B.s.c.|https://mobile.tw...|        0|                0|             0| 674|       5051|   1.95153213|           0|               0|10.0|       25.516|      5.581|    -59|        0|      0|\n",
              "|26.17706| 50.60549|2022-01-15T04:13:...|     samsung|     SM-G930V|com.speedchecker....|4.2.140-sh| 1.0.56-bh|        24|      7.0|            WIFI|b2:55:08:88:8d:70|     -55|           72| Capital Governorate|    94.76.8.123|51375|        stc Bahrain|https://mobile.tw...|        0|                0|             0| 277|       1233|     0.316082|           0|               0|10.0|       25.516|      5.581|      0|        0|      0|\n",
              "|26.13697| 50.58889|2022-01-15T10:17:...|     samsung|     SM-J500F|com.trabhr.tracon...|   4.2.109|     1.1.7|        22|    5.1.1|            WIFI|fc:73:fb:27:3b:ac|     -82|            9|Southern Governorate| 84.255.153.231| 5416|            Batelco|https://www.faceb...|        0|                0|             0| 691|       4219|     4.490592|        4185|            4158|10.0|       25.516|      5.581|      0|        0|      0|\n",
              "| 26.1535| 50.61672|2022-01-15T10:35:...|        OPPO|      CPH1909|com.speedchecker....|4.2.140-sh| 1.0.56-bh|        27|    8.1.0|              4G|                0|       0|            0| Capital Governorate| 109.161.208.39|31452|Zain Bahrain B.s.c.|https://www.faceb...|        0|                0|             0|1273|       4192|     3.672409|        4071|            4040|10.0|       25.516|      5.581|      0|        0|      0|\n",
              "|26.11502| 50.56627|2022-01-15T10:52:...|     samsung|     SM-N976Q|com.speedchecker....|4.2.140-sh| 1.0.56-bh|        30|       11|            WIFI|                0|     -34|          115|Southern Governorate| 37.131.125.116|51375|        stc Bahrain|https://mobile.tw...|        0|                0|             0|1064|       8310|     8.730547|        8299|            8299|10.0|       25.516|      5.581|      0|        0|      0|\n",
              "|26.20181| 50.53449|2022-01-15T13:05:...|     samsung|     SM-J250F|com.speedchecker....|   4.2.121| 1.0.51-bh|        25|    7.1.1|            WIFI|02:34:b2:82:8c:c1|     -22|           72| Capital Governorate| 109.161.218.98|31452|Zain Bahrain B.s.c.|https://www.insta...|        6|              245|           245| 735|       3280|   108.086975|        3228|            3221|10.0|       25.516|      5.581|      0|        0|      0|\n",
              "|26.16404| 50.55501|2022-01-14T18:38:...|     samsung|     SM-N9005|uk.co.broadbandsp...|   4.2.112|    2.6.54|        19|    4.4.2|            WIFI|b6:49:0f:c6:26:a1|     -41|           72|Southern Governorate|   94.76.22.123|51375|        stc Bahrain|https://mobile.tw...|       57|              443|           328| 849|        950|  0.316759646|         922|             922|10.0|       25.516|      5.581|      0|        0|      0|\n",
              "|26.23591| 50.57594|2022-01-14T18:50:...|     samsung|     SM-J415F|com.speedchecker....|   4.2.136| 1.0.54-bh|        28|        9|              3G|                0|       0|            0| Capital Governorate| 37.131.121.236|51375|        stc Bahrain|https://www.faceb...|        0|                0|             0| 157|       2482|    0.5448574|           0|               0|10.0|       25.516|      5.581|      0|        0|      0|\n",
              "|26.26772|  50.6559|2022-01-14T20:29:...|      HUAWEI|     INE-LX1r|com.speedchecker....|   4.2.114| 1.0.49-bh|        28|        9|            WIFI|18:3d:5e:6b:f3:9a|     -61|          135|Muharraq Governorate| 217.17.241.100| 5416|            Batelco|https://mobile.tw...|        0|                0|             0| 806|          0|          0.0|           0|               0|10.0|       25.516|      5.581|      0|        0|      0|\n",
              "|26.17297|50.469593|2022-01-14T20:36:...|      HUAWEI|      ELS-NX9|com.speedchecker....|    4.2.76|    1.0.30|        29|       10|            WIFI|02:00:00:00:00:00|     -66|           78|Northern Governorate|   109.63.6.212|51375|        stc Bahrain|https://mobile.tw...|        0|                0|             0| 949|       2360|   40.6850433|           0|               0|10.0|       25.516|      5.581|      0|        0|      0|\n",
              "|26.26581| 50.65832|2022-01-14T20:40:...|      HUAWEI|      JKM-LX1|com.speedchecker....|4.2.140-sh| 1.0.56-bh|        28|        9|            WIFI|f4:e5:f2:03:de:44|     -52|           65|Muharraq Governorate|   89.148.2.150| 5416|            Batelco|https://www.faceb...|        0|                0|             0| 647|       2893|   4.72843552|        2548|            2534|10.0|       25.516|      5.581|      0|        0|      0|\n",
              "|26.23902|  50.5385|2022-01-15T00:09:...|     samsung|     SM-N920C|com.speedchecker....|4.2.140-sh| 1.0.56-bh|        24|      7.0|            WIFI|70:5a:ac:6c:2b:5c|     -26|           72| Capital Governorate|   88.201.6.174| 5416|            Batelco|https://www.insta...|       72|              140|           140| 849|       1762|  0.497440577|        1734|            1731|10.0|       25.516|      5.581|      0|        0|      0|\n",
              "|26.22799| 50.59696|2022-01-15T00:47:...|     samsung|     SM-N920C|com.speedchecker....|4.2.140-sh| 1.0.56-bh|        24|      7.0|            WIFI|70:5a:ac:6c:2b:5c|     -37|           72| Capital Governorate|   88.201.6.174| 5416|            Batelco|https://www.insta...|      307|              263|           263|1854|       3437|  0.408265769|        3405|            3401|10.0|       25.516|      5.581|      0|        0|      0|\n",
              "|26.13193| 50.49372|2022-01-15T00:57:...|     samsung|     SM-N960F|com.trabhr.tracon...|   4.2.109|     1.1.7|        29|       10|            WIFI|68:ff:7b:25:c1:8b|     -57|          526|Northern Governorate|  77.69.203.121| 5416|            Batelco|https://www.faceb...|        0|                0|             0| 922|       3938|     7.774451|        3883|            3847|10.0|       25.516|      5.581|      0|        0|      0|\n",
              "|26.05597|  50.4942|2022-01-15T02:48:...|     samsung|     SM-J200F|uk.co.broadbandsp...|   4.2.112|    2.6.54|        22|    5.1.1|              3G|                0|       0|            0|Southern Governorate|109.161.208.108|31452|Zain Bahrain B.s.c.|https://mobile.tw...|        0|                0|             0|1014|       3569|     2.178227|           0|               0|10.0|       25.516|      5.581|      0|        0|      0|\n",
              "|26.27879| 50.60963|2022-01-15T03:19:...|     samsung|     SM-A125F|com.speedchecker....|   4.2.121| 1.0.51-bh|        30|       11|            WIFI|6a:b2:1f:34:30:bb|     -42|           65|Muharraq Governorate|    88.201.6.30| 5416|            Batelco|https://www.insta...|       58|              305|           305|2616|       4536|  0.803232551|        4466|            4458|10.0|       25.516|      5.581|      0|        0|      0|\n",
              "|26.23298| 50.56557|2022-01-15T03:43:...|     samsung|     SM-A125F|com.speedchecker....|   4.2.121| 1.0.51-bh|        30|       11|            WIFI|6a:b2:1f:34:30:bb|     -38|           65| Capital Governorate|    88.201.6.30| 5416|            Batelco|https://mobile.tw...|        0|                0|             0| 557|       2086| 0.0116547775|           0|               0|10.0|       25.516|      5.581|      0|        0|      0|\n",
              "|26.22186| 50.53577|2022-01-15T04:22:...|     samsung|     SM-G975F|com.speedchecker....|4.2.140-sh| 1.0.56-bh|        30|       11|              4G|                0|       0|            0| Capital Governorate|   88.201.6.154| 5416|            Batelco|https://mobile.tw...|        0|                0|             0| 704|       3933|   11.4060211|        3914|            3908|10.0|       25.516|      5.581|      0|        0|      0|\n",
              "|26.22968|  50.5647|2022-01-15T06:39:...|     samsung|     SM-N9005|com.speedchecker....|   4.2.136| 1.0.54-bh|        21|      5.0|              4G|                0|       0|            0| Capital Governorate|  37.131.115.97|51375|        stc Bahrain|https://www.faceb...|        0|                0|             0| 740|       2908|   0.31838733|        2852|            2746|10.0|       25.516|      5.581|      0|        0|      0|\n",
              "+--------+---------+--------------------+------------+-------------+--------------------+----------+----------+----------+---------+----------------+-----------------+--------+-------------+--------------------+---------------+-----+-------------------+--------------------+---------+-----------------+--------------+----+-----------+-------------+------------+----------------+----+-------------+-----------+-------+---------+-------+\n",
              "only showing top 20 rows"
            ],
            "text/html": [
              "<table border='1'>\n",
              "<tr><th>Latitude</th><th>Longitude</th><th>@timestamp</th><th>Manufacturer</th><th>Model</th><th>AppName</th><th>SdkVersion</th><th>AppVersion</th><th>AndroidApi</th><th>OSVersion</th><th>ActiveConnection</th><th>WifiBSSID</th><th>WifiRssi</th><th>WifiLinkSpeed</th><th>lvl1_name</th><th>IP</th><th>ASN</th><th>ISP</th><th>URL</th><th>dnsLookup</th><th>initialConnection</th><th>sslNegotiation</th><th>TTFB</th><th>fullyLoaded</th><th>PageloadSpeed</th><th>loadEventEnd</th><th>documentComplete</th><th>Ping</th><th>DownloadSpeed</th><th>UploadSpeed</th><th>LteRssi</th><th>WcdmaRssi</th><th>GsmRssi</th></tr>\n",
              "<tr><td>26.2129</td><td>50.58673</td><td>2022-01-14T23:20:...</td><td>RAVOZ</td><td>RAVOZ Z3 Lite</td><td>com.speedchecker....</td><td>4.2.140-sh</td><td>1.0.58</td><td>30</td><td>11</td><td>WIFI</td><td>bc:0f:9a:7c:f4:46</td><td>-65</td><td>26</td><td>Capital Governorate</td><td>88.201.0.229</td><td>5416</td><td>Batelco</td><td>https://mobile.tw...</td><td>0</td><td>0</td><td>0</td><td>499</td><td>1590</td><td>0.3011183</td><td>0</td><td>0</td><td>10.0</td><td>25.516</td><td>5.581</td><td>0</td><td>0</td><td>0</td></tr>\n",
              "<tr><td>26.16837</td><td>50.61715</td><td>2022-01-15T02:56:...</td><td>samsung</td><td>SM-A525F</td><td>com.speedchecker....</td><td>4.2.140-sh</td><td>1.0.56-bh</td><td>30</td><td>11</td><td>4G</td><td>0</td><td>0</td><td>0</td><td>Capital Governorate</td><td>109.161.146.130</td><td>31452</td><td>Zain Bahrain B.s.c.</td><td>https://mobile.tw...</td><td>0</td><td>0</td><td>0</td><td>674</td><td>5051</td><td>1.95153213</td><td>0</td><td>0</td><td>10.0</td><td>25.516</td><td>5.581</td><td>-59</td><td>0</td><td>0</td></tr>\n",
              "<tr><td>26.17706</td><td>50.60549</td><td>2022-01-15T04:13:...</td><td>samsung</td><td>SM-G930V</td><td>com.speedchecker....</td><td>4.2.140-sh</td><td>1.0.56-bh</td><td>24</td><td>7.0</td><td>WIFI</td><td>b2:55:08:88:8d:70</td><td>-55</td><td>72</td><td>Capital Governorate</td><td>94.76.8.123</td><td>51375</td><td>stc Bahrain</td><td>https://mobile.tw...</td><td>0</td><td>0</td><td>0</td><td>277</td><td>1233</td><td>0.316082</td><td>0</td><td>0</td><td>10.0</td><td>25.516</td><td>5.581</td><td>0</td><td>0</td><td>0</td></tr>\n",
              "<tr><td>26.13697</td><td>50.58889</td><td>2022-01-15T10:17:...</td><td>samsung</td><td>SM-J500F</td><td>com.trabhr.tracon...</td><td>4.2.109</td><td>1.1.7</td><td>22</td><td>5.1.1</td><td>WIFI</td><td>fc:73:fb:27:3b:ac</td><td>-82</td><td>9</td><td>Southern Governorate</td><td>84.255.153.231</td><td>5416</td><td>Batelco</td><td>https://www.faceb...</td><td>0</td><td>0</td><td>0</td><td>691</td><td>4219</td><td>4.490592</td><td>4185</td><td>4158</td><td>10.0</td><td>25.516</td><td>5.581</td><td>0</td><td>0</td><td>0</td></tr>\n",
              "<tr><td>26.1535</td><td>50.61672</td><td>2022-01-15T10:35:...</td><td>OPPO</td><td>CPH1909</td><td>com.speedchecker....</td><td>4.2.140-sh</td><td>1.0.56-bh</td><td>27</td><td>8.1.0</td><td>4G</td><td>0</td><td>0</td><td>0</td><td>Capital Governorate</td><td>109.161.208.39</td><td>31452</td><td>Zain Bahrain B.s.c.</td><td>https://www.faceb...</td><td>0</td><td>0</td><td>0</td><td>1273</td><td>4192</td><td>3.672409</td><td>4071</td><td>4040</td><td>10.0</td><td>25.516</td><td>5.581</td><td>0</td><td>0</td><td>0</td></tr>\n",
              "<tr><td>26.11502</td><td>50.56627</td><td>2022-01-15T10:52:...</td><td>samsung</td><td>SM-N976Q</td><td>com.speedchecker....</td><td>4.2.140-sh</td><td>1.0.56-bh</td><td>30</td><td>11</td><td>WIFI</td><td>0</td><td>-34</td><td>115</td><td>Southern Governorate</td><td>37.131.125.116</td><td>51375</td><td>stc Bahrain</td><td>https://mobile.tw...</td><td>0</td><td>0</td><td>0</td><td>1064</td><td>8310</td><td>8.730547</td><td>8299</td><td>8299</td><td>10.0</td><td>25.516</td><td>5.581</td><td>0</td><td>0</td><td>0</td></tr>\n",
              "<tr><td>26.20181</td><td>50.53449</td><td>2022-01-15T13:05:...</td><td>samsung</td><td>SM-J250F</td><td>com.speedchecker....</td><td>4.2.121</td><td>1.0.51-bh</td><td>25</td><td>7.1.1</td><td>WIFI</td><td>02:34:b2:82:8c:c1</td><td>-22</td><td>72</td><td>Capital Governorate</td><td>109.161.218.98</td><td>31452</td><td>Zain Bahrain B.s.c.</td><td>https://www.insta...</td><td>6</td><td>245</td><td>245</td><td>735</td><td>3280</td><td>108.086975</td><td>3228</td><td>3221</td><td>10.0</td><td>25.516</td><td>5.581</td><td>0</td><td>0</td><td>0</td></tr>\n",
              "<tr><td>26.16404</td><td>50.55501</td><td>2022-01-14T18:38:...</td><td>samsung</td><td>SM-N9005</td><td>uk.co.broadbandsp...</td><td>4.2.112</td><td>2.6.54</td><td>19</td><td>4.4.2</td><td>WIFI</td><td>b6:49:0f:c6:26:a1</td><td>-41</td><td>72</td><td>Southern Governorate</td><td>94.76.22.123</td><td>51375</td><td>stc Bahrain</td><td>https://mobile.tw...</td><td>57</td><td>443</td><td>328</td><td>849</td><td>950</td><td>0.316759646</td><td>922</td><td>922</td><td>10.0</td><td>25.516</td><td>5.581</td><td>0</td><td>0</td><td>0</td></tr>\n",
              "<tr><td>26.23591</td><td>50.57594</td><td>2022-01-14T18:50:...</td><td>samsung</td><td>SM-J415F</td><td>com.speedchecker....</td><td>4.2.136</td><td>1.0.54-bh</td><td>28</td><td>9</td><td>3G</td><td>0</td><td>0</td><td>0</td><td>Capital Governorate</td><td>37.131.121.236</td><td>51375</td><td>stc Bahrain</td><td>https://www.faceb...</td><td>0</td><td>0</td><td>0</td><td>157</td><td>2482</td><td>0.5448574</td><td>0</td><td>0</td><td>10.0</td><td>25.516</td><td>5.581</td><td>0</td><td>0</td><td>0</td></tr>\n",
              "<tr><td>26.26772</td><td>50.6559</td><td>2022-01-14T20:29:...</td><td>HUAWEI</td><td>INE-LX1r</td><td>com.speedchecker....</td><td>4.2.114</td><td>1.0.49-bh</td><td>28</td><td>9</td><td>WIFI</td><td>18:3d:5e:6b:f3:9a</td><td>-61</td><td>135</td><td>Muharraq Governorate</td><td>217.17.241.100</td><td>5416</td><td>Batelco</td><td>https://mobile.tw...</td><td>0</td><td>0</td><td>0</td><td>806</td><td>0</td><td>0.0</td><td>0</td><td>0</td><td>10.0</td><td>25.516</td><td>5.581</td><td>0</td><td>0</td><td>0</td></tr>\n",
              "<tr><td>26.17297</td><td>50.469593</td><td>2022-01-14T20:36:...</td><td>HUAWEI</td><td>ELS-NX9</td><td>com.speedchecker....</td><td>4.2.76</td><td>1.0.30</td><td>29</td><td>10</td><td>WIFI</td><td>02:00:00:00:00:00</td><td>-66</td><td>78</td><td>Northern Governorate</td><td>109.63.6.212</td><td>51375</td><td>stc Bahrain</td><td>https://mobile.tw...</td><td>0</td><td>0</td><td>0</td><td>949</td><td>2360</td><td>40.6850433</td><td>0</td><td>0</td><td>10.0</td><td>25.516</td><td>5.581</td><td>0</td><td>0</td><td>0</td></tr>\n",
              "<tr><td>26.26581</td><td>50.65832</td><td>2022-01-14T20:40:...</td><td>HUAWEI</td><td>JKM-LX1</td><td>com.speedchecker....</td><td>4.2.140-sh</td><td>1.0.56-bh</td><td>28</td><td>9</td><td>WIFI</td><td>f4:e5:f2:03:de:44</td><td>-52</td><td>65</td><td>Muharraq Governorate</td><td>89.148.2.150</td><td>5416</td><td>Batelco</td><td>https://www.faceb...</td><td>0</td><td>0</td><td>0</td><td>647</td><td>2893</td><td>4.72843552</td><td>2548</td><td>2534</td><td>10.0</td><td>25.516</td><td>5.581</td><td>0</td><td>0</td><td>0</td></tr>\n",
              "<tr><td>26.23902</td><td>50.5385</td><td>2022-01-15T00:09:...</td><td>samsung</td><td>SM-N920C</td><td>com.speedchecker....</td><td>4.2.140-sh</td><td>1.0.56-bh</td><td>24</td><td>7.0</td><td>WIFI</td><td>70:5a:ac:6c:2b:5c</td><td>-26</td><td>72</td><td>Capital Governorate</td><td>88.201.6.174</td><td>5416</td><td>Batelco</td><td>https://www.insta...</td><td>72</td><td>140</td><td>140</td><td>849</td><td>1762</td><td>0.497440577</td><td>1734</td><td>1731</td><td>10.0</td><td>25.516</td><td>5.581</td><td>0</td><td>0</td><td>0</td></tr>\n",
              "<tr><td>26.22799</td><td>50.59696</td><td>2022-01-15T00:47:...</td><td>samsung</td><td>SM-N920C</td><td>com.speedchecker....</td><td>4.2.140-sh</td><td>1.0.56-bh</td><td>24</td><td>7.0</td><td>WIFI</td><td>70:5a:ac:6c:2b:5c</td><td>-37</td><td>72</td><td>Capital Governorate</td><td>88.201.6.174</td><td>5416</td><td>Batelco</td><td>https://www.insta...</td><td>307</td><td>263</td><td>263</td><td>1854</td><td>3437</td><td>0.408265769</td><td>3405</td><td>3401</td><td>10.0</td><td>25.516</td><td>5.581</td><td>0</td><td>0</td><td>0</td></tr>\n",
              "<tr><td>26.13193</td><td>50.49372</td><td>2022-01-15T00:57:...</td><td>samsung</td><td>SM-N960F</td><td>com.trabhr.tracon...</td><td>4.2.109</td><td>1.1.7</td><td>29</td><td>10</td><td>WIFI</td><td>68:ff:7b:25:c1:8b</td><td>-57</td><td>526</td><td>Northern Governorate</td><td>77.69.203.121</td><td>5416</td><td>Batelco</td><td>https://www.faceb...</td><td>0</td><td>0</td><td>0</td><td>922</td><td>3938</td><td>7.774451</td><td>3883</td><td>3847</td><td>10.0</td><td>25.516</td><td>5.581</td><td>0</td><td>0</td><td>0</td></tr>\n",
              "<tr><td>26.05597</td><td>50.4942</td><td>2022-01-15T02:48:...</td><td>samsung</td><td>SM-J200F</td><td>uk.co.broadbandsp...</td><td>4.2.112</td><td>2.6.54</td><td>22</td><td>5.1.1</td><td>3G</td><td>0</td><td>0</td><td>0</td><td>Southern Governorate</td><td>109.161.208.108</td><td>31452</td><td>Zain Bahrain B.s.c.</td><td>https://mobile.tw...</td><td>0</td><td>0</td><td>0</td><td>1014</td><td>3569</td><td>2.178227</td><td>0</td><td>0</td><td>10.0</td><td>25.516</td><td>5.581</td><td>0</td><td>0</td><td>0</td></tr>\n",
              "<tr><td>26.27879</td><td>50.60963</td><td>2022-01-15T03:19:...</td><td>samsung</td><td>SM-A125F</td><td>com.speedchecker....</td><td>4.2.121</td><td>1.0.51-bh</td><td>30</td><td>11</td><td>WIFI</td><td>6a:b2:1f:34:30:bb</td><td>-42</td><td>65</td><td>Muharraq Governorate</td><td>88.201.6.30</td><td>5416</td><td>Batelco</td><td>https://www.insta...</td><td>58</td><td>305</td><td>305</td><td>2616</td><td>4536</td><td>0.803232551</td><td>4466</td><td>4458</td><td>10.0</td><td>25.516</td><td>5.581</td><td>0</td><td>0</td><td>0</td></tr>\n",
              "<tr><td>26.23298</td><td>50.56557</td><td>2022-01-15T03:43:...</td><td>samsung</td><td>SM-A125F</td><td>com.speedchecker....</td><td>4.2.121</td><td>1.0.51-bh</td><td>30</td><td>11</td><td>WIFI</td><td>6a:b2:1f:34:30:bb</td><td>-38</td><td>65</td><td>Capital Governorate</td><td>88.201.6.30</td><td>5416</td><td>Batelco</td><td>https://mobile.tw...</td><td>0</td><td>0</td><td>0</td><td>557</td><td>2086</td><td>0.0116547775</td><td>0</td><td>0</td><td>10.0</td><td>25.516</td><td>5.581</td><td>0</td><td>0</td><td>0</td></tr>\n",
              "<tr><td>26.22186</td><td>50.53577</td><td>2022-01-15T04:22:...</td><td>samsung</td><td>SM-G975F</td><td>com.speedchecker....</td><td>4.2.140-sh</td><td>1.0.56-bh</td><td>30</td><td>11</td><td>4G</td><td>0</td><td>0</td><td>0</td><td>Capital Governorate</td><td>88.201.6.154</td><td>5416</td><td>Batelco</td><td>https://mobile.tw...</td><td>0</td><td>0</td><td>0</td><td>704</td><td>3933</td><td>11.4060211</td><td>3914</td><td>3908</td><td>10.0</td><td>25.516</td><td>5.581</td><td>0</td><td>0</td><td>0</td></tr>\n",
              "<tr><td>26.22968</td><td>50.5647</td><td>2022-01-15T06:39:...</td><td>samsung</td><td>SM-N9005</td><td>com.speedchecker....</td><td>4.2.136</td><td>1.0.54-bh</td><td>21</td><td>5.0</td><td>4G</td><td>0</td><td>0</td><td>0</td><td>Capital Governorate</td><td>37.131.115.97</td><td>51375</td><td>stc Bahrain</td><td>https://www.faceb...</td><td>0</td><td>0</td><td>0</td><td>740</td><td>2908</td><td>0.31838733</td><td>2852</td><td>2746</td><td>10.0</td><td>25.516</td><td>5.581</td><td>0</td><td>0</td><td>0</td></tr>\n",
              "</table>\n",
              "only showing top 20 rows\n"
            ]
          },
          "metadata": {},
          "execution_count": 168
        }
      ]
    },
    {
      "cell_type": "markdown",
      "source": [
        "Replacement of NULL values with 0 and Medians accordingly"
      ],
      "metadata": {
        "id": "MzccQ39vzi2j"
      }
    },
    {
      "cell_type": "code",
      "source": [
        "df = df.fillna(value = Med_DNS ,subset = imp_Attributes[0])\n",
        "df = df.fillna(value = Med_UPS ,subset = imp_Attributes[1])\n",
        "df = df.fillna(value = Med_Ping ,subset = imp_Attributes[2])\n",
        "df = df.fillna(value = Med_TTFB ,subset = imp_Attributes[3])\n",
        "df = df.fillna(value=0,subset=Assign_Zero_Attributes)\n",
        "df = df.fillna(value='0',subset=Assign_Zero_Attributes_str)\n",
        "print('After replacing values')\n",
        "df"
      ],
      "metadata": {
        "colab": {
          "base_uri": "https://localhost:8080/",
          "height": 968
        },
        "id": "l2sFzAi--NAS",
        "outputId": "4bed3296-58dd-4258-fc68-bb8bedec6604"
      },
      "execution_count": null,
      "outputs": [
        {
          "output_type": "stream",
          "name": "stdout",
          "text": [
            "After replacing values\n"
          ]
        },
        {
          "output_type": "execute_result",
          "data": {
            "text/plain": [
              "+--------+---------+--------------------+------------+-------------+--------------------+----------+----------+----------+---------+----------------+-----------------+--------+-------------+--------------------+---------------+-----+-------------------+--------------------+---------+-----------------+--------------+----+-----------+-------------+------------+----------------+----+-------------+-----------+-------+---------+-------+\n",
              "|Latitude|Longitude|          @timestamp|Manufacturer|        Model|             AppName|SdkVersion|AppVersion|AndroidApi|OSVersion|ActiveConnection|        WifiBSSID|WifiRssi|WifiLinkSpeed|           lvl1_name|             IP|  ASN|                ISP|                 URL|dnsLookup|initialConnection|sslNegotiation|TTFB|fullyLoaded|PageloadSpeed|loadEventEnd|documentComplete|Ping|DownloadSpeed|UploadSpeed|LteRssi|WcdmaRssi|GsmRssi|\n",
              "+--------+---------+--------------------+------------+-------------+--------------------+----------+----------+----------+---------+----------------+-----------------+--------+-------------+--------------------+---------------+-----+-------------------+--------------------+---------+-----------------+--------------+----+-----------+-------------+------------+----------------+----+-------------+-----------+-------+---------+-------+\n",
              "| 26.2129| 50.58673|2022-01-14T23:20:...|       RAVOZ|RAVOZ Z3 Lite|com.speedchecker....|4.2.140-sh|    1.0.58|        30|       11|            WIFI|bc:0f:9a:7c:f4:46|     -65|           26| Capital Governorate|   88.201.0.229| 5416|            Batelco|https://mobile.tw...|        0|                0|             0| 499|       1590|    0.3011183|           0|               0|10.0|       25.516|      5.581|      0|        0|      0|\n",
              "|26.16837| 50.61715|2022-01-15T02:56:...|     samsung|     SM-A525F|com.speedchecker....|4.2.140-sh| 1.0.56-bh|        30|       11|              4G|                0|       0|            0| Capital Governorate|109.161.146.130|31452|Zain Bahrain B.s.c.|https://mobile.tw...|        0|                0|             0| 674|       5051|   1.95153213|           0|               0|10.0|       25.516|      5.581|    -59|        0|      0|\n",
              "|26.17706| 50.60549|2022-01-15T04:13:...|     samsung|     SM-G930V|com.speedchecker....|4.2.140-sh| 1.0.56-bh|        24|      7.0|            WIFI|b2:55:08:88:8d:70|     -55|           72| Capital Governorate|    94.76.8.123|51375|        stc Bahrain|https://mobile.tw...|        0|                0|             0| 277|       1233|     0.316082|           0|               0|10.0|       25.516|      5.581|      0|        0|      0|\n",
              "|26.13697| 50.58889|2022-01-15T10:17:...|     samsung|     SM-J500F|com.trabhr.tracon...|   4.2.109|     1.1.7|        22|    5.1.1|            WIFI|fc:73:fb:27:3b:ac|     -82|            9|Southern Governorate| 84.255.153.231| 5416|            Batelco|https://www.faceb...|        0|                0|             0| 691|       4219|     4.490592|        4185|            4158|10.0|       25.516|      5.581|      0|        0|      0|\n",
              "| 26.1535| 50.61672|2022-01-15T10:35:...|        OPPO|      CPH1909|com.speedchecker....|4.2.140-sh| 1.0.56-bh|        27|    8.1.0|              4G|                0|       0|            0| Capital Governorate| 109.161.208.39|31452|Zain Bahrain B.s.c.|https://www.faceb...|        0|                0|             0|1273|       4192|     3.672409|        4071|            4040|10.0|       25.516|      5.581|      0|        0|      0|\n",
              "|26.11502| 50.56627|2022-01-15T10:52:...|     samsung|     SM-N976Q|com.speedchecker....|4.2.140-sh| 1.0.56-bh|        30|       11|            WIFI|                0|     -34|          115|Southern Governorate| 37.131.125.116|51375|        stc Bahrain|https://mobile.tw...|        0|                0|             0|1064|       8310|     8.730547|        8299|            8299|10.0|       25.516|      5.581|      0|        0|      0|\n",
              "|26.20181| 50.53449|2022-01-15T13:05:...|     samsung|     SM-J250F|com.speedchecker....|   4.2.121| 1.0.51-bh|        25|    7.1.1|            WIFI|02:34:b2:82:8c:c1|     -22|           72| Capital Governorate| 109.161.218.98|31452|Zain Bahrain B.s.c.|https://www.insta...|        6|              245|           245| 735|       3280|   108.086975|        3228|            3221|10.0|       25.516|      5.581|      0|        0|      0|\n",
              "|26.16404| 50.55501|2022-01-14T18:38:...|     samsung|     SM-N9005|uk.co.broadbandsp...|   4.2.112|    2.6.54|        19|    4.4.2|            WIFI|b6:49:0f:c6:26:a1|     -41|           72|Southern Governorate|   94.76.22.123|51375|        stc Bahrain|https://mobile.tw...|       57|              443|           328| 849|        950|  0.316759646|         922|             922|10.0|       25.516|      5.581|      0|        0|      0|\n",
              "|26.23591| 50.57594|2022-01-14T18:50:...|     samsung|     SM-J415F|com.speedchecker....|   4.2.136| 1.0.54-bh|        28|        9|              3G|                0|       0|            0| Capital Governorate| 37.131.121.236|51375|        stc Bahrain|https://www.faceb...|        0|                0|             0| 157|       2482|    0.5448574|           0|               0|10.0|       25.516|      5.581|      0|        0|      0|\n",
              "|26.26772|  50.6559|2022-01-14T20:29:...|      HUAWEI|     INE-LX1r|com.speedchecker....|   4.2.114| 1.0.49-bh|        28|        9|            WIFI|18:3d:5e:6b:f3:9a|     -61|          135|Muharraq Governorate| 217.17.241.100| 5416|            Batelco|https://mobile.tw...|        0|                0|             0| 806|          0|          0.0|           0|               0|10.0|       25.516|      5.581|      0|        0|      0|\n",
              "|26.17297|50.469593|2022-01-14T20:36:...|      HUAWEI|      ELS-NX9|com.speedchecker....|    4.2.76|    1.0.30|        29|       10|            WIFI|02:00:00:00:00:00|     -66|           78|Northern Governorate|   109.63.6.212|51375|        stc Bahrain|https://mobile.tw...|        0|                0|             0| 949|       2360|   40.6850433|           0|               0|10.0|       25.516|      5.581|      0|        0|      0|\n",
              "|26.26581| 50.65832|2022-01-14T20:40:...|      HUAWEI|      JKM-LX1|com.speedchecker....|4.2.140-sh| 1.0.56-bh|        28|        9|            WIFI|f4:e5:f2:03:de:44|     -52|           65|Muharraq Governorate|   89.148.2.150| 5416|            Batelco|https://www.faceb...|        0|                0|             0| 647|       2893|   4.72843552|        2548|            2534|10.0|       25.516|      5.581|      0|        0|      0|\n",
              "|26.23902|  50.5385|2022-01-15T00:09:...|     samsung|     SM-N920C|com.speedchecker....|4.2.140-sh| 1.0.56-bh|        24|      7.0|            WIFI|70:5a:ac:6c:2b:5c|     -26|           72| Capital Governorate|   88.201.6.174| 5416|            Batelco|https://www.insta...|       72|              140|           140| 849|       1762|  0.497440577|        1734|            1731|10.0|       25.516|      5.581|      0|        0|      0|\n",
              "|26.22799| 50.59696|2022-01-15T00:47:...|     samsung|     SM-N920C|com.speedchecker....|4.2.140-sh| 1.0.56-bh|        24|      7.0|            WIFI|70:5a:ac:6c:2b:5c|     -37|           72| Capital Governorate|   88.201.6.174| 5416|            Batelco|https://www.insta...|      307|              263|           263|1854|       3437|  0.408265769|        3405|            3401|10.0|       25.516|      5.581|      0|        0|      0|\n",
              "|26.13193| 50.49372|2022-01-15T00:57:...|     samsung|     SM-N960F|com.trabhr.tracon...|   4.2.109|     1.1.7|        29|       10|            WIFI|68:ff:7b:25:c1:8b|     -57|          526|Northern Governorate|  77.69.203.121| 5416|            Batelco|https://www.faceb...|        0|                0|             0| 922|       3938|     7.774451|        3883|            3847|10.0|       25.516|      5.581|      0|        0|      0|\n",
              "|26.05597|  50.4942|2022-01-15T02:48:...|     samsung|     SM-J200F|uk.co.broadbandsp...|   4.2.112|    2.6.54|        22|    5.1.1|              3G|                0|       0|            0|Southern Governorate|109.161.208.108|31452|Zain Bahrain B.s.c.|https://mobile.tw...|        0|                0|             0|1014|       3569|     2.178227|           0|               0|10.0|       25.516|      5.581|      0|        0|      0|\n",
              "|26.27879| 50.60963|2022-01-15T03:19:...|     samsung|     SM-A125F|com.speedchecker....|   4.2.121| 1.0.51-bh|        30|       11|            WIFI|6a:b2:1f:34:30:bb|     -42|           65|Muharraq Governorate|    88.201.6.30| 5416|            Batelco|https://www.insta...|       58|              305|           305|2616|       4536|  0.803232551|        4466|            4458|10.0|       25.516|      5.581|      0|        0|      0|\n",
              "|26.23298| 50.56557|2022-01-15T03:43:...|     samsung|     SM-A125F|com.speedchecker....|   4.2.121| 1.0.51-bh|        30|       11|            WIFI|6a:b2:1f:34:30:bb|     -38|           65| Capital Governorate|    88.201.6.30| 5416|            Batelco|https://mobile.tw...|        0|                0|             0| 557|       2086| 0.0116547775|           0|               0|10.0|       25.516|      5.581|      0|        0|      0|\n",
              "|26.22186| 50.53577|2022-01-15T04:22:...|     samsung|     SM-G975F|com.speedchecker....|4.2.140-sh| 1.0.56-bh|        30|       11|              4G|                0|       0|            0| Capital Governorate|   88.201.6.154| 5416|            Batelco|https://mobile.tw...|        0|                0|             0| 704|       3933|   11.4060211|        3914|            3908|10.0|       25.516|      5.581|      0|        0|      0|\n",
              "|26.22968|  50.5647|2022-01-15T06:39:...|     samsung|     SM-N9005|com.speedchecker....|   4.2.136| 1.0.54-bh|        21|      5.0|              4G|                0|       0|            0| Capital Governorate|  37.131.115.97|51375|        stc Bahrain|https://www.faceb...|        0|                0|             0| 740|       2908|   0.31838733|        2852|            2746|10.0|       25.516|      5.581|      0|        0|      0|\n",
              "+--------+---------+--------------------+------------+-------------+--------------------+----------+----------+----------+---------+----------------+-----------------+--------+-------------+--------------------+---------------+-----+-------------------+--------------------+---------+-----------------+--------------+----+-----------+-------------+------------+----------------+----+-------------+-----------+-------+---------+-------+\n",
              "only showing top 20 rows"
            ],
            "text/html": [
              "<table border='1'>\n",
              "<tr><th>Latitude</th><th>Longitude</th><th>@timestamp</th><th>Manufacturer</th><th>Model</th><th>AppName</th><th>SdkVersion</th><th>AppVersion</th><th>AndroidApi</th><th>OSVersion</th><th>ActiveConnection</th><th>WifiBSSID</th><th>WifiRssi</th><th>WifiLinkSpeed</th><th>lvl1_name</th><th>IP</th><th>ASN</th><th>ISP</th><th>URL</th><th>dnsLookup</th><th>initialConnection</th><th>sslNegotiation</th><th>TTFB</th><th>fullyLoaded</th><th>PageloadSpeed</th><th>loadEventEnd</th><th>documentComplete</th><th>Ping</th><th>DownloadSpeed</th><th>UploadSpeed</th><th>LteRssi</th><th>WcdmaRssi</th><th>GsmRssi</th></tr>\n",
              "<tr><td>26.2129</td><td>50.58673</td><td>2022-01-14T23:20:...</td><td>RAVOZ</td><td>RAVOZ Z3 Lite</td><td>com.speedchecker....</td><td>4.2.140-sh</td><td>1.0.58</td><td>30</td><td>11</td><td>WIFI</td><td>bc:0f:9a:7c:f4:46</td><td>-65</td><td>26</td><td>Capital Governorate</td><td>88.201.0.229</td><td>5416</td><td>Batelco</td><td>https://mobile.tw...</td><td>0</td><td>0</td><td>0</td><td>499</td><td>1590</td><td>0.3011183</td><td>0</td><td>0</td><td>10.0</td><td>25.516</td><td>5.581</td><td>0</td><td>0</td><td>0</td></tr>\n",
              "<tr><td>26.16837</td><td>50.61715</td><td>2022-01-15T02:56:...</td><td>samsung</td><td>SM-A525F</td><td>com.speedchecker....</td><td>4.2.140-sh</td><td>1.0.56-bh</td><td>30</td><td>11</td><td>4G</td><td>0</td><td>0</td><td>0</td><td>Capital Governorate</td><td>109.161.146.130</td><td>31452</td><td>Zain Bahrain B.s.c.</td><td>https://mobile.tw...</td><td>0</td><td>0</td><td>0</td><td>674</td><td>5051</td><td>1.95153213</td><td>0</td><td>0</td><td>10.0</td><td>25.516</td><td>5.581</td><td>-59</td><td>0</td><td>0</td></tr>\n",
              "<tr><td>26.17706</td><td>50.60549</td><td>2022-01-15T04:13:...</td><td>samsung</td><td>SM-G930V</td><td>com.speedchecker....</td><td>4.2.140-sh</td><td>1.0.56-bh</td><td>24</td><td>7.0</td><td>WIFI</td><td>b2:55:08:88:8d:70</td><td>-55</td><td>72</td><td>Capital Governorate</td><td>94.76.8.123</td><td>51375</td><td>stc Bahrain</td><td>https://mobile.tw...</td><td>0</td><td>0</td><td>0</td><td>277</td><td>1233</td><td>0.316082</td><td>0</td><td>0</td><td>10.0</td><td>25.516</td><td>5.581</td><td>0</td><td>0</td><td>0</td></tr>\n",
              "<tr><td>26.13697</td><td>50.58889</td><td>2022-01-15T10:17:...</td><td>samsung</td><td>SM-J500F</td><td>com.trabhr.tracon...</td><td>4.2.109</td><td>1.1.7</td><td>22</td><td>5.1.1</td><td>WIFI</td><td>fc:73:fb:27:3b:ac</td><td>-82</td><td>9</td><td>Southern Governorate</td><td>84.255.153.231</td><td>5416</td><td>Batelco</td><td>https://www.faceb...</td><td>0</td><td>0</td><td>0</td><td>691</td><td>4219</td><td>4.490592</td><td>4185</td><td>4158</td><td>10.0</td><td>25.516</td><td>5.581</td><td>0</td><td>0</td><td>0</td></tr>\n",
              "<tr><td>26.1535</td><td>50.61672</td><td>2022-01-15T10:35:...</td><td>OPPO</td><td>CPH1909</td><td>com.speedchecker....</td><td>4.2.140-sh</td><td>1.0.56-bh</td><td>27</td><td>8.1.0</td><td>4G</td><td>0</td><td>0</td><td>0</td><td>Capital Governorate</td><td>109.161.208.39</td><td>31452</td><td>Zain Bahrain B.s.c.</td><td>https://www.faceb...</td><td>0</td><td>0</td><td>0</td><td>1273</td><td>4192</td><td>3.672409</td><td>4071</td><td>4040</td><td>10.0</td><td>25.516</td><td>5.581</td><td>0</td><td>0</td><td>0</td></tr>\n",
              "<tr><td>26.11502</td><td>50.56627</td><td>2022-01-15T10:52:...</td><td>samsung</td><td>SM-N976Q</td><td>com.speedchecker....</td><td>4.2.140-sh</td><td>1.0.56-bh</td><td>30</td><td>11</td><td>WIFI</td><td>0</td><td>-34</td><td>115</td><td>Southern Governorate</td><td>37.131.125.116</td><td>51375</td><td>stc Bahrain</td><td>https://mobile.tw...</td><td>0</td><td>0</td><td>0</td><td>1064</td><td>8310</td><td>8.730547</td><td>8299</td><td>8299</td><td>10.0</td><td>25.516</td><td>5.581</td><td>0</td><td>0</td><td>0</td></tr>\n",
              "<tr><td>26.20181</td><td>50.53449</td><td>2022-01-15T13:05:...</td><td>samsung</td><td>SM-J250F</td><td>com.speedchecker....</td><td>4.2.121</td><td>1.0.51-bh</td><td>25</td><td>7.1.1</td><td>WIFI</td><td>02:34:b2:82:8c:c1</td><td>-22</td><td>72</td><td>Capital Governorate</td><td>109.161.218.98</td><td>31452</td><td>Zain Bahrain B.s.c.</td><td>https://www.insta...</td><td>6</td><td>245</td><td>245</td><td>735</td><td>3280</td><td>108.086975</td><td>3228</td><td>3221</td><td>10.0</td><td>25.516</td><td>5.581</td><td>0</td><td>0</td><td>0</td></tr>\n",
              "<tr><td>26.16404</td><td>50.55501</td><td>2022-01-14T18:38:...</td><td>samsung</td><td>SM-N9005</td><td>uk.co.broadbandsp...</td><td>4.2.112</td><td>2.6.54</td><td>19</td><td>4.4.2</td><td>WIFI</td><td>b6:49:0f:c6:26:a1</td><td>-41</td><td>72</td><td>Southern Governorate</td><td>94.76.22.123</td><td>51375</td><td>stc Bahrain</td><td>https://mobile.tw...</td><td>57</td><td>443</td><td>328</td><td>849</td><td>950</td><td>0.316759646</td><td>922</td><td>922</td><td>10.0</td><td>25.516</td><td>5.581</td><td>0</td><td>0</td><td>0</td></tr>\n",
              "<tr><td>26.23591</td><td>50.57594</td><td>2022-01-14T18:50:...</td><td>samsung</td><td>SM-J415F</td><td>com.speedchecker....</td><td>4.2.136</td><td>1.0.54-bh</td><td>28</td><td>9</td><td>3G</td><td>0</td><td>0</td><td>0</td><td>Capital Governorate</td><td>37.131.121.236</td><td>51375</td><td>stc Bahrain</td><td>https://www.faceb...</td><td>0</td><td>0</td><td>0</td><td>157</td><td>2482</td><td>0.5448574</td><td>0</td><td>0</td><td>10.0</td><td>25.516</td><td>5.581</td><td>0</td><td>0</td><td>0</td></tr>\n",
              "<tr><td>26.26772</td><td>50.6559</td><td>2022-01-14T20:29:...</td><td>HUAWEI</td><td>INE-LX1r</td><td>com.speedchecker....</td><td>4.2.114</td><td>1.0.49-bh</td><td>28</td><td>9</td><td>WIFI</td><td>18:3d:5e:6b:f3:9a</td><td>-61</td><td>135</td><td>Muharraq Governorate</td><td>217.17.241.100</td><td>5416</td><td>Batelco</td><td>https://mobile.tw...</td><td>0</td><td>0</td><td>0</td><td>806</td><td>0</td><td>0.0</td><td>0</td><td>0</td><td>10.0</td><td>25.516</td><td>5.581</td><td>0</td><td>0</td><td>0</td></tr>\n",
              "<tr><td>26.17297</td><td>50.469593</td><td>2022-01-14T20:36:...</td><td>HUAWEI</td><td>ELS-NX9</td><td>com.speedchecker....</td><td>4.2.76</td><td>1.0.30</td><td>29</td><td>10</td><td>WIFI</td><td>02:00:00:00:00:00</td><td>-66</td><td>78</td><td>Northern Governorate</td><td>109.63.6.212</td><td>51375</td><td>stc Bahrain</td><td>https://mobile.tw...</td><td>0</td><td>0</td><td>0</td><td>949</td><td>2360</td><td>40.6850433</td><td>0</td><td>0</td><td>10.0</td><td>25.516</td><td>5.581</td><td>0</td><td>0</td><td>0</td></tr>\n",
              "<tr><td>26.26581</td><td>50.65832</td><td>2022-01-14T20:40:...</td><td>HUAWEI</td><td>JKM-LX1</td><td>com.speedchecker....</td><td>4.2.140-sh</td><td>1.0.56-bh</td><td>28</td><td>9</td><td>WIFI</td><td>f4:e5:f2:03:de:44</td><td>-52</td><td>65</td><td>Muharraq Governorate</td><td>89.148.2.150</td><td>5416</td><td>Batelco</td><td>https://www.faceb...</td><td>0</td><td>0</td><td>0</td><td>647</td><td>2893</td><td>4.72843552</td><td>2548</td><td>2534</td><td>10.0</td><td>25.516</td><td>5.581</td><td>0</td><td>0</td><td>0</td></tr>\n",
              "<tr><td>26.23902</td><td>50.5385</td><td>2022-01-15T00:09:...</td><td>samsung</td><td>SM-N920C</td><td>com.speedchecker....</td><td>4.2.140-sh</td><td>1.0.56-bh</td><td>24</td><td>7.0</td><td>WIFI</td><td>70:5a:ac:6c:2b:5c</td><td>-26</td><td>72</td><td>Capital Governorate</td><td>88.201.6.174</td><td>5416</td><td>Batelco</td><td>https://www.insta...</td><td>72</td><td>140</td><td>140</td><td>849</td><td>1762</td><td>0.497440577</td><td>1734</td><td>1731</td><td>10.0</td><td>25.516</td><td>5.581</td><td>0</td><td>0</td><td>0</td></tr>\n",
              "<tr><td>26.22799</td><td>50.59696</td><td>2022-01-15T00:47:...</td><td>samsung</td><td>SM-N920C</td><td>com.speedchecker....</td><td>4.2.140-sh</td><td>1.0.56-bh</td><td>24</td><td>7.0</td><td>WIFI</td><td>70:5a:ac:6c:2b:5c</td><td>-37</td><td>72</td><td>Capital Governorate</td><td>88.201.6.174</td><td>5416</td><td>Batelco</td><td>https://www.insta...</td><td>307</td><td>263</td><td>263</td><td>1854</td><td>3437</td><td>0.408265769</td><td>3405</td><td>3401</td><td>10.0</td><td>25.516</td><td>5.581</td><td>0</td><td>0</td><td>0</td></tr>\n",
              "<tr><td>26.13193</td><td>50.49372</td><td>2022-01-15T00:57:...</td><td>samsung</td><td>SM-N960F</td><td>com.trabhr.tracon...</td><td>4.2.109</td><td>1.1.7</td><td>29</td><td>10</td><td>WIFI</td><td>68:ff:7b:25:c1:8b</td><td>-57</td><td>526</td><td>Northern Governorate</td><td>77.69.203.121</td><td>5416</td><td>Batelco</td><td>https://www.faceb...</td><td>0</td><td>0</td><td>0</td><td>922</td><td>3938</td><td>7.774451</td><td>3883</td><td>3847</td><td>10.0</td><td>25.516</td><td>5.581</td><td>0</td><td>0</td><td>0</td></tr>\n",
              "<tr><td>26.05597</td><td>50.4942</td><td>2022-01-15T02:48:...</td><td>samsung</td><td>SM-J200F</td><td>uk.co.broadbandsp...</td><td>4.2.112</td><td>2.6.54</td><td>22</td><td>5.1.1</td><td>3G</td><td>0</td><td>0</td><td>0</td><td>Southern Governorate</td><td>109.161.208.108</td><td>31452</td><td>Zain Bahrain B.s.c.</td><td>https://mobile.tw...</td><td>0</td><td>0</td><td>0</td><td>1014</td><td>3569</td><td>2.178227</td><td>0</td><td>0</td><td>10.0</td><td>25.516</td><td>5.581</td><td>0</td><td>0</td><td>0</td></tr>\n",
              "<tr><td>26.27879</td><td>50.60963</td><td>2022-01-15T03:19:...</td><td>samsung</td><td>SM-A125F</td><td>com.speedchecker....</td><td>4.2.121</td><td>1.0.51-bh</td><td>30</td><td>11</td><td>WIFI</td><td>6a:b2:1f:34:30:bb</td><td>-42</td><td>65</td><td>Muharraq Governorate</td><td>88.201.6.30</td><td>5416</td><td>Batelco</td><td>https://www.insta...</td><td>58</td><td>305</td><td>305</td><td>2616</td><td>4536</td><td>0.803232551</td><td>4466</td><td>4458</td><td>10.0</td><td>25.516</td><td>5.581</td><td>0</td><td>0</td><td>0</td></tr>\n",
              "<tr><td>26.23298</td><td>50.56557</td><td>2022-01-15T03:43:...</td><td>samsung</td><td>SM-A125F</td><td>com.speedchecker....</td><td>4.2.121</td><td>1.0.51-bh</td><td>30</td><td>11</td><td>WIFI</td><td>6a:b2:1f:34:30:bb</td><td>-38</td><td>65</td><td>Capital Governorate</td><td>88.201.6.30</td><td>5416</td><td>Batelco</td><td>https://mobile.tw...</td><td>0</td><td>0</td><td>0</td><td>557</td><td>2086</td><td>0.0116547775</td><td>0</td><td>0</td><td>10.0</td><td>25.516</td><td>5.581</td><td>0</td><td>0</td><td>0</td></tr>\n",
              "<tr><td>26.22186</td><td>50.53577</td><td>2022-01-15T04:22:...</td><td>samsung</td><td>SM-G975F</td><td>com.speedchecker....</td><td>4.2.140-sh</td><td>1.0.56-bh</td><td>30</td><td>11</td><td>4G</td><td>0</td><td>0</td><td>0</td><td>Capital Governorate</td><td>88.201.6.154</td><td>5416</td><td>Batelco</td><td>https://mobile.tw...</td><td>0</td><td>0</td><td>0</td><td>704</td><td>3933</td><td>11.4060211</td><td>3914</td><td>3908</td><td>10.0</td><td>25.516</td><td>5.581</td><td>0</td><td>0</td><td>0</td></tr>\n",
              "<tr><td>26.22968</td><td>50.5647</td><td>2022-01-15T06:39:...</td><td>samsung</td><td>SM-N9005</td><td>com.speedchecker....</td><td>4.2.136</td><td>1.0.54-bh</td><td>21</td><td>5.0</td><td>4G</td><td>0</td><td>0</td><td>0</td><td>Capital Governorate</td><td>37.131.115.97</td><td>51375</td><td>stc Bahrain</td><td>https://www.faceb...</td><td>0</td><td>0</td><td>0</td><td>740</td><td>2908</td><td>0.31838733</td><td>2852</td><td>2746</td><td>10.0</td><td>25.516</td><td>5.581</td><td>0</td><td>0</td><td>0</td></tr>\n",
              "</table>\n",
              "only showing top 20 rows\n"
            ]
          },
          "metadata": {},
          "execution_count": 169
        }
      ]
    },
    {
      "cell_type": "markdown",
      "source": [
        "Counting Acceptable values in data"
      ],
      "metadata": {
        "id": "fUqjYGSLz9yf"
      }
    },
    {
      "cell_type": "code",
      "source": [
        "df.where((df.DownloadSpeed >= 1.5) & (df.UploadSpeed >= 0.5) & (df.Ping <=20) & (df.TTFB <=1200)).count()"
      ],
      "metadata": {
        "colab": {
          "base_uri": "https://localhost:8080/"
        },
        "id": "eFQATYjcOxdS",
        "outputId": "abd3d4e1-7c52-4f9f-f7ca-b9c125e80938"
      },
      "execution_count": null,
      "outputs": [
        {
          "output_type": "execute_result",
          "data": {
            "text/plain": [
              "1792"
            ]
          },
          "metadata": {},
          "execution_count": 170
        }
      ]
    },
    {
      "cell_type": "markdown",
      "source": [
        "Adding QoE Coulum"
      ],
      "metadata": {
        "id": "kZ_mRbWnDDyj"
      }
    },
    {
      "cell_type": "code",
      "source": [
        "df3 = df.withColumn(\"QoE\", when(((df.DownloadSpeed >= 1.5) & (df.UploadSpeed >= 0.5) & (df.Ping <=20) & (df.TTFB <=1200)),1)\n",
        "                                 .otherwise(0))"
      ],
      "metadata": {
        "id": "cnzBoWQwV4eq"
      },
      "execution_count": null,
      "outputs": []
    },
    {
      "cell_type": "markdown",
      "source": [
        "Understanding the storage type of data inside the coulums"
      ],
      "metadata": {
        "id": "TBPuIXpE80uM"
      }
    },
    {
      "cell_type": "code",
      "source": [
        "df3.printSchema()"
      ],
      "metadata": {
        "colab": {
          "base_uri": "https://localhost:8080/"
        },
        "id": "uhYQ-fijbNtC",
        "outputId": "4e389c04-9283-4fcf-c329-cce6d3af890c"
      },
      "execution_count": null,
      "outputs": [
        {
          "output_type": "stream",
          "name": "stdout",
          "text": [
            "root\n",
            " |-- Latitude: double (nullable = true)\n",
            " |-- Longitude: double (nullable = true)\n",
            " |-- @timestamp: string (nullable = true)\n",
            " |-- Manufacturer: string (nullable = true)\n",
            " |-- Model: string (nullable = true)\n",
            " |-- AppName: string (nullable = true)\n",
            " |-- SdkVersion: string (nullable = true)\n",
            " |-- AppVersion: string (nullable = true)\n",
            " |-- AndroidApi: string (nullable = true)\n",
            " |-- OSVersion: string (nullable = true)\n",
            " |-- ActiveConnection: string (nullable = true)\n",
            " |-- WifiBSSID: string (nullable = false)\n",
            " |-- WifiRssi: string (nullable = false)\n",
            " |-- WifiLinkSpeed: long (nullable = true)\n",
            " |-- lvl1_name: string (nullable = true)\n",
            " |-- IP: string (nullable = true)\n",
            " |-- ASN: long (nullable = true)\n",
            " |-- ISP: string (nullable = true)\n",
            " |-- URL: string (nullable = true)\n",
            " |-- dnsLookup: long (nullable = true)\n",
            " |-- initialConnection: long (nullable = true)\n",
            " |-- sslNegotiation: long (nullable = true)\n",
            " |-- TTFB: long (nullable = true)\n",
            " |-- fullyLoaded: long (nullable = true)\n",
            " |-- PageloadSpeed: double (nullable = false)\n",
            " |-- loadEventEnd: long (nullable = true)\n",
            " |-- documentComplete: long (nullable = true)\n",
            " |-- Ping: double (nullable = false)\n",
            " |-- DownloadSpeed: double (nullable = false)\n",
            " |-- UploadSpeed: double (nullable = false)\n",
            " |-- LteRssi: long (nullable = true)\n",
            " |-- WcdmaRssi: long (nullable = true)\n",
            " |-- GsmRssi: long (nullable = true)\n",
            " |-- QoE: integer (nullable = false)\n",
            "\n"
          ]
        }
      ]
    },
    {
      "cell_type": "markdown",
      "source": [
        "Extracting name of coulums containing string data"
      ],
      "metadata": {
        "id": "YT59sDPxAFnq"
      }
    },
    {
      "cell_type": "code",
      "source": [
        "String_Cols = [item[0] for item in df3.dtypes if item[1].startswith('string')]"
      ],
      "metadata": {
        "id": "-A0b4JJGb16z"
      },
      "execution_count": null,
      "outputs": []
    },
    {
      "cell_type": "code",
      "source": [
        "print(String_Cols)"
      ],
      "metadata": {
        "colab": {
          "base_uri": "https://localhost:8080/"
        },
        "id": "jtCpjKQCim7s",
        "outputId": "c0c6c0c6-de3b-456a-c484-653fb5a1efa1"
      },
      "execution_count": null,
      "outputs": [
        {
          "output_type": "stream",
          "name": "stdout",
          "text": [
            "['@timestamp', 'Manufacturer', 'Model', 'AppName', 'SdkVersion', 'AppVersion', 'AndroidApi', 'OSVersion', 'ActiveConnection', 'WifiBSSID', 'WifiRssi', 'lvl1_name', 'IP', 'ISP', 'URL']\n"
          ]
        }
      ]
    },
    {
      "cell_type": "markdown",
      "source": [
        "'gdf' contains frequency of each type of entry in string data frames."
      ],
      "metadata": {
        "id": "3bxEPqbWARhM"
      }
    },
    {
      "cell_type": "code",
      "source": [
        "gdf = pd.DataFrame()\n",
        "for x in String_Cols:\n",
        "  t = df3.groupBy(x).count().toPandas()\n",
        "  gdf = pd.concat([gdf,t],axis = 1)"
      ],
      "metadata": {
        "id": "6o3Ra-YzcAKo"
      },
      "execution_count": null,
      "outputs": []
    },
    {
      "cell_type": "markdown",
      "source": [
        "Saving Frequency information of string coulums in \"String_Frequency.csv\" file."
      ],
      "metadata": {
        "id": "NnoJcJovArHu"
      }
    },
    {
      "cell_type": "code",
      "source": [
        "gdf.to_csv('/content/String_Frequency.csv')"
      ],
      "metadata": {
        "id": "rg1035PQyEn8"
      },
      "execution_count": null,
      "outputs": []
    },
    {
      "cell_type": "markdown",
      "source": [
        "Saving actual data after Cleansing to \"After_Cleansing.csv\" file"
      ],
      "metadata": {
        "id": "NIRKNXUEA_Mg"
      }
    },
    {
      "cell_type": "code",
      "source": [
        "pdf = df3.toPandas()"
      ],
      "metadata": {
        "id": "HLVDW2p77Au0"
      },
      "execution_count": null,
      "outputs": []
    },
    {
      "cell_type": "code",
      "source": [
        "pdf.to_csv('/content/After_Cleansing.csv')"
      ],
      "metadata": {
        "id": "e_Xqx1KwYD6g"
      },
      "execution_count": null,
      "outputs": []
    },
    {
      "cell_type": "markdown",
      "source": [
        "It is saving the description of Data Distribution of all the coulums to \"Distribution.csv\" file "
      ],
      "metadata": {
        "id": "M_Gq-hfnBfxg"
      }
    },
    {
      "cell_type": "code",
      "source": [
        "pdf.describe(include='all').to_csv('/content/Distribution.csv')"
      ],
      "metadata": {
        "id": "DPOdN27x7zoO"
      },
      "execution_count": null,
      "outputs": []
    },
    {
      "cell_type": "markdown",
      "source": [
        "Code for using ADASYN technique of Oversampling for Data Balancing"
      ],
      "metadata": {
        "id": "Fgg02C-sCJJV"
      }
    },
    {
      "cell_type": "code",
      "source": [
        "def makeOverSamplesADASYN(X,y):\n",
        " #input DataFrame\n",
        " #X →Independent Variable in DataFrame\\\n",
        " #y →dependent Variable in Pandas DataFrame format\n",
        " from imblearn.over_sampling import ADASYN \n",
        " sm = ADASYN()\n",
        " X, y = sm.fit_resample(X, y)\n",
        " return(X,y)"
      ],
      "metadata": {
        "id": "QzDWuOjBKV2-"
      },
      "execution_count": null,
      "outputs": []
    },
    {
      "cell_type": "code",
      "source": [
        "P_df = df.select(imp_Attributes).toPandas()\n",
        "Y_df = df3.select('QoE').toPandas()\n",
        "P_df,Y_df = makeOverSamplesADASYN(P_df,Y_df)"
      ],
      "metadata": {
        "id": "TQaF4LZqIVis"
      },
      "execution_count": null,
      "outputs": []
    },
    {
      "cell_type": "code",
      "source": [
        "result = pd.concat([P_df,Y_df])"
      ],
      "metadata": {
        "id": "yWvWZ5PWw-HF"
      },
      "execution_count": null,
      "outputs": []
    },
    {
      "cell_type": "code",
      "source": [
        "result.to_csv('/content/After_ADASYN.csv')"
      ],
      "metadata": {
        "id": "dNl40uaW0Ulq"
      },
      "execution_count": null,
      "outputs": []
    },
    {
      "cell_type": "markdown",
      "source": [
        "Sample code for multi conditional work on spark"
      ],
      "metadata": {
        "id": "85YHFoJ3DP7T"
      }
    },
    {
      "cell_type": "code",
      "source": [
        "# df2 = df.withColumn(\"QoE\", when(((df.DownloadSpeed >= 1.5) & (df.DownloadSpeed < 5) & (df.UploadSpeed >= 0.5) & (df.UploadSpeed < 1.5) & (df.Ping >50)& (df.Ping <=100) & (df.TTFB >800)& (df.TTFB <=1200)) ,\"A\")\n",
        "#                                  .when((df.DownloadSpeed >= 5) & (df.UploadSpeed >= 1.5) & (df.Ping <=50) & (df.TTFB <=800),\"E\")\n",
        "#                                  .otherwise(\"NA\"))"
      ],
      "metadata": {
        "id": "sxE9T2dYwSxc"
      },
      "execution_count": null,
      "outputs": []
    },
    {
      "cell_type": "markdown",
      "source": [
        "Code for removing Outliers"
      ],
      "metadata": {
        "id": "uaohhSx4E-2Y"
      }
    },
    {
      "cell_type": "code",
      "source": [
        "import numpy as np\n",
        "from scipy import stats\n",
        "df = df[(np.abs(stats.zscore(df)) < 3).all(axis=1)]  # Will remove outliers 3 Standard Deviations from mean"
      ],
      "metadata": {
        "id": "T68_-5vrAkN4"
      },
      "execution_count": 1,
      "outputs": []
    },
    {
      "cell_type": "markdown",
      "source": [
        "Code for Normalization of values in the data frame"
      ],
      "metadata": {
        "id": "Pn7MVE_LFn0x"
      }
    },
    {
      "cell_type": "code",
      "source": [
        "# copy the data\n",
        "df_min_max_scaled = df.copy()\n",
        "  \n",
        "# apply normalization techniques\n",
        "for column in df_min_max_scaled.columns:\n",
        "    df_min_max_scaled[column] = (df_min_max_scaled[column] - df_min_max_scaled[column].min()) / (df_min_max_scaled[column].max() - df_min_max_scaled[column].min())  "
      ],
      "metadata": {
        "id": "hEcJ4d_VFCLl"
      },
      "execution_count": null,
      "outputs": []
    }
  ]
}