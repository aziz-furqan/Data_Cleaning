{
  "cells": [
    {
      "cell_type": "markdown",
      "metadata": {
        "id": "BI1OoHKVfkd3"
      },
      "source": [
        "Dowloading and Isntalling dependencies of spark in the next three coding blocks"
      ]
    },
    {
      "cell_type": "code",
      "execution_count": 1,
      "metadata": {
        "id": "GdgLslbsQNfQ"
      },
      "outputs": [],
      "source": [
        "!apt-get install openjdk-8-jdk-headless -qq > /dev/null\n",
        "!wget -q http://archive.apache.org/dist/spark/spark-3.1.1/spark-3.1.1-bin-hadoop3.2.tgz\n",
        "!tar xf spark-3.1.1-bin-hadoop3.2.tgz\n",
        "!pip install -q findspark\n"
      ]
    },
    {
      "cell_type": "code",
      "execution_count": 2,
      "metadata": {
        "id": "vRCBD5xoQtgE"
      },
      "outputs": [],
      "source": [
        "import os\n",
        "os.environ[\"JAVA_HOME\"] = \"/usr/lib/jvm/java-8-openjdk-amd64\"\n",
        "os.environ[\"SPARK_HOME\"] = \"/content/spark-3.1.1-bin-hadoop3.2\""
      ]
    },
    {
      "cell_type": "code",
      "execution_count": 3,
      "metadata": {
        "id": "Y3F3lSuOQxFo",
        "colab": {
          "base_uri": "https://localhost:8080/",
          "height": 222
        },
        "outputId": "cf14654e-fa4b-4688-cc60-44f996a6aeb5"
      },
      "outputs": [
        {
          "output_type": "execute_result",
          "data": {
            "text/plain": [
              "<pyspark.sql.session.SparkSession at 0x7fcc5752b2d0>"
            ],
            "text/html": [
              "\n",
              "            <div>\n",
              "                <p><b>SparkSession - in-memory</b></p>\n",
              "                \n",
              "        <div>\n",
              "            <p><b>SparkContext</b></p>\n",
              "\n",
              "            <p><a href=\"http://3814c8dd719b:4040\">Spark UI</a></p>\n",
              "\n",
              "            <dl>\n",
              "              <dt>Version</dt>\n",
              "                <dd><code>v3.1.1</code></dd>\n",
              "              <dt>Master</dt>\n",
              "                <dd><code>local[*]</code></dd>\n",
              "              <dt>AppName</dt>\n",
              "                <dd><code>pyspark-shell</code></dd>\n",
              "            </dl>\n",
              "        </div>\n",
              "        \n",
              "            </div>\n",
              "        "
            ]
          },
          "metadata": {},
          "execution_count": 3
        }
      ],
      "source": [
        "import findspark\n",
        "findspark.init()\n",
        "from pyspark.sql import SparkSession\n",
        "spark = SparkSession.builder.master(\"local[*]\").getOrCreate()\n",
        "spark.conf.set(\"spark.sql.repl.eagerEval.enabled\", True) # Property used to format output tables better\n",
        "spark"
      ]
    },
    {
      "cell_type": "markdown",
      "metadata": {
        "id": "L0ZPd9I-gBOf"
      },
      "source": [
        "Doing imports required"
      ]
    },
    {
      "cell_type": "code",
      "execution_count": 4,
      "metadata": {
        "id": "XzBb5qcT9MHk",
        "colab": {
          "base_uri": "https://localhost:8080/"
        },
        "outputId": "d5a670b3-87b3-4e73-93d7-cd5faac58dbf"
      },
      "outputs": [
        {
          "output_type": "stream",
          "name": "stdout",
          "text": [
            "Looking in indexes: https://pypi.org/simple, https://us-python.pkg.dev/colab-wheels/public/simple/\n",
            "Requirement already satisfied: imbalanced-learn in /usr/local/lib/python3.7/dist-packages (0.8.1)\n",
            "Collecting imbalanced-learn\n",
            "  Downloading imbalanced_learn-0.9.1-py3-none-any.whl (199 kB)\n",
            "\u001b[K     |████████████████████████████████| 199 kB 5.3 MB/s \n",
            "\u001b[?25hRequirement already satisfied: scipy>=1.3.2 in /usr/local/lib/python3.7/dist-packages (from imbalanced-learn) (1.7.3)\n",
            "Requirement already satisfied: numpy>=1.17.3 in /usr/local/lib/python3.7/dist-packages (from imbalanced-learn) (1.21.6)\n",
            "Requirement already satisfied: joblib>=1.0.0 in /usr/local/lib/python3.7/dist-packages (from imbalanced-learn) (1.2.0)\n",
            "Requirement already satisfied: threadpoolctl>=2.0.0 in /usr/local/lib/python3.7/dist-packages (from imbalanced-learn) (3.1.0)\n",
            "  Downloading imbalanced_learn-0.9.0-py3-none-any.whl (199 kB)\n",
            "\u001b[K     |████████████████████████████████| 199 kB 22.9 MB/s \n",
            "\u001b[?25hRequirement already satisfied: scikit-learn>=1.0.1 in /usr/local/lib/python3.7/dist-packages (from imbalanced-learn) (1.0.2)\n",
            "Installing collected packages: imbalanced-learn\n",
            "  Attempting uninstall: imbalanced-learn\n",
            "    Found existing installation: imbalanced-learn 0.8.1\n",
            "    Uninstalling imbalanced-learn-0.8.1:\n",
            "      Successfully uninstalled imbalanced-learn-0.8.1\n",
            "Successfully installed imbalanced-learn-0.9.0\n",
            "Looking in indexes: https://pypi.org/simple, https://us-python.pkg.dev/colab-wheels/public/simple/\n",
            "Requirement already satisfied: seaborn in /usr/local/lib/python3.7/dist-packages (0.11.2)\n",
            "Requirement already satisfied: matplotlib>=2.2 in /usr/local/lib/python3.7/dist-packages (from seaborn) (3.2.2)\n",
            "Requirement already satisfied: pandas>=0.23 in /usr/local/lib/python3.7/dist-packages (from seaborn) (1.3.5)\n",
            "Requirement already satisfied: scipy>=1.0 in /usr/local/lib/python3.7/dist-packages (from seaborn) (1.7.3)\n",
            "Requirement already satisfied: numpy>=1.15 in /usr/local/lib/python3.7/dist-packages (from seaborn) (1.21.6)\n",
            "Requirement already satisfied: cycler>=0.10 in /usr/local/lib/python3.7/dist-packages (from matplotlib>=2.2->seaborn) (0.11.0)\n",
            "Requirement already satisfied: kiwisolver>=1.0.1 in /usr/local/lib/python3.7/dist-packages (from matplotlib>=2.2->seaborn) (1.4.4)\n",
            "Requirement already satisfied: python-dateutil>=2.1 in /usr/local/lib/python3.7/dist-packages (from matplotlib>=2.2->seaborn) (2.8.2)\n",
            "Requirement already satisfied: pyparsing!=2.0.4,!=2.1.2,!=2.1.6,>=2.0.1 in /usr/local/lib/python3.7/dist-packages (from matplotlib>=2.2->seaborn) (3.0.9)\n",
            "Requirement already satisfied: typing-extensions in /usr/local/lib/python3.7/dist-packages (from kiwisolver>=1.0.1->matplotlib>=2.2->seaborn) (4.1.1)\n",
            "Requirement already satisfied: pytz>=2017.3 in /usr/local/lib/python3.7/dist-packages (from pandas>=0.23->seaborn) (2022.4)\n",
            "Requirement already satisfied: six>=1.5 in /usr/local/lib/python3.7/dist-packages (from python-dateutil>=2.1->matplotlib>=2.2->seaborn) (1.15.0)\n"
          ]
        }
      ],
      "source": [
        "!pip install -U imbalanced-learn\n",
        "!pip install seaborn\n",
        "from pyspark.sql.functions import col, expr, when\n",
        "import numpy as np\n",
        "import pandas as pd\n",
        "import seaborn as sns\n",
        "sns.set_theme(style=\"whitegrid\")\n",
        "import matplotlib.pyplot as plt \n",
        "import matplotlib as mpl\n",
        "import matplotlib.dates as mdates"
      ]
    },
    {
      "cell_type": "markdown",
      "source": [
        "Definition of the Attributes according to action required for cleansing"
      ],
      "metadata": {
        "id": "_NpASRl7M8oB"
      }
    },
    {
      "cell_type": "code",
      "source": [
        "imp_Attributes = ['WifiRssi','dnsLookup','TTFB','AvgJitter','AvgPing','AvgDownloadSpeed','AvgUploadSpeed','LteRssi','WcdmaRssi']\n",
        "Attributes = ['Latitude','Longitude','@timestamp','Manufacturer','Model','AppName','SdkVersion','AppVersion',\n",
        "              'AndroidApi','OSVersion','ActiveConnection','WifiRssi','lvl1_name','IP','ASN','ISP','URL','dnsLookup','initialConnection','sslNegotiation',\n",
        "              'TTFB','fullyLoaded','AvgJitter','AvgPing', 'AvgDownloadSpeed', 'AvgUploadSpeed', 'LteRssi', 'WcdmaRssi']\n",
        "Record_Removing_Attributes = ['Latitude','Longitude','@timestamp','AppName','SdkVersion','AppVersion','AndroidApi','OSVersion','ActiveConnection','lvl1_name','IP','ASN','ISP','URL','Manufacturer','Model']\n",
        "Assign_Zero_Attributes = ['WifiRssi','LteRssi','WcdmaRssi','sslNegotiation']\n",
        "Mean_Assign_Attributes = ['dnsLookup','initialConnection','TTFB','fullyLoaded','AvgJitter','AvgPing','AvgDownloadSpeed','AvgUploadSpeed']\n",
        "Outliers_Removal =  ['WifiRssi', 'dnsLookup', 'initialConnection', 'sslNegotiation', 'TTFB', \n",
        "                     'fullyLoaded', 'AvgJitter', 'AvgPing', 'AvgDownloadSpeed', 'AvgUploadSpeed', 'LteRssi', 'WcdmaRssi']"
      ],
      "metadata": {
        "id": "UQHX5UaIHrgi"
      },
      "execution_count": 5,
      "outputs": []
    },
    {
      "cell_type": "markdown",
      "metadata": {
        "id": "obcNvnUHgOjH"
      },
      "source": [
        "Reading the contents of the json file and separating for all media Platforms. Please paste your link/address here."
      ]
    },
    {
      "cell_type": "code",
      "execution_count": 6,
      "metadata": {
        "id": "xd36cPpvQ07v"
      },
      "outputs": [],
      "source": [
        "# Please paste the file link here.\n",
        "DF21 = spark.read.json('/content/1splitted_2021new.json')\n",
        "DF21 = DF21.select(Attributes)\n",
        "DF21 = DF21.withColumn(\"WifiRssi\",DF21.WifiRssi.cast('double'))\n",
        "DF_facebook = DF21.where(DF21.URL ==\"https://www.facebook.com\")\n",
        "DF_twitter = DF21.where(DF21.URL ==\"https://mobile.twitter.com/explore\")\n",
        "DF_instagram = DF21.where(DF21.URL ==\"https://www.instagram.com\")\n",
        "del DF21\n",
        "\n",
        "DF22 = spark.read.json('/content/1splitted_2022new.json')\n",
        "DF22 = DF22.select(Attributes)\n",
        "DF22 = DF22.withColumn(\"WifiRssi\",DF22.WifiRssi.cast('double'))\n",
        "DF22_facebook = DF22.where(DF22.URL ==\"https://www.facebook.com\")\n",
        "DF22_twitter = DF22.where(DF22.URL ==\"https://mobile.twitter.com/explore\")\n",
        "DF22_instagram = DF22.where(DF22.URL ==\"https://www.instagram.com\")\n",
        "del DF22\n",
        "\n",
        "DF_facebook = DF_facebook.unionByName(DF22_facebook, allowMissingColumns=True)\n",
        "DF_twitter = DF_twitter.unionByName(DF22_twitter, allowMissingColumns=True)\n",
        "DF_instagram = DF_instagram.unionByName(DF22_instagram, allowMissingColumns=True)\n",
        "# print(DF_instagram.count())\n",
        "\n",
        "del DF22_facebook,DF22_instagram,DF22_twitter"
      ]
    },
    {
      "cell_type": "markdown",
      "source": [
        "Function for Removing Duplicates from the dataset samples."
      ],
      "metadata": {
        "id": "oKfG-ABMkjyW"
      }
    },
    {
      "cell_type": "code",
      "source": [
        "def Remove_Duplicates (df):\n",
        "  print(\"Checking and Removing Duplicates\\n\",\"Samples before removing:\",df.count())\n",
        "  df = df.distinct()\n",
        "  print(\"Samples after removing Duplicates:\",df.count())\n",
        "  return df\n",
        "DF_facebook = Remove_Duplicates (DF_facebook)\n",
        "DF_twitter = Remove_Duplicates (DF_twitter)\n",
        "DF_instagram = Remove_Duplicates (DF_instagram)"
      ],
      "metadata": {
        "colab": {
          "base_uri": "https://localhost:8080/"
        },
        "id": "L2ndHgKokUuw",
        "outputId": "5ff0ff7a-411c-428b-90f6-7f4a8fe18f98"
      },
      "execution_count": 7,
      "outputs": [
        {
          "output_type": "stream",
          "name": "stdout",
          "text": [
            "Checking and Removing Duplicates\n",
            " Samples before removing: 2169\n",
            "Samples after removing Duplicates: 2111\n",
            "Checking and Removing Duplicates\n",
            " Samples before removing: 2194\n",
            "Samples after removing Duplicates: 2134\n",
            "Checking and Removing Duplicates\n",
            " Samples before removing: 2133\n",
            "Samples after removing Duplicates: 2080\n"
          ]
        }
      ]
    },
    {
      "cell_type": "markdown",
      "source": [
        "Function for Record Removing Attributes"
      ],
      "metadata": {
        "id": "kO3UBW7AMY9y"
      }
    },
    {
      "cell_type": "code",
      "source": [
        "def Remove_Records (df,Record_Removing_Attributes):\n",
        "  df = df.na.drop(subset=Record_Removing_Attributes)\n",
        "  return df\n",
        "DF_facebook = Remove_Records (DF_facebook,Record_Removing_Attributes)\n",
        "DF_twitter = Remove_Records (DF_twitter,Record_Removing_Attributes)\n",
        "DF_instagram = Remove_Records (DF_instagram,Record_Removing_Attributes)"
      ],
      "metadata": {
        "id": "DVQAhzXbL_PV"
      },
      "execution_count": 8,
      "outputs": []
    },
    {
      "cell_type": "code",
      "source": [
        "Facebook = DF_facebook.toPandas()\n",
        "Twitter = DF_twitter.toPandas()\n",
        "Instagram = DF_instagram.toPandas()\n",
        "Facebook.to_csv('/content/Facebook.csv')\n",
        "Twitter.to_csv('/content/Twitter.csv')\n",
        "Instagram.to_csv('/content/Instagram.csv')"
      ],
      "metadata": {
        "id": "n1kiCiQVM63a"
      },
      "execution_count": 9,
      "outputs": []
    },
    {
      "cell_type": "code",
      "source": [
        "DF_facebook.select(Outliers_Removal).dtypes"
      ],
      "metadata": {
        "colab": {
          "base_uri": "https://localhost:8080/"
        },
        "id": "QH_dnzVOW5Kn",
        "outputId": "11322c5d-5d21-42fa-e94c-de4a4d51164b"
      },
      "execution_count": null,
      "outputs": [
        {
          "output_type": "execute_result",
          "data": {
            "text/plain": [
              "[('WifiRssi', 'double'),\n",
              " ('dnsLookup', 'bigint'),\n",
              " ('initialConnection', 'bigint'),\n",
              " ('sslNegotiation', 'bigint'),\n",
              " ('TTFB', 'bigint'),\n",
              " ('fullyLoaded', 'bigint'),\n",
              " ('AvgJitter', 'double'),\n",
              " ('AvgPing', 'double'),\n",
              " ('AvgDownloadSpeed', 'double'),\n",
              " ('AvgUploadSpeed', 'double'),\n",
              " ('LteRssi', 'bigint'),\n",
              " ('WcdmaRssi', 'bigint')]"
            ]
          },
          "metadata": {},
          "execution_count": 33
        }
      ]
    },
    {
      "cell_type": "code",
      "source": [
        "abc = 'WifiRssi'\n",
        "abc\n",
        "# DF_facebook.abc"
      ],
      "metadata": {
        "colab": {
          "base_uri": "https://localhost:8080/",
          "height": 36
        },
        "id": "72SVsU0ReOhL",
        "outputId": "9e1cc05a-467c-4b43-9c46-206f2c291a76"
      },
      "execution_count": null,
      "outputs": [
        {
          "output_type": "execute_result",
          "data": {
            "text/plain": [
              "'WifiRssi'"
            ],
            "application/vnd.google.colaboratory.intrinsic+json": {
              "type": "string"
            }
          },
          "metadata": {},
          "execution_count": 34
        }
      ]
    },
    {
      "cell_type": "code",
      "source": [
        "from pyspark.sql.functions import col\n",
        "from pyspark.sql import functions as F, Window"
      ],
      "metadata": {
        "id": "12lRLqaihzo3"
      },
      "execution_count": null,
      "outputs": []
    },
    {
      "cell_type": "code",
      "source": [
        "df = DF_facebook\n",
        "a = df.where((df.WifiRssi >= -108.0 ) & (df.WifiRssi <= -4.0 )).count()\n",
        "print(a)"
      ],
      "metadata": {
        "colab": {
          "base_uri": "https://localhost:8080/"
        },
        "id": "2WeCHJlHlWGJ",
        "outputId": "65fd3511-f1c4-49b7-ecb3-3dce1edfa392"
      },
      "execution_count": null,
      "outputs": [
        {
          "output_type": "stream",
          "name": "stdout",
          "text": [
            "1367\n"
          ]
        }
      ]
    },
    {
      "cell_type": "code",
      "source": [],
      "metadata": {
        "id": "3Pn1iynAInu-"
      },
      "execution_count": null,
      "outputs": []
    },
    {
      "cell_type": "code",
      "source": [
        "# Facebook = find_outliers(DF_facebook)\n",
        "df = DF_facebook.select(Outliers_Removal)\n",
        "print(df.count())\n",
        "param = 1\n",
        "for column in Outliers_Removal:\n",
        "        # cl = df[column]\n",
        "        # pdf1 = df.toPandas()\n",
        "        # print(pdf1.describe(include='all'))\n",
        "\n",
        "        # print(df.count())\n",
        "        less_Q1 = 'less_Q1_{}'.format(column)\n",
        "        more_Q3 = 'more_Q3_{}'.format(column)\n",
        "        Q1 = 'Q1_{}'.format(column)\n",
        "        Q3 = 'Q3_{}'.format(column)\n",
        "\n",
        "        # Q1 : First Quartile ., Q3 : Third Quartile\n",
        "        Q1 = df.approxQuantile(column,[0.25],relativeError=0)\n",
        "        Q3 = df.approxQuantile(column,[0.75],relativeError=0)\n",
        "        if (len(Q1)== 0 or len(Q3)==0):\n",
        "          # print(df)\n",
        "          # pdf1 = df.toPandas()\n",
        "          # print(pdf1.describe(include='all'))\n",
        "          continue\n",
        "        # IQR : Inter Quantile Range\n",
        "        # We need to define the index [0], as Q1 & Q3 are a set of lists., to perform a mathematical operation\n",
        "        # Q1 & Q3 are defined seperately so as to have a clear indication on First Quantile & 3rd Quantile\n",
        "        IQR = Q3[0] - Q1[0]\n",
        "        \n",
        "        #selecting the data, with -1.5*IQR to + 1.5*IQR., where param = 1.5 default value\n",
        "        less_Q1 =  Q1[0] - param*IQR\n",
        "        more_Q3 =  Q3[0] + param*IQR\n",
        "\n",
        "        \n",
        "        cl = df.where((col(column) >= less_Q1) & (col(column) <= more_Q3))\n",
        "        mean = cl.agg({column: 'mean'}).collect()[0][0]\n",
        "\n",
        "        print(column,\"Lower Limit: \",less_Q1,\"  Upper Limit: \",more_Q3,\"   Mean: \",mean)\n",
        "        # df = df.withColumn(column, F.when((df[column] > more_Q3) | (df[column] < less_Q1), mean).otherwise(F.col(column)))\n",
        "        # df = df.withColumn(column, F.when((df[column] > more_Q3) | (df[column] < less_Q1), mean).otherwise(F.col(column)))\n",
        "        df = df.where((col(column) >= less_Q1) & (col(column) <= more_Q3))\n",
        "        \n",
        "        "
      ],
      "metadata": {
        "colab": {
          "base_uri": "https://localhost:8080/"
        },
        "id": "y2C5u4YRW5L8",
        "outputId": "8bfb05e2-4fe5-4fbb-d24e-da049aeb1ec6"
      },
      "execution_count": null,
      "outputs": [
        {
          "output_type": "stream",
          "name": "stdout",
          "text": [
            "2750\n",
            "WifiRssi Lower Limit:  -95.0   Upper Limit:  -17.0    Mean:  -55.82763744427935\n",
            "dnsLookup Lower Limit:  -42.0   Upper Limit:  84.0    Mean:  17.081720430107527\n",
            "initialConnection Lower Limit:  -223.0   Upper Limit:  446.0    Mean:  105.13907284768212\n",
            "sslNegotiation Lower Limit:  57.0   Upper Limit:  228.0    Mean:  140.67088607594937\n",
            "TTFB Lower Limit:  271.0   Upper Limit:  1030.0    Mean:  609.9109195402299\n",
            "fullyLoaded Lower Limit:  417.0   Upper Limit:  4197.0    Mean:  2171.3665594855306\n",
            "AvgJitter Lower Limit:  -10.700000000000003   Upper Limit:  57.400000000000006    Mean:  22.763250883392228\n",
            "AvgPing Lower Limit:  -5.600000000000001   Upper Limit:  53.2    Mean:  23.617407407407402\n",
            "AvgDownloadSpeed Lower Limit:  -0.4350000000000023   Upper Limit:  53.42100000000001    Mean:  24.1521851851852\n",
            "AvgUploadSpeed Lower Limit:  -5.968999999999998   Upper Limit:  27.483999999999995    Mean:  10.336696428571434\n"
          ]
        }
      ]
    },
    {
      "cell_type": "code",
      "source": [
        "Facebook = DF_facebook.toPandas()\n",
        "del DF_facebook\n",
        "Twitter = DF_twitter.toPandas()\n",
        "del DF_twitter\n",
        "Isntagram = DF_instagram.toPandas()\n",
        "del DF_instagram"
      ],
      "metadata": {
        "id": "fl2wWrHRw9Vw"
      },
      "execution_count": null,
      "outputs": []
    },
    {
      "cell_type": "code",
      "source": [],
      "metadata": {
        "id": "I5bvmPgnW4X3"
      },
      "execution_count": null,
      "outputs": []
    },
    {
      "cell_type": "code",
      "source": [
        "Facebook.columns(Outliers_Removal)"
      ],
      "metadata": {
        "colab": {
          "base_uri": "https://localhost:8080/",
          "height": 172
        },
        "id": "TMnmckcIUVjp",
        "outputId": "f8e64193-b98d-4eb4-9a27-75e184fcb566"
      },
      "execution_count": null,
      "outputs": [
        {
          "output_type": "error",
          "ename": "TypeError",
          "evalue": "ignored",
          "traceback": [
            "\u001b[0;31m---------------------------------------------------------------------------\u001b[0m",
            "\u001b[0;31mTypeError\u001b[0m                                 Traceback (most recent call last)",
            "\u001b[0;32m<ipython-input-24-49d85d6673f1>\u001b[0m in \u001b[0;36m<module>\u001b[0;34m\u001b[0m\n\u001b[0;32m----> 1\u001b[0;31m \u001b[0mFacebook\u001b[0m\u001b[0;34m.\u001b[0m\u001b[0mcolumns\u001b[0m\u001b[0;34m(\u001b[0m\u001b[0mOutliers_Removal\u001b[0m\u001b[0;34m)\u001b[0m\u001b[0;34m\u001b[0m\u001b[0;34m\u001b[0m\u001b[0m\n\u001b[0m",
            "\u001b[0;31mTypeError\u001b[0m: 'Index' object is not callable"
          ]
        }
      ]
    },
    {
      "cell_type": "code",
      "source": [
        "def remove_outliers(df,columns,n_std):\n",
        "    for col in columns:\n",
        "        print('Working on column: {}'.format(col))\n",
        "        \n",
        "        mean = df[col].mean()\n",
        "        sd = df[col].std()\n",
        "        \n",
        "        df = df[(df[col] <= mean+(n_std*sd))]\n",
        "        \n",
        "    return df"
      ],
      "metadata": {
        "id": "lZBhHvi1P0rW"
      },
      "execution_count": null,
      "outputs": []
    },
    {
      "cell_type": "code",
      "source": [
        "mean = Twitter[\"WifiRssi\"].mean()"
      ],
      "metadata": {
        "colab": {
          "base_uri": "https://localhost:8080/",
          "height": 325
        },
        "id": "jJ84KJmQT7TH",
        "outputId": "83b3f369-fb7f-49c6-aaf5-b515cd179a81"
      },
      "execution_count": null,
      "outputs": [
        {
          "output_type": "error",
          "ename": "TypeError",
          "evalue": "ignored",
          "traceback": [
            "\u001b[0;31m---------------------------------------------------------------------------\u001b[0m",
            "\u001b[0;31mTypeError\u001b[0m                                 Traceback (most recent call last)",
            "\u001b[0;32m<ipython-input-18-8c4093c2a6a2>\u001b[0m in \u001b[0;36m<module>\u001b[0;34m\u001b[0m\n\u001b[0;32m----> 1\u001b[0;31m \u001b[0mmean\u001b[0m \u001b[0;34m=\u001b[0m \u001b[0mTwitter\u001b[0m\u001b[0;34m[\u001b[0m\u001b[0;34m\"WifiRssi\"\u001b[0m\u001b[0;34m]\u001b[0m\u001b[0;34m.\u001b[0m\u001b[0mmean\u001b[0m\u001b[0;34m(\u001b[0m\u001b[0;34m)\u001b[0m\u001b[0;34m\u001b[0m\u001b[0;34m\u001b[0m\u001b[0m\n\u001b[0m",
            "\u001b[0;32m/usr/local/lib/python3.7/dist-packages/pandas/core/generic.py\u001b[0m in \u001b[0;36mmean\u001b[0;34m(self, axis, skipna, level, numeric_only, **kwargs)\u001b[0m\n\u001b[1;32m  10749\u001b[0m         )\n\u001b[1;32m  10750\u001b[0m         \u001b[0;32mdef\u001b[0m \u001b[0mmean\u001b[0m\u001b[0;34m(\u001b[0m\u001b[0mself\u001b[0m\u001b[0;34m,\u001b[0m \u001b[0maxis\u001b[0m\u001b[0;34m=\u001b[0m\u001b[0;32mNone\u001b[0m\u001b[0;34m,\u001b[0m \u001b[0mskipna\u001b[0m\u001b[0;34m=\u001b[0m\u001b[0;32mNone\u001b[0m\u001b[0;34m,\u001b[0m \u001b[0mlevel\u001b[0m\u001b[0;34m=\u001b[0m\u001b[0;32mNone\u001b[0m\u001b[0;34m,\u001b[0m \u001b[0mnumeric_only\u001b[0m\u001b[0;34m=\u001b[0m\u001b[0;32mNone\u001b[0m\u001b[0;34m,\u001b[0m \u001b[0;34m**\u001b[0m\u001b[0mkwargs\u001b[0m\u001b[0;34m)\u001b[0m\u001b[0;34m:\u001b[0m\u001b[0;34m\u001b[0m\u001b[0;34m\u001b[0m\u001b[0m\n\u001b[0;32m> 10751\u001b[0;31m             \u001b[0;32mreturn\u001b[0m \u001b[0mNDFrame\u001b[0m\u001b[0;34m.\u001b[0m\u001b[0mmean\u001b[0m\u001b[0;34m(\u001b[0m\u001b[0mself\u001b[0m\u001b[0;34m,\u001b[0m \u001b[0maxis\u001b[0m\u001b[0;34m,\u001b[0m \u001b[0mskipna\u001b[0m\u001b[0;34m,\u001b[0m \u001b[0mlevel\u001b[0m\u001b[0;34m,\u001b[0m \u001b[0mnumeric_only\u001b[0m\u001b[0;34m,\u001b[0m \u001b[0;34m**\u001b[0m\u001b[0mkwargs\u001b[0m\u001b[0;34m)\u001b[0m\u001b[0;34m\u001b[0m\u001b[0;34m\u001b[0m\u001b[0m\n\u001b[0m\u001b[1;32m  10752\u001b[0m \u001b[0;34m\u001b[0m\u001b[0m\n\u001b[1;32m  10753\u001b[0m         \u001b[0msetattr\u001b[0m\u001b[0;34m(\u001b[0m\u001b[0mcls\u001b[0m\u001b[0;34m,\u001b[0m \u001b[0;34m\"mean\"\u001b[0m\u001b[0;34m,\u001b[0m \u001b[0mmean\u001b[0m\u001b[0;34m)\u001b[0m\u001b[0;34m\u001b[0m\u001b[0;34m\u001b[0m\u001b[0m\n",
            "\u001b[0;32m/usr/local/lib/python3.7/dist-packages/pandas/core/generic.py\u001b[0m in \u001b[0;36mmean\u001b[0;34m(self, axis, skipna, level, numeric_only, **kwargs)\u001b[0m\n\u001b[1;32m  10368\u001b[0m     \u001b[0;32mdef\u001b[0m \u001b[0mmean\u001b[0m\u001b[0;34m(\u001b[0m\u001b[0mself\u001b[0m\u001b[0;34m,\u001b[0m \u001b[0maxis\u001b[0m\u001b[0;34m=\u001b[0m\u001b[0;32mNone\u001b[0m\u001b[0;34m,\u001b[0m \u001b[0mskipna\u001b[0m\u001b[0;34m=\u001b[0m\u001b[0;32mNone\u001b[0m\u001b[0;34m,\u001b[0m \u001b[0mlevel\u001b[0m\u001b[0;34m=\u001b[0m\u001b[0;32mNone\u001b[0m\u001b[0;34m,\u001b[0m \u001b[0mnumeric_only\u001b[0m\u001b[0;34m=\u001b[0m\u001b[0;32mNone\u001b[0m\u001b[0;34m,\u001b[0m \u001b[0;34m**\u001b[0m\u001b[0mkwargs\u001b[0m\u001b[0;34m)\u001b[0m\u001b[0;34m:\u001b[0m\u001b[0;34m\u001b[0m\u001b[0;34m\u001b[0m\u001b[0m\n\u001b[1;32m  10369\u001b[0m         return self._stat_function(\n\u001b[0;32m> 10370\u001b[0;31m             \u001b[0;34m\"mean\"\u001b[0m\u001b[0;34m,\u001b[0m \u001b[0mnanops\u001b[0m\u001b[0;34m.\u001b[0m\u001b[0mnanmean\u001b[0m\u001b[0;34m,\u001b[0m \u001b[0maxis\u001b[0m\u001b[0;34m,\u001b[0m \u001b[0mskipna\u001b[0m\u001b[0;34m,\u001b[0m \u001b[0mlevel\u001b[0m\u001b[0;34m,\u001b[0m \u001b[0mnumeric_only\u001b[0m\u001b[0;34m,\u001b[0m \u001b[0;34m**\u001b[0m\u001b[0mkwargs\u001b[0m\u001b[0;34m\u001b[0m\u001b[0;34m\u001b[0m\u001b[0m\n\u001b[0m\u001b[1;32m  10371\u001b[0m         )\n\u001b[1;32m  10372\u001b[0m \u001b[0;34m\u001b[0m\u001b[0m\n",
            "\u001b[0;32m/usr/local/lib/python3.7/dist-packages/pandas/core/generic.py\u001b[0m in \u001b[0;36m_stat_function\u001b[0;34m(self, name, func, axis, skipna, level, numeric_only, **kwargs)\u001b[0m\n\u001b[1;32m  10353\u001b[0m             )\n\u001b[1;32m  10354\u001b[0m         return self._reduce(\n\u001b[0;32m> 10355\u001b[0;31m             \u001b[0mfunc\u001b[0m\u001b[0;34m,\u001b[0m \u001b[0mname\u001b[0m\u001b[0;34m=\u001b[0m\u001b[0mname\u001b[0m\u001b[0;34m,\u001b[0m \u001b[0maxis\u001b[0m\u001b[0;34m=\u001b[0m\u001b[0maxis\u001b[0m\u001b[0;34m,\u001b[0m \u001b[0mskipna\u001b[0m\u001b[0;34m=\u001b[0m\u001b[0mskipna\u001b[0m\u001b[0;34m,\u001b[0m \u001b[0mnumeric_only\u001b[0m\u001b[0;34m=\u001b[0m\u001b[0mnumeric_only\u001b[0m\u001b[0;34m\u001b[0m\u001b[0;34m\u001b[0m\u001b[0m\n\u001b[0m\u001b[1;32m  10356\u001b[0m         )\n\u001b[1;32m  10357\u001b[0m \u001b[0;34m\u001b[0m\u001b[0m\n",
            "\u001b[0;32m/usr/local/lib/python3.7/dist-packages/pandas/core/series.py\u001b[0m in \u001b[0;36m_reduce\u001b[0;34m(self, op, name, axis, skipna, numeric_only, filter_type, **kwds)\u001b[0m\n\u001b[1;32m   4390\u001b[0m                 )\n\u001b[1;32m   4391\u001b[0m             \u001b[0;32mwith\u001b[0m \u001b[0mnp\u001b[0m\u001b[0;34m.\u001b[0m\u001b[0merrstate\u001b[0m\u001b[0;34m(\u001b[0m\u001b[0mall\u001b[0m\u001b[0;34m=\u001b[0m\u001b[0;34m\"ignore\"\u001b[0m\u001b[0;34m)\u001b[0m\u001b[0;34m:\u001b[0m\u001b[0;34m\u001b[0m\u001b[0;34m\u001b[0m\u001b[0m\n\u001b[0;32m-> 4392\u001b[0;31m                 \u001b[0;32mreturn\u001b[0m \u001b[0mop\u001b[0m\u001b[0;34m(\u001b[0m\u001b[0mdelegate\u001b[0m\u001b[0;34m,\u001b[0m \u001b[0mskipna\u001b[0m\u001b[0;34m=\u001b[0m\u001b[0mskipna\u001b[0m\u001b[0;34m,\u001b[0m \u001b[0;34m**\u001b[0m\u001b[0mkwds\u001b[0m\u001b[0;34m)\u001b[0m\u001b[0;34m\u001b[0m\u001b[0;34m\u001b[0m\u001b[0m\n\u001b[0m\u001b[1;32m   4393\u001b[0m \u001b[0;34m\u001b[0m\u001b[0m\n\u001b[1;32m   4394\u001b[0m     def _reindex_indexer(\n",
            "\u001b[0;32m/usr/local/lib/python3.7/dist-packages/pandas/core/nanops.py\u001b[0m in \u001b[0;36m_f\u001b[0;34m(*args, **kwargs)\u001b[0m\n\u001b[1;32m     92\u001b[0m             \u001b[0;32mtry\u001b[0m\u001b[0;34m:\u001b[0m\u001b[0;34m\u001b[0m\u001b[0;34m\u001b[0m\u001b[0m\n\u001b[1;32m     93\u001b[0m                 \u001b[0;32mwith\u001b[0m \u001b[0mnp\u001b[0m\u001b[0;34m.\u001b[0m\u001b[0merrstate\u001b[0m\u001b[0;34m(\u001b[0m\u001b[0minvalid\u001b[0m\u001b[0;34m=\u001b[0m\u001b[0;34m\"ignore\"\u001b[0m\u001b[0;34m)\u001b[0m\u001b[0;34m:\u001b[0m\u001b[0;34m\u001b[0m\u001b[0;34m\u001b[0m\u001b[0m\n\u001b[0;32m---> 94\u001b[0;31m                     \u001b[0;32mreturn\u001b[0m \u001b[0mf\u001b[0m\u001b[0;34m(\u001b[0m\u001b[0;34m*\u001b[0m\u001b[0margs\u001b[0m\u001b[0;34m,\u001b[0m \u001b[0;34m**\u001b[0m\u001b[0mkwargs\u001b[0m\u001b[0;34m)\u001b[0m\u001b[0;34m\u001b[0m\u001b[0;34m\u001b[0m\u001b[0m\n\u001b[0m\u001b[1;32m     95\u001b[0m             \u001b[0;32mexcept\u001b[0m \u001b[0mValueError\u001b[0m \u001b[0;32mas\u001b[0m \u001b[0me\u001b[0m\u001b[0;34m:\u001b[0m\u001b[0;34m\u001b[0m\u001b[0;34m\u001b[0m\u001b[0m\n\u001b[1;32m     96\u001b[0m                 \u001b[0;31m# we want to transform an object array\u001b[0m\u001b[0;34m\u001b[0m\u001b[0;34m\u001b[0m\u001b[0;34m\u001b[0m\u001b[0m\n",
            "\u001b[0;32m/usr/local/lib/python3.7/dist-packages/pandas/core/nanops.py\u001b[0m in \u001b[0;36mf\u001b[0;34m(values, axis, skipna, **kwds)\u001b[0m\n\u001b[1;32m    154\u001b[0m                     \u001b[0mresult\u001b[0m \u001b[0;34m=\u001b[0m \u001b[0malt\u001b[0m\u001b[0;34m(\u001b[0m\u001b[0mvalues\u001b[0m\u001b[0;34m,\u001b[0m \u001b[0maxis\u001b[0m\u001b[0;34m=\u001b[0m\u001b[0maxis\u001b[0m\u001b[0;34m,\u001b[0m \u001b[0mskipna\u001b[0m\u001b[0;34m=\u001b[0m\u001b[0mskipna\u001b[0m\u001b[0;34m,\u001b[0m \u001b[0;34m**\u001b[0m\u001b[0mkwds\u001b[0m\u001b[0;34m)\u001b[0m\u001b[0;34m\u001b[0m\u001b[0;34m\u001b[0m\u001b[0m\n\u001b[1;32m    155\u001b[0m             \u001b[0;32melse\u001b[0m\u001b[0;34m:\u001b[0m\u001b[0;34m\u001b[0m\u001b[0;34m\u001b[0m\u001b[0m\n\u001b[0;32m--> 156\u001b[0;31m                 \u001b[0mresult\u001b[0m \u001b[0;34m=\u001b[0m \u001b[0malt\u001b[0m\u001b[0;34m(\u001b[0m\u001b[0mvalues\u001b[0m\u001b[0;34m,\u001b[0m \u001b[0maxis\u001b[0m\u001b[0;34m=\u001b[0m\u001b[0maxis\u001b[0m\u001b[0;34m,\u001b[0m \u001b[0mskipna\u001b[0m\u001b[0;34m=\u001b[0m\u001b[0mskipna\u001b[0m\u001b[0;34m,\u001b[0m \u001b[0;34m**\u001b[0m\u001b[0mkwds\u001b[0m\u001b[0;34m)\u001b[0m\u001b[0;34m\u001b[0m\u001b[0;34m\u001b[0m\u001b[0m\n\u001b[0m\u001b[1;32m    157\u001b[0m \u001b[0;34m\u001b[0m\u001b[0m\n\u001b[1;32m    158\u001b[0m             \u001b[0;32mreturn\u001b[0m \u001b[0mresult\u001b[0m\u001b[0;34m\u001b[0m\u001b[0;34m\u001b[0m\u001b[0m\n",
            "\u001b[0;32m/usr/local/lib/python3.7/dist-packages/pandas/core/nanops.py\u001b[0m in \u001b[0;36mnew_func\u001b[0;34m(values, axis, skipna, mask, **kwargs)\u001b[0m\n\u001b[1;32m    409\u001b[0m             \u001b[0mmask\u001b[0m \u001b[0;34m=\u001b[0m \u001b[0misna\u001b[0m\u001b[0;34m(\u001b[0m\u001b[0mvalues\u001b[0m\u001b[0;34m)\u001b[0m\u001b[0;34m\u001b[0m\u001b[0;34m\u001b[0m\u001b[0m\n\u001b[1;32m    410\u001b[0m \u001b[0;34m\u001b[0m\u001b[0m\n\u001b[0;32m--> 411\u001b[0;31m         \u001b[0mresult\u001b[0m \u001b[0;34m=\u001b[0m \u001b[0mfunc\u001b[0m\u001b[0;34m(\u001b[0m\u001b[0mvalues\u001b[0m\u001b[0;34m,\u001b[0m \u001b[0maxis\u001b[0m\u001b[0;34m=\u001b[0m\u001b[0maxis\u001b[0m\u001b[0;34m,\u001b[0m \u001b[0mskipna\u001b[0m\u001b[0;34m=\u001b[0m\u001b[0mskipna\u001b[0m\u001b[0;34m,\u001b[0m \u001b[0mmask\u001b[0m\u001b[0;34m=\u001b[0m\u001b[0mmask\u001b[0m\u001b[0;34m,\u001b[0m \u001b[0;34m**\u001b[0m\u001b[0mkwargs\u001b[0m\u001b[0;34m)\u001b[0m\u001b[0;34m\u001b[0m\u001b[0;34m\u001b[0m\u001b[0m\n\u001b[0m\u001b[1;32m    412\u001b[0m \u001b[0;34m\u001b[0m\u001b[0m\n\u001b[1;32m    413\u001b[0m         \u001b[0;32mif\u001b[0m \u001b[0mdatetimelike\u001b[0m\u001b[0;34m:\u001b[0m\u001b[0;34m\u001b[0m\u001b[0;34m\u001b[0m\u001b[0m\n",
            "\u001b[0;32m/usr/local/lib/python3.7/dist-packages/pandas/core/nanops.py\u001b[0m in \u001b[0;36mnanmean\u001b[0;34m(values, axis, skipna, mask)\u001b[0m\n\u001b[1;32m    664\u001b[0m \u001b[0;34m\u001b[0m\u001b[0m\n\u001b[1;32m    665\u001b[0m     \u001b[0mcount\u001b[0m \u001b[0;34m=\u001b[0m \u001b[0m_get_counts\u001b[0m\u001b[0;34m(\u001b[0m\u001b[0mvalues\u001b[0m\u001b[0;34m.\u001b[0m\u001b[0mshape\u001b[0m\u001b[0;34m,\u001b[0m \u001b[0mmask\u001b[0m\u001b[0;34m,\u001b[0m \u001b[0maxis\u001b[0m\u001b[0;34m,\u001b[0m \u001b[0mdtype\u001b[0m\u001b[0;34m=\u001b[0m\u001b[0mdtype_count\u001b[0m\u001b[0;34m)\u001b[0m\u001b[0;34m\u001b[0m\u001b[0;34m\u001b[0m\u001b[0m\n\u001b[0;32m--> 666\u001b[0;31m     \u001b[0mthe_sum\u001b[0m \u001b[0;34m=\u001b[0m \u001b[0m_ensure_numeric\u001b[0m\u001b[0;34m(\u001b[0m\u001b[0mvalues\u001b[0m\u001b[0;34m.\u001b[0m\u001b[0msum\u001b[0m\u001b[0;34m(\u001b[0m\u001b[0maxis\u001b[0m\u001b[0;34m,\u001b[0m \u001b[0mdtype\u001b[0m\u001b[0;34m=\u001b[0m\u001b[0mdtype_sum\u001b[0m\u001b[0;34m)\u001b[0m\u001b[0;34m)\u001b[0m\u001b[0;34m\u001b[0m\u001b[0;34m\u001b[0m\u001b[0m\n\u001b[0m\u001b[1;32m    667\u001b[0m \u001b[0;34m\u001b[0m\u001b[0m\n\u001b[1;32m    668\u001b[0m     \u001b[0;32mif\u001b[0m \u001b[0maxis\u001b[0m \u001b[0;32mis\u001b[0m \u001b[0;32mnot\u001b[0m \u001b[0;32mNone\u001b[0m \u001b[0;32mand\u001b[0m \u001b[0mgetattr\u001b[0m\u001b[0;34m(\u001b[0m\u001b[0mthe_sum\u001b[0m\u001b[0;34m,\u001b[0m \u001b[0;34m\"ndim\"\u001b[0m\u001b[0;34m,\u001b[0m \u001b[0;32mFalse\u001b[0m\u001b[0;34m)\u001b[0m\u001b[0;34m:\u001b[0m\u001b[0;34m\u001b[0m\u001b[0;34m\u001b[0m\u001b[0m\n",
            "\u001b[0;32m/usr/local/lib/python3.7/dist-packages/numpy/core/_methods.py\u001b[0m in \u001b[0;36m_sum\u001b[0;34m(a, axis, dtype, out, keepdims, initial, where)\u001b[0m\n\u001b[1;32m     46\u001b[0m def _sum(a, axis=None, dtype=None, out=None, keepdims=False,\n\u001b[1;32m     47\u001b[0m          initial=_NoValue, where=True):\n\u001b[0;32m---> 48\u001b[0;31m     \u001b[0;32mreturn\u001b[0m \u001b[0mumr_sum\u001b[0m\u001b[0;34m(\u001b[0m\u001b[0ma\u001b[0m\u001b[0;34m,\u001b[0m \u001b[0maxis\u001b[0m\u001b[0;34m,\u001b[0m \u001b[0mdtype\u001b[0m\u001b[0;34m,\u001b[0m \u001b[0mout\u001b[0m\u001b[0;34m,\u001b[0m \u001b[0mkeepdims\u001b[0m\u001b[0;34m,\u001b[0m \u001b[0minitial\u001b[0m\u001b[0;34m,\u001b[0m \u001b[0mwhere\u001b[0m\u001b[0;34m)\u001b[0m\u001b[0;34m\u001b[0m\u001b[0;34m\u001b[0m\u001b[0m\n\u001b[0m\u001b[1;32m     49\u001b[0m \u001b[0;34m\u001b[0m\u001b[0m\n\u001b[1;32m     50\u001b[0m def _prod(a, axis=None, dtype=None, out=None, keepdims=False,\n",
            "\u001b[0;31mTypeError\u001b[0m: can only concatenate str (not \"int\") to str"
          ]
        }
      ]
    },
    {
      "cell_type": "code",
      "source": [
        "print(len(Facebook))\n",
        "# Facebook = remove_outliers(Facebook,'dnsLookup',3)\n",
        "Facebook = remove_outliers(Facebook,Outliers_Removal,3)\n",
        "print(len(Facebook))"
      ],
      "metadata": {
        "colab": {
          "base_uri": "https://localhost:8080/",
          "height": 1000
        },
        "id": "FS0di0VBRpKn",
        "outputId": "8dc5c717-1a59-4f2b-ee18-16720267f6fc"
      },
      "execution_count": null,
      "outputs": [
        {
          "output_type": "stream",
          "name": "stdout",
          "text": [
            "2750\n",
            "Working on column: WifiRssi\n"
          ]
        },
        {
          "output_type": "error",
          "ename": "TypeError",
          "evalue": "ignored",
          "traceback": [
            "\u001b[0;31m---------------------------------------------------------------------------\u001b[0m",
            "\u001b[0;31mTypeError\u001b[0m                                 Traceback (most recent call last)",
            "\u001b[0;32m<ipython-input-17-a04a3aa572b3>\u001b[0m in \u001b[0;36m<module>\u001b[0;34m\u001b[0m\n\u001b[1;32m      1\u001b[0m \u001b[0mprint\u001b[0m\u001b[0;34m(\u001b[0m\u001b[0mlen\u001b[0m\u001b[0;34m(\u001b[0m\u001b[0mFacebook\u001b[0m\u001b[0;34m)\u001b[0m\u001b[0;34m)\u001b[0m\u001b[0;34m\u001b[0m\u001b[0;34m\u001b[0m\u001b[0m\n\u001b[1;32m      2\u001b[0m \u001b[0;31m# Facebook = remove_outliers(Facebook,'dnsLookup',3)\u001b[0m\u001b[0;34m\u001b[0m\u001b[0;34m\u001b[0m\u001b[0;34m\u001b[0m\u001b[0m\n\u001b[0;32m----> 3\u001b[0;31m \u001b[0mFacebook\u001b[0m \u001b[0;34m=\u001b[0m \u001b[0mremove_outliers\u001b[0m\u001b[0;34m(\u001b[0m\u001b[0mFacebook\u001b[0m\u001b[0;34m,\u001b[0m\u001b[0mOutliers_Removal\u001b[0m\u001b[0;34m,\u001b[0m\u001b[0;36m3\u001b[0m\u001b[0;34m)\u001b[0m\u001b[0;34m\u001b[0m\u001b[0;34m\u001b[0m\u001b[0m\n\u001b[0m\u001b[1;32m      4\u001b[0m \u001b[0mprint\u001b[0m\u001b[0;34m(\u001b[0m\u001b[0mlen\u001b[0m\u001b[0;34m(\u001b[0m\u001b[0mFacebook\u001b[0m\u001b[0;34m)\u001b[0m\u001b[0;34m)\u001b[0m\u001b[0;34m\u001b[0m\u001b[0;34m\u001b[0m\u001b[0m\n",
            "\u001b[0;32m<ipython-input-12-4854e8d1da05>\u001b[0m in \u001b[0;36mremove_outliers\u001b[0;34m(df, columns, n_std)\u001b[0m\n\u001b[1;32m      3\u001b[0m         \u001b[0mprint\u001b[0m\u001b[0;34m(\u001b[0m\u001b[0;34m'Working on column: {}'\u001b[0m\u001b[0;34m.\u001b[0m\u001b[0mformat\u001b[0m\u001b[0;34m(\u001b[0m\u001b[0mcol\u001b[0m\u001b[0;34m)\u001b[0m\u001b[0;34m)\u001b[0m\u001b[0;34m\u001b[0m\u001b[0;34m\u001b[0m\u001b[0m\n\u001b[1;32m      4\u001b[0m \u001b[0;34m\u001b[0m\u001b[0m\n\u001b[0;32m----> 5\u001b[0;31m         \u001b[0mmean\u001b[0m \u001b[0;34m=\u001b[0m \u001b[0mdf\u001b[0m\u001b[0;34m[\u001b[0m\u001b[0mcol\u001b[0m\u001b[0;34m]\u001b[0m\u001b[0;34m.\u001b[0m\u001b[0mmean\u001b[0m\u001b[0;34m(\u001b[0m\u001b[0;34m)\u001b[0m\u001b[0;34m\u001b[0m\u001b[0;34m\u001b[0m\u001b[0m\n\u001b[0m\u001b[1;32m      6\u001b[0m         \u001b[0msd\u001b[0m \u001b[0;34m=\u001b[0m \u001b[0mdf\u001b[0m\u001b[0;34m[\u001b[0m\u001b[0mcol\u001b[0m\u001b[0;34m]\u001b[0m\u001b[0;34m.\u001b[0m\u001b[0mstd\u001b[0m\u001b[0;34m(\u001b[0m\u001b[0;34m)\u001b[0m\u001b[0;34m\u001b[0m\u001b[0;34m\u001b[0m\u001b[0m\n\u001b[1;32m      7\u001b[0m \u001b[0;34m\u001b[0m\u001b[0m\n",
            "\u001b[0;32m/usr/local/lib/python3.7/dist-packages/pandas/core/generic.py\u001b[0m in \u001b[0;36mmean\u001b[0;34m(self, axis, skipna, level, numeric_only, **kwargs)\u001b[0m\n\u001b[1;32m  10749\u001b[0m         )\n\u001b[1;32m  10750\u001b[0m         \u001b[0;32mdef\u001b[0m \u001b[0mmean\u001b[0m\u001b[0;34m(\u001b[0m\u001b[0mself\u001b[0m\u001b[0;34m,\u001b[0m \u001b[0maxis\u001b[0m\u001b[0;34m=\u001b[0m\u001b[0;32mNone\u001b[0m\u001b[0;34m,\u001b[0m \u001b[0mskipna\u001b[0m\u001b[0;34m=\u001b[0m\u001b[0;32mNone\u001b[0m\u001b[0;34m,\u001b[0m \u001b[0mlevel\u001b[0m\u001b[0;34m=\u001b[0m\u001b[0;32mNone\u001b[0m\u001b[0;34m,\u001b[0m \u001b[0mnumeric_only\u001b[0m\u001b[0;34m=\u001b[0m\u001b[0;32mNone\u001b[0m\u001b[0;34m,\u001b[0m \u001b[0;34m**\u001b[0m\u001b[0mkwargs\u001b[0m\u001b[0;34m)\u001b[0m\u001b[0;34m:\u001b[0m\u001b[0;34m\u001b[0m\u001b[0;34m\u001b[0m\u001b[0m\n\u001b[0;32m> 10751\u001b[0;31m             \u001b[0;32mreturn\u001b[0m \u001b[0mNDFrame\u001b[0m\u001b[0;34m.\u001b[0m\u001b[0mmean\u001b[0m\u001b[0;34m(\u001b[0m\u001b[0mself\u001b[0m\u001b[0;34m,\u001b[0m \u001b[0maxis\u001b[0m\u001b[0;34m,\u001b[0m \u001b[0mskipna\u001b[0m\u001b[0;34m,\u001b[0m \u001b[0mlevel\u001b[0m\u001b[0;34m,\u001b[0m \u001b[0mnumeric_only\u001b[0m\u001b[0;34m,\u001b[0m \u001b[0;34m**\u001b[0m\u001b[0mkwargs\u001b[0m\u001b[0;34m)\u001b[0m\u001b[0;34m\u001b[0m\u001b[0;34m\u001b[0m\u001b[0m\n\u001b[0m\u001b[1;32m  10752\u001b[0m \u001b[0;34m\u001b[0m\u001b[0m\n\u001b[1;32m  10753\u001b[0m         \u001b[0msetattr\u001b[0m\u001b[0;34m(\u001b[0m\u001b[0mcls\u001b[0m\u001b[0;34m,\u001b[0m \u001b[0;34m\"mean\"\u001b[0m\u001b[0;34m,\u001b[0m \u001b[0mmean\u001b[0m\u001b[0;34m)\u001b[0m\u001b[0;34m\u001b[0m\u001b[0;34m\u001b[0m\u001b[0m\n",
            "\u001b[0;32m/usr/local/lib/python3.7/dist-packages/pandas/core/generic.py\u001b[0m in \u001b[0;36mmean\u001b[0;34m(self, axis, skipna, level, numeric_only, **kwargs)\u001b[0m\n\u001b[1;32m  10368\u001b[0m     \u001b[0;32mdef\u001b[0m \u001b[0mmean\u001b[0m\u001b[0;34m(\u001b[0m\u001b[0mself\u001b[0m\u001b[0;34m,\u001b[0m \u001b[0maxis\u001b[0m\u001b[0;34m=\u001b[0m\u001b[0;32mNone\u001b[0m\u001b[0;34m,\u001b[0m \u001b[0mskipna\u001b[0m\u001b[0;34m=\u001b[0m\u001b[0;32mNone\u001b[0m\u001b[0;34m,\u001b[0m \u001b[0mlevel\u001b[0m\u001b[0;34m=\u001b[0m\u001b[0;32mNone\u001b[0m\u001b[0;34m,\u001b[0m \u001b[0mnumeric_only\u001b[0m\u001b[0;34m=\u001b[0m\u001b[0;32mNone\u001b[0m\u001b[0;34m,\u001b[0m \u001b[0;34m**\u001b[0m\u001b[0mkwargs\u001b[0m\u001b[0;34m)\u001b[0m\u001b[0;34m:\u001b[0m\u001b[0;34m\u001b[0m\u001b[0;34m\u001b[0m\u001b[0m\n\u001b[1;32m  10369\u001b[0m         return self._stat_function(\n\u001b[0;32m> 10370\u001b[0;31m             \u001b[0;34m\"mean\"\u001b[0m\u001b[0;34m,\u001b[0m \u001b[0mnanops\u001b[0m\u001b[0;34m.\u001b[0m\u001b[0mnanmean\u001b[0m\u001b[0;34m,\u001b[0m \u001b[0maxis\u001b[0m\u001b[0;34m,\u001b[0m \u001b[0mskipna\u001b[0m\u001b[0;34m,\u001b[0m \u001b[0mlevel\u001b[0m\u001b[0;34m,\u001b[0m \u001b[0mnumeric_only\u001b[0m\u001b[0;34m,\u001b[0m \u001b[0;34m**\u001b[0m\u001b[0mkwargs\u001b[0m\u001b[0;34m\u001b[0m\u001b[0;34m\u001b[0m\u001b[0m\n\u001b[0m\u001b[1;32m  10371\u001b[0m         )\n\u001b[1;32m  10372\u001b[0m \u001b[0;34m\u001b[0m\u001b[0m\n",
            "\u001b[0;32m/usr/local/lib/python3.7/dist-packages/pandas/core/generic.py\u001b[0m in \u001b[0;36m_stat_function\u001b[0;34m(self, name, func, axis, skipna, level, numeric_only, **kwargs)\u001b[0m\n\u001b[1;32m  10353\u001b[0m             )\n\u001b[1;32m  10354\u001b[0m         return self._reduce(\n\u001b[0;32m> 10355\u001b[0;31m             \u001b[0mfunc\u001b[0m\u001b[0;34m,\u001b[0m \u001b[0mname\u001b[0m\u001b[0;34m=\u001b[0m\u001b[0mname\u001b[0m\u001b[0;34m,\u001b[0m \u001b[0maxis\u001b[0m\u001b[0;34m=\u001b[0m\u001b[0maxis\u001b[0m\u001b[0;34m,\u001b[0m \u001b[0mskipna\u001b[0m\u001b[0;34m=\u001b[0m\u001b[0mskipna\u001b[0m\u001b[0;34m,\u001b[0m \u001b[0mnumeric_only\u001b[0m\u001b[0;34m=\u001b[0m\u001b[0mnumeric_only\u001b[0m\u001b[0;34m\u001b[0m\u001b[0;34m\u001b[0m\u001b[0m\n\u001b[0m\u001b[1;32m  10356\u001b[0m         )\n\u001b[1;32m  10357\u001b[0m \u001b[0;34m\u001b[0m\u001b[0m\n",
            "\u001b[0;32m/usr/local/lib/python3.7/dist-packages/pandas/core/series.py\u001b[0m in \u001b[0;36m_reduce\u001b[0;34m(self, op, name, axis, skipna, numeric_only, filter_type, **kwds)\u001b[0m\n\u001b[1;32m   4390\u001b[0m                 )\n\u001b[1;32m   4391\u001b[0m             \u001b[0;32mwith\u001b[0m \u001b[0mnp\u001b[0m\u001b[0;34m.\u001b[0m\u001b[0merrstate\u001b[0m\u001b[0;34m(\u001b[0m\u001b[0mall\u001b[0m\u001b[0;34m=\u001b[0m\u001b[0;34m\"ignore\"\u001b[0m\u001b[0;34m)\u001b[0m\u001b[0;34m:\u001b[0m\u001b[0;34m\u001b[0m\u001b[0;34m\u001b[0m\u001b[0m\n\u001b[0;32m-> 4392\u001b[0;31m                 \u001b[0;32mreturn\u001b[0m \u001b[0mop\u001b[0m\u001b[0;34m(\u001b[0m\u001b[0mdelegate\u001b[0m\u001b[0;34m,\u001b[0m \u001b[0mskipna\u001b[0m\u001b[0;34m=\u001b[0m\u001b[0mskipna\u001b[0m\u001b[0;34m,\u001b[0m \u001b[0;34m**\u001b[0m\u001b[0mkwds\u001b[0m\u001b[0;34m)\u001b[0m\u001b[0;34m\u001b[0m\u001b[0;34m\u001b[0m\u001b[0m\n\u001b[0m\u001b[1;32m   4393\u001b[0m \u001b[0;34m\u001b[0m\u001b[0m\n\u001b[1;32m   4394\u001b[0m     def _reindex_indexer(\n",
            "\u001b[0;32m/usr/local/lib/python3.7/dist-packages/pandas/core/nanops.py\u001b[0m in \u001b[0;36m_f\u001b[0;34m(*args, **kwargs)\u001b[0m\n\u001b[1;32m     92\u001b[0m             \u001b[0;32mtry\u001b[0m\u001b[0;34m:\u001b[0m\u001b[0;34m\u001b[0m\u001b[0;34m\u001b[0m\u001b[0m\n\u001b[1;32m     93\u001b[0m                 \u001b[0;32mwith\u001b[0m \u001b[0mnp\u001b[0m\u001b[0;34m.\u001b[0m\u001b[0merrstate\u001b[0m\u001b[0;34m(\u001b[0m\u001b[0minvalid\u001b[0m\u001b[0;34m=\u001b[0m\u001b[0;34m\"ignore\"\u001b[0m\u001b[0;34m)\u001b[0m\u001b[0;34m:\u001b[0m\u001b[0;34m\u001b[0m\u001b[0;34m\u001b[0m\u001b[0m\n\u001b[0;32m---> 94\u001b[0;31m                     \u001b[0;32mreturn\u001b[0m \u001b[0mf\u001b[0m\u001b[0;34m(\u001b[0m\u001b[0;34m*\u001b[0m\u001b[0margs\u001b[0m\u001b[0;34m,\u001b[0m \u001b[0;34m**\u001b[0m\u001b[0mkwargs\u001b[0m\u001b[0;34m)\u001b[0m\u001b[0;34m\u001b[0m\u001b[0;34m\u001b[0m\u001b[0m\n\u001b[0m\u001b[1;32m     95\u001b[0m             \u001b[0;32mexcept\u001b[0m \u001b[0mValueError\u001b[0m \u001b[0;32mas\u001b[0m \u001b[0me\u001b[0m\u001b[0;34m:\u001b[0m\u001b[0;34m\u001b[0m\u001b[0;34m\u001b[0m\u001b[0m\n\u001b[1;32m     96\u001b[0m                 \u001b[0;31m# we want to transform an object array\u001b[0m\u001b[0;34m\u001b[0m\u001b[0;34m\u001b[0m\u001b[0;34m\u001b[0m\u001b[0m\n",
            "\u001b[0;32m/usr/local/lib/python3.7/dist-packages/pandas/core/nanops.py\u001b[0m in \u001b[0;36mf\u001b[0;34m(values, axis, skipna, **kwds)\u001b[0m\n\u001b[1;32m    154\u001b[0m                     \u001b[0mresult\u001b[0m \u001b[0;34m=\u001b[0m \u001b[0malt\u001b[0m\u001b[0;34m(\u001b[0m\u001b[0mvalues\u001b[0m\u001b[0;34m,\u001b[0m \u001b[0maxis\u001b[0m\u001b[0;34m=\u001b[0m\u001b[0maxis\u001b[0m\u001b[0;34m,\u001b[0m \u001b[0mskipna\u001b[0m\u001b[0;34m=\u001b[0m\u001b[0mskipna\u001b[0m\u001b[0;34m,\u001b[0m \u001b[0;34m**\u001b[0m\u001b[0mkwds\u001b[0m\u001b[0;34m)\u001b[0m\u001b[0;34m\u001b[0m\u001b[0;34m\u001b[0m\u001b[0m\n\u001b[1;32m    155\u001b[0m             \u001b[0;32melse\u001b[0m\u001b[0;34m:\u001b[0m\u001b[0;34m\u001b[0m\u001b[0;34m\u001b[0m\u001b[0m\n\u001b[0;32m--> 156\u001b[0;31m                 \u001b[0mresult\u001b[0m \u001b[0;34m=\u001b[0m \u001b[0malt\u001b[0m\u001b[0;34m(\u001b[0m\u001b[0mvalues\u001b[0m\u001b[0;34m,\u001b[0m \u001b[0maxis\u001b[0m\u001b[0;34m=\u001b[0m\u001b[0maxis\u001b[0m\u001b[0;34m,\u001b[0m \u001b[0mskipna\u001b[0m\u001b[0;34m=\u001b[0m\u001b[0mskipna\u001b[0m\u001b[0;34m,\u001b[0m \u001b[0;34m**\u001b[0m\u001b[0mkwds\u001b[0m\u001b[0;34m)\u001b[0m\u001b[0;34m\u001b[0m\u001b[0;34m\u001b[0m\u001b[0m\n\u001b[0m\u001b[1;32m    157\u001b[0m \u001b[0;34m\u001b[0m\u001b[0m\n\u001b[1;32m    158\u001b[0m             \u001b[0;32mreturn\u001b[0m \u001b[0mresult\u001b[0m\u001b[0;34m\u001b[0m\u001b[0;34m\u001b[0m\u001b[0m\n",
            "\u001b[0;32m/usr/local/lib/python3.7/dist-packages/pandas/core/nanops.py\u001b[0m in \u001b[0;36mnew_func\u001b[0;34m(values, axis, skipna, mask, **kwargs)\u001b[0m\n\u001b[1;32m    409\u001b[0m             \u001b[0mmask\u001b[0m \u001b[0;34m=\u001b[0m \u001b[0misna\u001b[0m\u001b[0;34m(\u001b[0m\u001b[0mvalues\u001b[0m\u001b[0;34m)\u001b[0m\u001b[0;34m\u001b[0m\u001b[0;34m\u001b[0m\u001b[0m\n\u001b[1;32m    410\u001b[0m \u001b[0;34m\u001b[0m\u001b[0m\n\u001b[0;32m--> 411\u001b[0;31m         \u001b[0mresult\u001b[0m \u001b[0;34m=\u001b[0m \u001b[0mfunc\u001b[0m\u001b[0;34m(\u001b[0m\u001b[0mvalues\u001b[0m\u001b[0;34m,\u001b[0m \u001b[0maxis\u001b[0m\u001b[0;34m=\u001b[0m\u001b[0maxis\u001b[0m\u001b[0;34m,\u001b[0m \u001b[0mskipna\u001b[0m\u001b[0;34m=\u001b[0m\u001b[0mskipna\u001b[0m\u001b[0;34m,\u001b[0m \u001b[0mmask\u001b[0m\u001b[0;34m=\u001b[0m\u001b[0mmask\u001b[0m\u001b[0;34m,\u001b[0m \u001b[0;34m**\u001b[0m\u001b[0mkwargs\u001b[0m\u001b[0;34m)\u001b[0m\u001b[0;34m\u001b[0m\u001b[0;34m\u001b[0m\u001b[0m\n\u001b[0m\u001b[1;32m    412\u001b[0m \u001b[0;34m\u001b[0m\u001b[0m\n\u001b[1;32m    413\u001b[0m         \u001b[0;32mif\u001b[0m \u001b[0mdatetimelike\u001b[0m\u001b[0;34m:\u001b[0m\u001b[0;34m\u001b[0m\u001b[0;34m\u001b[0m\u001b[0m\n",
            "\u001b[0;32m/usr/local/lib/python3.7/dist-packages/pandas/core/nanops.py\u001b[0m in \u001b[0;36mnanmean\u001b[0;34m(values, axis, skipna, mask)\u001b[0m\n\u001b[1;32m    664\u001b[0m \u001b[0;34m\u001b[0m\u001b[0m\n\u001b[1;32m    665\u001b[0m     \u001b[0mcount\u001b[0m \u001b[0;34m=\u001b[0m \u001b[0m_get_counts\u001b[0m\u001b[0;34m(\u001b[0m\u001b[0mvalues\u001b[0m\u001b[0;34m.\u001b[0m\u001b[0mshape\u001b[0m\u001b[0;34m,\u001b[0m \u001b[0mmask\u001b[0m\u001b[0;34m,\u001b[0m \u001b[0maxis\u001b[0m\u001b[0;34m,\u001b[0m \u001b[0mdtype\u001b[0m\u001b[0;34m=\u001b[0m\u001b[0mdtype_count\u001b[0m\u001b[0;34m)\u001b[0m\u001b[0;34m\u001b[0m\u001b[0;34m\u001b[0m\u001b[0m\n\u001b[0;32m--> 666\u001b[0;31m     \u001b[0mthe_sum\u001b[0m \u001b[0;34m=\u001b[0m \u001b[0m_ensure_numeric\u001b[0m\u001b[0;34m(\u001b[0m\u001b[0mvalues\u001b[0m\u001b[0;34m.\u001b[0m\u001b[0msum\u001b[0m\u001b[0;34m(\u001b[0m\u001b[0maxis\u001b[0m\u001b[0;34m,\u001b[0m \u001b[0mdtype\u001b[0m\u001b[0;34m=\u001b[0m\u001b[0mdtype_sum\u001b[0m\u001b[0;34m)\u001b[0m\u001b[0;34m)\u001b[0m\u001b[0;34m\u001b[0m\u001b[0;34m\u001b[0m\u001b[0m\n\u001b[0m\u001b[1;32m    667\u001b[0m \u001b[0;34m\u001b[0m\u001b[0m\n\u001b[1;32m    668\u001b[0m     \u001b[0;32mif\u001b[0m \u001b[0maxis\u001b[0m \u001b[0;32mis\u001b[0m \u001b[0;32mnot\u001b[0m \u001b[0;32mNone\u001b[0m \u001b[0;32mand\u001b[0m \u001b[0mgetattr\u001b[0m\u001b[0;34m(\u001b[0m\u001b[0mthe_sum\u001b[0m\u001b[0;34m,\u001b[0m \u001b[0;34m\"ndim\"\u001b[0m\u001b[0;34m,\u001b[0m \u001b[0;32mFalse\u001b[0m\u001b[0;34m)\u001b[0m\u001b[0;34m:\u001b[0m\u001b[0;34m\u001b[0m\u001b[0;34m\u001b[0m\u001b[0m\n",
            "\u001b[0;32m/usr/local/lib/python3.7/dist-packages/numpy/core/_methods.py\u001b[0m in \u001b[0;36m_sum\u001b[0;34m(a, axis, dtype, out, keepdims, initial, where)\u001b[0m\n\u001b[1;32m     46\u001b[0m def _sum(a, axis=None, dtype=None, out=None, keepdims=False,\n\u001b[1;32m     47\u001b[0m          initial=_NoValue, where=True):\n\u001b[0;32m---> 48\u001b[0;31m     \u001b[0;32mreturn\u001b[0m \u001b[0mumr_sum\u001b[0m\u001b[0;34m(\u001b[0m\u001b[0ma\u001b[0m\u001b[0;34m,\u001b[0m \u001b[0maxis\u001b[0m\u001b[0;34m,\u001b[0m \u001b[0mdtype\u001b[0m\u001b[0;34m,\u001b[0m \u001b[0mout\u001b[0m\u001b[0;34m,\u001b[0m \u001b[0mkeepdims\u001b[0m\u001b[0;34m,\u001b[0m \u001b[0minitial\u001b[0m\u001b[0;34m,\u001b[0m \u001b[0mwhere\u001b[0m\u001b[0;34m)\u001b[0m\u001b[0;34m\u001b[0m\u001b[0;34m\u001b[0m\u001b[0m\n\u001b[0m\u001b[1;32m     49\u001b[0m \u001b[0;34m\u001b[0m\u001b[0m\n\u001b[1;32m     50\u001b[0m def _prod(a, axis=None, dtype=None, out=None, keepdims=False,\n",
            "\u001b[0;31mTypeError\u001b[0m: can only concatenate str (not \"int\") to str"
          ]
        }
      ]
    },
    {
      "cell_type": "code",
      "source": [
        "def find_outliers(df):\n",
        "\n",
        "    # Identifying the numerical columns in a spark dataframe\n",
        "    numeric_columns = [column[0] for column in df.dtypes if column[1]=='int']\n",
        "\n",
        "    # Using the `for` loop to create new columns by identifying the outliers for each feature\n",
        "    for column in numeric_columns:\n",
        "\n",
        "        less_Q1 = 'less_Q1_{}'.format(column)\n",
        "        more_Q3 = 'more_Q3_{}'.format(column)\n",
        "        Q1 = 'Q1_{}'.format(column)\n",
        "        Q3 = 'Q3_{}'.format(column)\n",
        "\n",
        "        # Q1 : First Quartile ., Q3 : Third Quartile\n",
        "        Q1 = df.approxQuantile(column,[0.25],relativeError=0)\n",
        "        Q3 = df.approxQuantile(column,[0.75],relativeError=0)\n",
        "        \n",
        "        # IQR : Inter Quantile Range\n",
        "        # We need to define the index [0], as Q1 & Q3 are a set of lists., to perform a mathematical operation\n",
        "        # Q1 & Q3 are defined seperately so as to have a clear indication on First Quantile & 3rd Quantile\n",
        "        IQR = Q3[0] - Q1[0]\n",
        "        \n",
        "        #selecting the data, with -1.5*IQR to + 1.5*IQR., where param = 1.5 default value\n",
        "        less_Q1 =  Q1[0] - 1.5*IQR\n",
        "        more_Q3 =  Q3[0] + 1.5*IQR\n",
        "        \n",
        "        isOutlierCol = 'is_outlier_{}'.format(column)\n",
        "        \n",
        "        df = df.withColumn(isOutlierCol,f.when((df[column] > more_Q3) | (df[column] < less_Q1), 1).otherwise(0))\n",
        "    \n",
        "\n",
        "    # Selecting the specific columns which we have added above, to check if there are any outliers\n",
        "    selected_columns = [column for column in df.columns if column.startswith(\"is_outlier\")]\n",
        "\n",
        "    # Adding all the outlier columns into a new colum \"total_outliers\", to see the total number of outliers\n",
        "    df = df.withColumn('total_outliers',sum(df[column] for column in selected_columns))\n",
        "\n",
        "    # Dropping the extra columns created above, just to create nice dataframe., without extra columns\n",
        "    # df = df.drop(*[column for column in df.columns if column.startswith(\"is_outlier\")])\n",
        "\n",
        "    return df\n",
        "    "
      ],
      "metadata": {
        "id": "zsUtqBnuueuN"
      },
      "execution_count": null,
      "outputs": []
    },
    {
      "cell_type": "code",
      "source": [
        "print(DF_instagram)"
      ],
      "metadata": {
        "colab": {
          "base_uri": "https://localhost:8080/"
        },
        "id": "FudpYwImCeOC",
        "outputId": "d456cb9e-08c2-4f48-8cec-5778ba908e69"
      },
      "execution_count": null,
      "outputs": [
        {
          "output_type": "stream",
          "name": "stdout",
          "text": [
            "+----------+----------+--------------------+------------+---------+--------------------+----------+----------+----------+---------+----------------+--------+--------------------+---------------+-----+-------------------+--------------------+---------+-----------------+--------------+----+-----------+---------+-------+----------------+--------------+-------+---------+\n",
            "|  Latitude| Longitude|          @timestamp|Manufacturer|    Model|             AppName|SdkVersion|AppVersion|AndroidApi|OSVersion|ActiveConnection|WifiRssi|           lvl1_name|             IP|  ASN|                ISP|                 URL|dnsLookup|initialConnection|sslNegotiation|TTFB|fullyLoaded|AvgJitter|AvgPing|AvgDownloadSpeed|AvgUploadSpeed|LteRssi|WcdmaRssi|\n",
            "+----------+----------+--------------------+------------+---------+--------------------+----------+----------+----------+---------+----------------+--------+--------------------+---------------+-----+-------------------+--------------------+---------+-----------------+--------------+----+-----------+---------+-------+----------------+--------------+-------+---------+\n",
            "|26.1910185|50.5588291|2020-12-31T23:00:...|     samsung| SM-J610F|com.speedchecker....|   4.2.104| 1.0.45-bh|        29|       10|            WIFI|     -71| Capital Governorate| 193.188.123.86| 5416|            Batelco|https://www.insta...|       23|              191|           103| 541|       1567|     24.1|    9.1|          32.845|          4.78|   null|     null|\n",
            "|  26.27037|  50.65194|2020-12-31T23:01:...|     samsung| SM-N960F|com.speedchecker....|   4.2.107| 1.0.47-bh|        27|    8.1.0|            WIFI|    null|Muharraq Governorate| 37.131.127.143|51375|        stc Bahrain|https://www.insta...|       24|              251|           143| 667|       1442|     74.8|   47.6|          13.412|        10.008|   null|     null|\n",
            "| 26.191702|50.4857063|2020-12-31T23:05:...|      HUAWEI| PAR-TL00|com.trabhr.tracon...|   4.2.104|     1.1.3|        28|        9|            WIFI|     -74|Northern Governorate| 109.161.176.27|31452|Zain Bahrain B.s.c.|https://www.insta...|       17|              183|           101| 528|       1250|     28.6|   17.7|          28.099|        19.525|   null|     null|\n",
            "|26.0418608|50.6119447|2020-12-31T23:05:...|     samsung| SM-N981B|com.trabhr.tracon...|   4.2.104|     1.1.3|        30|       11|            WIFI|     -74|Southern Governorate| 37.131.117.138|51375|        stc Bahrain|https://www.insta...|       48|              306|           170| 797|       1750|     31.7|   50.6|          14.697|        16.832|   null|     null|\n",
            "|   26.2286|  50.51598|2020-12-31T23:11:...|     samsung| SM-G610F|com.trabhr.tracon...|   4.2.104|     1.1.3|        27|    8.1.0|            WIFI|     -70|Northern Governorate|  88.201.24.116| 5416|            Batelco|https://www.insta...|       20|              183|           100| 524|       1158|      2.0|   62.2|          41.606|         5.215|   null|     null|\n",
            "|26.2569706|50.6070652|2020-12-31T23:18:...|     samsung| SM-G986B|com.trabhr.tracon...|   4.2.104|     1.1.3|        30|       11|            WIFI|     -66|Muharraq Governorate|  77.69.144.245| 5416|            Batelco|https://www.insta...|       22|              204|           117| 534|       1342|      7.4|    7.3|          70.572|        15.353|   null|     null|\n",
            "|  26.27306|  50.62154|2020-12-31T23:22:...|     samsung| SM-G935F|com.speedchecker....|   4.2.107| 1.0.47-bh|        26|    8.0.0|              4G|    null|Muharraq Governorate|    62.209.9.28|31452|Zain Bahrain B.s.c.|https://www.insta...|       86|              224|           129| 718|       1856|     12.0|   33.5|          10.536|         5.277|   null|     null|\n",
            "|26.1563304|50.5718308|2020-12-31T23:35:...|      HUAWEI|  RNE-L21|com.trabhr.tracon...|   4.2.104|     1.1.3|        26|    8.0.0|            WIFI|     -52| Capital Governorate|193.188.113.183| 5416|            Batelco|https://www.insta...|       21|              182|            97| 497|       1207|     14.3|   19.8|          29.908|        15.161|   null|     null|\n",
            "|  26.16994|    50.628|2020-12-31T23:37:...|      HUAWEI|  STK-L22|com.speedchecker....|   4.2.107| 1.0.47-bh|        29|       10|            WIFI|     -27| Capital Governorate|   62.209.9.111|31452|Zain Bahrain B.s.c.|https://www.insta...|        8|              407|           288| 808|       2533|      5.8|    8.0|          61.688|        10.088|   null|     null|\n",
            "|   26.2028|  50.53372|2020-12-31T23:41:...|        vivo|    V2027|com.speedchecker....|   4.2.107| 1.0.47-bh|        29|       10|              4G|    null|Northern Governorate|   62.209.9.252|31452|Zain Bahrain B.s.c.|https://www.insta...|     null|             null|          null|null|       null|      9.9|   26.7|          11.762|        11.784|    -57|     null|\n",
            "|26.1249889|50.5750767|2020-12-31T23:44:...|      HUAWEI|  CLT-L29|com.trabhr.tracon...|   4.2.104|     1.1.3|        29|       10|            WIFI|     -72|Southern Governorate|   88.201.5.214| 5416|            Batelco|https://www.insta...|       27|              220|           124| 575|       1963|     43.8|   16.6|          55.447|        25.271|   null|     null|\n",
            "| 26.235699|50.5419179|2020-12-31T23:53:...|     samsung|SM-A705FN|com.trabhr.tracon...|   4.2.104|     1.1.3|        29|       10|            WIFI|     -52| Capital Governorate|  89.148.20.140| 5416|            Batelco|https://www.insta...|      188|              304|           220| 976|       1740|     21.6|   39.0|          47.273|        49.213|   null|     null|\n",
            "|26.2111962|50.4707807|2020-12-31T23:53:...|     samsung|SM-A705FN|com.trabhr.tracon...|   4.2.104|     1.1.3|        28|        9|            WIFI|     -68|Northern Governorate|  62.209.10.172|31452|Zain Bahrain B.s.c.|https://www.insta...|        0|                0|          null| 296|       1492|     45.0|   43.1|          19.277|         7.385|   null|     null|\n",
            "|26.2111962|50.4707807|2020-12-31T23:54:...|     samsung|SM-A705FN|com.trabhr.tracon...|   4.2.104|     1.1.3|        28|        9|            WIFI|     -72|Northern Governorate|  62.209.10.172|31452|Zain Bahrain B.s.c.|https://www.insta...|        0|              155|           155| 602|       1633|     45.0|   43.1|          19.277|         7.385|   null|     null|\n",
            "|  26.08571|   50.5524|2020-12-31T23:14:...|     samsung| SM-F916B|com.speedchecker....|   4.2.107| 1.0.47-bh|        29|       10|            WIFI|    null|Southern Governorate|           null| null|               null|https://www.insta...|     null|             null|          null|null|       null|     38.8|   25.8|         131.502|        10.982|   null|     null|\n",
            "|26.0366633|50.6149272|2020-12-31T23:57:...|     samsung| SM-G973F|com.trabhr.tracon...|   4.2.104|     1.1.3|        29|       10|            WIFI|     -56|Southern Governorate|    46.42.66.38|51375|        stc Bahrain|https://www.insta...|        0|                0|          null|2168|       2453|     68.2|  124.9|          14.667|        13.497|   null|     null|\n",
            "|26.0366633|50.6149272|2020-12-31T23:57:...|     samsung| SM-G973F|com.trabhr.tracon...|   4.2.104|     1.1.3|        29|       10|            WIFI|     -56|Southern Governorate|    46.42.66.38|51375|        stc Bahrain|https://www.insta...|        0|                0|          null|2168|       2453|     68.2|  124.9|          14.667|        13.497|   null|     null|\n",
            "|26.0924239|50.5028202|2021-01-01T00:02:...|     samsung| SM-G935F|com.trabhr.tracon...|   4.2.104|     1.1.3|        26|    8.0.0|            WIFI|     -63|Northern Governorate|   77.69.232.80| 5416|            Batelco|https://www.insta...|       29|              220|           131| 604|       2484|     19.8|   20.5|          16.472|         5.101|   null|     null|\n",
            "|26.1251367|50.5425127|2021-01-01T00:03:...|     samsung| SM-A520F|com.speedchecker....|    4.2.74|    1.0.29|        26|    8.0.0|            WIFI|     -63|Southern Governorate|     94.76.1.93|51375|        stc Bahrain|https://www.insta...|        3|              188|           108| 620|       2009|     44.7|   35.9|          17.996|        11.599|   null|     null|\n",
            "|   26.1685|  50.55997|2021-01-01T00:05:...|     samsung| SM-N910C|com.speedchecker....|   4.2.107| 1.0.47-bh|        23|    6.0.1|            WIFI|     -77|Southern Governorate| 193.188.113.12| 5416|            Batelco|https://www.insta...|        3|              222|           138| 512|       1384|     36.0|   40.1|          11.829|         8.329|   null|     null|\n",
            "+----------+----------+--------------------+------------+---------+--------------------+----------+----------+----------+---------+----------------+--------+--------------------+---------------+-----+-------------------+--------------------+---------+-----------------+--------------+----+-----------+---------+-------+----------------+--------------+-------+---------+\n",
            "only showing top 20 rows\n",
            "\n"
          ]
        }
      ]
    },
    {
      "cell_type": "code",
      "source": [
        "pdf1 = DF.toPandas()\n",
        "pdf1.describe(include='all')"
      ],
      "metadata": {
        "colab": {
          "base_uri": "https://localhost:8080/",
          "height": 505
        },
        "id": "Yz5Yb6nwTsf1",
        "outputId": "87d64be8-4b8b-47c2-8c80-1b3aaa6266b1"
      },
      "execution_count": null,
      "outputs": [
        {
          "output_type": "execute_result",
          "data": {
            "text/plain": [
              "            Latitude     Longitude                 @timestamp Manufacturer  \\\n",
              "count   19964.000000  19964.000000                      20002        20002   \n",
              "unique           NaN           NaN                      19330           36   \n",
              "top              NaN           NaN  2021-01-01T12:30:26+00:00      samsung   \n",
              "freq             NaN           NaN                          5        12976   \n",
              "mean       26.184342     50.564534                        NaN          NaN   \n",
              "std         0.065657      0.052469                        NaN          NaN   \n",
              "min        25.617760     50.438125                        NaN          NaN   \n",
              "25%        26.135210     50.522740                        NaN          NaN   \n",
              "50%        26.199980     50.570635                        NaN          NaN   \n",
              "75%        26.231175     50.600870                        NaN          NaN   \n",
              "max        26.323618     50.770490                        NaN          NaN   \n",
              "\n",
              "           Model                      AppName SdkVersion AppVersion  \\\n",
              "count      20002                        20002      20002      20002   \n",
              "unique       430                            4         19         26   \n",
              "top     SM-N960F  com.speedchecker.bh.weather    4.2.104      1.1.3   \n",
              "freq        1050                        14187       6229       4749   \n",
              "mean         NaN                          NaN        NaN        NaN   \n",
              "std          NaN                          NaN        NaN        NaN   \n",
              "min          NaN                          NaN        NaN        NaN   \n",
              "25%          NaN                          NaN        NaN        NaN   \n",
              "50%          NaN                          NaN        NaN        NaN   \n",
              "75%          NaN                          NaN        NaN        NaN   \n",
              "max          NaN                          NaN        NaN        NaN   \n",
              "\n",
              "       AndroidApi OSVersion  ... initialConnection sslNegotiation  \\\n",
              "count       20002     20002  ...       8272.000000    5091.000000   \n",
              "unique         14        21  ...               NaN            NaN   \n",
              "top            29        10  ...               NaN            NaN   \n",
              "freq         5626      5626  ...               NaN            NaN   \n",
              "mean          NaN       NaN  ...        208.984163     230.948929   \n",
              "std           NaN       NaN  ...        440.193670     265.444883   \n",
              "min           NaN       NaN  ...          0.000000       0.000000   \n",
              "25%           NaN       NaN  ...          0.000000     140.000000   \n",
              "50%           NaN       NaN  ...        198.000000     179.000000   \n",
              "75%           NaN       NaN  ...        288.000000     250.000000   \n",
              "max           NaN       NaN  ...      15555.000000    6598.000000   \n",
              "\n",
              "                TTFB   fullyLoaded     AvgJitter       AvgPing  \\\n",
              "count    8272.000000   8287.000000  18889.000000  19128.000000   \n",
              "unique           NaN           NaN           NaN           NaN   \n",
              "top              NaN           NaN           NaN           NaN   \n",
              "freq             NaN           NaN           NaN           NaN   \n",
              "mean      982.820479   4105.824303     22.593615     27.720065   \n",
              "std      1201.008228   3791.956908     22.294251     24.191485   \n",
              "min        24.000000     69.000000      0.000000      3.000000   \n",
              "25%       584.000000   2037.500000     10.400000     15.800000   \n",
              "50%       739.000000   2925.000000     18.500000     22.600000   \n",
              "75%      1005.000000   4550.500000     28.000000     31.400000   \n",
              "max     25483.000000  31248.000000    499.700000    413.600000   \n",
              "\n",
              "       AvgDownloadSpeed  AvgUploadSpeed      LteRssi   WcdmaRssi  \n",
              "count      19152.000000    19120.000000  2290.000000  198.000000  \n",
              "unique              NaN             NaN          NaN         NaN  \n",
              "top                 NaN             NaN          NaN         NaN  \n",
              "freq                NaN             NaN          NaN         NaN  \n",
              "mean          25.947132       12.500999   -73.461135  -77.914141  \n",
              "std           23.339063        9.527785    16.608396   15.332117  \n",
              "min            0.050000        0.191000  -113.000000 -113.000000  \n",
              "25%           13.530000        6.244000   -87.000000  -91.000000  \n",
              "50%           20.445000       10.131000   -71.000000  -77.000000  \n",
              "75%           32.492000       15.584250   -59.000000  -65.000000  \n",
              "max          519.471000      156.698000   -51.000000  -51.000000  \n",
              "\n",
              "[11 rows x 28 columns]"
            ],
            "text/html": [
              "\n",
              "  <div id=\"df-6ee1dbf5-d994-49bd-8cfd-e9761e6cd64b\">\n",
              "    <div class=\"colab-df-container\">\n",
              "      <div>\n",
              "<style scoped>\n",
              "    .dataframe tbody tr th:only-of-type {\n",
              "        vertical-align: middle;\n",
              "    }\n",
              "\n",
              "    .dataframe tbody tr th {\n",
              "        vertical-align: top;\n",
              "    }\n",
              "\n",
              "    .dataframe thead th {\n",
              "        text-align: right;\n",
              "    }\n",
              "</style>\n",
              "<table border=\"1\" class=\"dataframe\">\n",
              "  <thead>\n",
              "    <tr style=\"text-align: right;\">\n",
              "      <th></th>\n",
              "      <th>Latitude</th>\n",
              "      <th>Longitude</th>\n",
              "      <th>@timestamp</th>\n",
              "      <th>Manufacturer</th>\n",
              "      <th>Model</th>\n",
              "      <th>AppName</th>\n",
              "      <th>SdkVersion</th>\n",
              "      <th>AppVersion</th>\n",
              "      <th>AndroidApi</th>\n",
              "      <th>OSVersion</th>\n",
              "      <th>...</th>\n",
              "      <th>initialConnection</th>\n",
              "      <th>sslNegotiation</th>\n",
              "      <th>TTFB</th>\n",
              "      <th>fullyLoaded</th>\n",
              "      <th>AvgJitter</th>\n",
              "      <th>AvgPing</th>\n",
              "      <th>AvgDownloadSpeed</th>\n",
              "      <th>AvgUploadSpeed</th>\n",
              "      <th>LteRssi</th>\n",
              "      <th>WcdmaRssi</th>\n",
              "    </tr>\n",
              "  </thead>\n",
              "  <tbody>\n",
              "    <tr>\n",
              "      <th>count</th>\n",
              "      <td>19964.000000</td>\n",
              "      <td>19964.000000</td>\n",
              "      <td>20002</td>\n",
              "      <td>20002</td>\n",
              "      <td>20002</td>\n",
              "      <td>20002</td>\n",
              "      <td>20002</td>\n",
              "      <td>20002</td>\n",
              "      <td>20002</td>\n",
              "      <td>20002</td>\n",
              "      <td>...</td>\n",
              "      <td>8272.000000</td>\n",
              "      <td>5091.000000</td>\n",
              "      <td>8272.000000</td>\n",
              "      <td>8287.000000</td>\n",
              "      <td>18889.000000</td>\n",
              "      <td>19128.000000</td>\n",
              "      <td>19152.000000</td>\n",
              "      <td>19120.000000</td>\n",
              "      <td>2290.000000</td>\n",
              "      <td>198.000000</td>\n",
              "    </tr>\n",
              "    <tr>\n",
              "      <th>unique</th>\n",
              "      <td>NaN</td>\n",
              "      <td>NaN</td>\n",
              "      <td>19330</td>\n",
              "      <td>36</td>\n",
              "      <td>430</td>\n",
              "      <td>4</td>\n",
              "      <td>19</td>\n",
              "      <td>26</td>\n",
              "      <td>14</td>\n",
              "      <td>21</td>\n",
              "      <td>...</td>\n",
              "      <td>NaN</td>\n",
              "      <td>NaN</td>\n",
              "      <td>NaN</td>\n",
              "      <td>NaN</td>\n",
              "      <td>NaN</td>\n",
              "      <td>NaN</td>\n",
              "      <td>NaN</td>\n",
              "      <td>NaN</td>\n",
              "      <td>NaN</td>\n",
              "      <td>NaN</td>\n",
              "    </tr>\n",
              "    <tr>\n",
              "      <th>top</th>\n",
              "      <td>NaN</td>\n",
              "      <td>NaN</td>\n",
              "      <td>2021-01-01T12:30:26+00:00</td>\n",
              "      <td>samsung</td>\n",
              "      <td>SM-N960F</td>\n",
              "      <td>com.speedchecker.bh.weather</td>\n",
              "      <td>4.2.104</td>\n",
              "      <td>1.1.3</td>\n",
              "      <td>29</td>\n",
              "      <td>10</td>\n",
              "      <td>...</td>\n",
              "      <td>NaN</td>\n",
              "      <td>NaN</td>\n",
              "      <td>NaN</td>\n",
              "      <td>NaN</td>\n",
              "      <td>NaN</td>\n",
              "      <td>NaN</td>\n",
              "      <td>NaN</td>\n",
              "      <td>NaN</td>\n",
              "      <td>NaN</td>\n",
              "      <td>NaN</td>\n",
              "    </tr>\n",
              "    <tr>\n",
              "      <th>freq</th>\n",
              "      <td>NaN</td>\n",
              "      <td>NaN</td>\n",
              "      <td>5</td>\n",
              "      <td>12976</td>\n",
              "      <td>1050</td>\n",
              "      <td>14187</td>\n",
              "      <td>6229</td>\n",
              "      <td>4749</td>\n",
              "      <td>5626</td>\n",
              "      <td>5626</td>\n",
              "      <td>...</td>\n",
              "      <td>NaN</td>\n",
              "      <td>NaN</td>\n",
              "      <td>NaN</td>\n",
              "      <td>NaN</td>\n",
              "      <td>NaN</td>\n",
              "      <td>NaN</td>\n",
              "      <td>NaN</td>\n",
              "      <td>NaN</td>\n",
              "      <td>NaN</td>\n",
              "      <td>NaN</td>\n",
              "    </tr>\n",
              "    <tr>\n",
              "      <th>mean</th>\n",
              "      <td>26.184342</td>\n",
              "      <td>50.564534</td>\n",
              "      <td>NaN</td>\n",
              "      <td>NaN</td>\n",
              "      <td>NaN</td>\n",
              "      <td>NaN</td>\n",
              "      <td>NaN</td>\n",
              "      <td>NaN</td>\n",
              "      <td>NaN</td>\n",
              "      <td>NaN</td>\n",
              "      <td>...</td>\n",
              "      <td>208.984163</td>\n",
              "      <td>230.948929</td>\n",
              "      <td>982.820479</td>\n",
              "      <td>4105.824303</td>\n",
              "      <td>22.593615</td>\n",
              "      <td>27.720065</td>\n",
              "      <td>25.947132</td>\n",
              "      <td>12.500999</td>\n",
              "      <td>-73.461135</td>\n",
              "      <td>-77.914141</td>\n",
              "    </tr>\n",
              "    <tr>\n",
              "      <th>std</th>\n",
              "      <td>0.065657</td>\n",
              "      <td>0.052469</td>\n",
              "      <td>NaN</td>\n",
              "      <td>NaN</td>\n",
              "      <td>NaN</td>\n",
              "      <td>NaN</td>\n",
              "      <td>NaN</td>\n",
              "      <td>NaN</td>\n",
              "      <td>NaN</td>\n",
              "      <td>NaN</td>\n",
              "      <td>...</td>\n",
              "      <td>440.193670</td>\n",
              "      <td>265.444883</td>\n",
              "      <td>1201.008228</td>\n",
              "      <td>3791.956908</td>\n",
              "      <td>22.294251</td>\n",
              "      <td>24.191485</td>\n",
              "      <td>23.339063</td>\n",
              "      <td>9.527785</td>\n",
              "      <td>16.608396</td>\n",
              "      <td>15.332117</td>\n",
              "    </tr>\n",
              "    <tr>\n",
              "      <th>min</th>\n",
              "      <td>25.617760</td>\n",
              "      <td>50.438125</td>\n",
              "      <td>NaN</td>\n",
              "      <td>NaN</td>\n",
              "      <td>NaN</td>\n",
              "      <td>NaN</td>\n",
              "      <td>NaN</td>\n",
              "      <td>NaN</td>\n",
              "      <td>NaN</td>\n",
              "      <td>NaN</td>\n",
              "      <td>...</td>\n",
              "      <td>0.000000</td>\n",
              "      <td>0.000000</td>\n",
              "      <td>24.000000</td>\n",
              "      <td>69.000000</td>\n",
              "      <td>0.000000</td>\n",
              "      <td>3.000000</td>\n",
              "      <td>0.050000</td>\n",
              "      <td>0.191000</td>\n",
              "      <td>-113.000000</td>\n",
              "      <td>-113.000000</td>\n",
              "    </tr>\n",
              "    <tr>\n",
              "      <th>25%</th>\n",
              "      <td>26.135210</td>\n",
              "      <td>50.522740</td>\n",
              "      <td>NaN</td>\n",
              "      <td>NaN</td>\n",
              "      <td>NaN</td>\n",
              "      <td>NaN</td>\n",
              "      <td>NaN</td>\n",
              "      <td>NaN</td>\n",
              "      <td>NaN</td>\n",
              "      <td>NaN</td>\n",
              "      <td>...</td>\n",
              "      <td>0.000000</td>\n",
              "      <td>140.000000</td>\n",
              "      <td>584.000000</td>\n",
              "      <td>2037.500000</td>\n",
              "      <td>10.400000</td>\n",
              "      <td>15.800000</td>\n",
              "      <td>13.530000</td>\n",
              "      <td>6.244000</td>\n",
              "      <td>-87.000000</td>\n",
              "      <td>-91.000000</td>\n",
              "    </tr>\n",
              "    <tr>\n",
              "      <th>50%</th>\n",
              "      <td>26.199980</td>\n",
              "      <td>50.570635</td>\n",
              "      <td>NaN</td>\n",
              "      <td>NaN</td>\n",
              "      <td>NaN</td>\n",
              "      <td>NaN</td>\n",
              "      <td>NaN</td>\n",
              "      <td>NaN</td>\n",
              "      <td>NaN</td>\n",
              "      <td>NaN</td>\n",
              "      <td>...</td>\n",
              "      <td>198.000000</td>\n",
              "      <td>179.000000</td>\n",
              "      <td>739.000000</td>\n",
              "      <td>2925.000000</td>\n",
              "      <td>18.500000</td>\n",
              "      <td>22.600000</td>\n",
              "      <td>20.445000</td>\n",
              "      <td>10.131000</td>\n",
              "      <td>-71.000000</td>\n",
              "      <td>-77.000000</td>\n",
              "    </tr>\n",
              "    <tr>\n",
              "      <th>75%</th>\n",
              "      <td>26.231175</td>\n",
              "      <td>50.600870</td>\n",
              "      <td>NaN</td>\n",
              "      <td>NaN</td>\n",
              "      <td>NaN</td>\n",
              "      <td>NaN</td>\n",
              "      <td>NaN</td>\n",
              "      <td>NaN</td>\n",
              "      <td>NaN</td>\n",
              "      <td>NaN</td>\n",
              "      <td>...</td>\n",
              "      <td>288.000000</td>\n",
              "      <td>250.000000</td>\n",
              "      <td>1005.000000</td>\n",
              "      <td>4550.500000</td>\n",
              "      <td>28.000000</td>\n",
              "      <td>31.400000</td>\n",
              "      <td>32.492000</td>\n",
              "      <td>15.584250</td>\n",
              "      <td>-59.000000</td>\n",
              "      <td>-65.000000</td>\n",
              "    </tr>\n",
              "    <tr>\n",
              "      <th>max</th>\n",
              "      <td>26.323618</td>\n",
              "      <td>50.770490</td>\n",
              "      <td>NaN</td>\n",
              "      <td>NaN</td>\n",
              "      <td>NaN</td>\n",
              "      <td>NaN</td>\n",
              "      <td>NaN</td>\n",
              "      <td>NaN</td>\n",
              "      <td>NaN</td>\n",
              "      <td>NaN</td>\n",
              "      <td>...</td>\n",
              "      <td>15555.000000</td>\n",
              "      <td>6598.000000</td>\n",
              "      <td>25483.000000</td>\n",
              "      <td>31248.000000</td>\n",
              "      <td>499.700000</td>\n",
              "      <td>413.600000</td>\n",
              "      <td>519.471000</td>\n",
              "      <td>156.698000</td>\n",
              "      <td>-51.000000</td>\n",
              "      <td>-51.000000</td>\n",
              "    </tr>\n",
              "  </tbody>\n",
              "</table>\n",
              "<p>11 rows × 28 columns</p>\n",
              "</div>\n",
              "      <button class=\"colab-df-convert\" onclick=\"convertToInteractive('df-6ee1dbf5-d994-49bd-8cfd-e9761e6cd64b')\"\n",
              "              title=\"Convert this dataframe to an interactive table.\"\n",
              "              style=\"display:none;\">\n",
              "        \n",
              "  <svg xmlns=\"http://www.w3.org/2000/svg\" height=\"24px\"viewBox=\"0 0 24 24\"\n",
              "       width=\"24px\">\n",
              "    <path d=\"M0 0h24v24H0V0z\" fill=\"none\"/>\n",
              "    <path d=\"M18.56 5.44l.94 2.06.94-2.06 2.06-.94-2.06-.94-.94-2.06-.94 2.06-2.06.94zm-11 1L8.5 8.5l.94-2.06 2.06-.94-2.06-.94L8.5 2.5l-.94 2.06-2.06.94zm10 10l.94 2.06.94-2.06 2.06-.94-2.06-.94-.94-2.06-.94 2.06-2.06.94z\"/><path d=\"M17.41 7.96l-1.37-1.37c-.4-.4-.92-.59-1.43-.59-.52 0-1.04.2-1.43.59L10.3 9.45l-7.72 7.72c-.78.78-.78 2.05 0 2.83L4 21.41c.39.39.9.59 1.41.59.51 0 1.02-.2 1.41-.59l7.78-7.78 2.81-2.81c.8-.78.8-2.07 0-2.86zM5.41 20L4 18.59l7.72-7.72 1.47 1.35L5.41 20z\"/>\n",
              "  </svg>\n",
              "      </button>\n",
              "      \n",
              "  <style>\n",
              "    .colab-df-container {\n",
              "      display:flex;\n",
              "      flex-wrap:wrap;\n",
              "      gap: 12px;\n",
              "    }\n",
              "\n",
              "    .colab-df-convert {\n",
              "      background-color: #E8F0FE;\n",
              "      border: none;\n",
              "      border-radius: 50%;\n",
              "      cursor: pointer;\n",
              "      display: none;\n",
              "      fill: #1967D2;\n",
              "      height: 32px;\n",
              "      padding: 0 0 0 0;\n",
              "      width: 32px;\n",
              "    }\n",
              "\n",
              "    .colab-df-convert:hover {\n",
              "      background-color: #E2EBFA;\n",
              "      box-shadow: 0px 1px 2px rgba(60, 64, 67, 0.3), 0px 1px 3px 1px rgba(60, 64, 67, 0.15);\n",
              "      fill: #174EA6;\n",
              "    }\n",
              "\n",
              "    [theme=dark] .colab-df-convert {\n",
              "      background-color: #3B4455;\n",
              "      fill: #D2E3FC;\n",
              "    }\n",
              "\n",
              "    [theme=dark] .colab-df-convert:hover {\n",
              "      background-color: #434B5C;\n",
              "      box-shadow: 0px 1px 3px 1px rgba(0, 0, 0, 0.15);\n",
              "      filter: drop-shadow(0px 1px 2px rgba(0, 0, 0, 0.3));\n",
              "      fill: #FFFFFF;\n",
              "    }\n",
              "  </style>\n",
              "\n",
              "      <script>\n",
              "        const buttonEl =\n",
              "          document.querySelector('#df-6ee1dbf5-d994-49bd-8cfd-e9761e6cd64b button.colab-df-convert');\n",
              "        buttonEl.style.display =\n",
              "          google.colab.kernel.accessAllowed ? 'block' : 'none';\n",
              "\n",
              "        async function convertToInteractive(key) {\n",
              "          const element = document.querySelector('#df-6ee1dbf5-d994-49bd-8cfd-e9761e6cd64b');\n",
              "          const dataTable =\n",
              "            await google.colab.kernel.invokeFunction('convertToInteractive',\n",
              "                                                     [key], {});\n",
              "          if (!dataTable) return;\n",
              "\n",
              "          const docLinkHtml = 'Like what you see? Visit the ' +\n",
              "            '<a target=\"_blank\" href=https://colab.research.google.com/notebooks/data_table.ipynb>data table notebook</a>'\n",
              "            + ' to learn more about interactive tables.';\n",
              "          element.innerHTML = '';\n",
              "          dataTable['output_type'] = 'display_data';\n",
              "          await google.colab.output.renderOutput(dataTable, element);\n",
              "          const docLink = document.createElement('div');\n",
              "          docLink.innerHTML = docLinkHtml;\n",
              "          element.appendChild(docLink);\n",
              "        }\n",
              "      </script>\n",
              "    </div>\n",
              "  </div>\n",
              "  "
            ]
          },
          "metadata": {},
          "execution_count": 26
        }
      ]
    },
    {
      "cell_type": "code",
      "source": [
        "import numpy as np\n",
        "from scipy import stats\n",
        "pdf1 = pdf1[(np.abs(stats.zscore(pdf1)) < 3).all(axis=1)]  # Will remove outliers 3 Standard Deviations from mean\n",
        "# pdf1 = DF.toPandas()\n",
        "pdf1.describe(include='all')"
      ],
      "metadata": {
        "colab": {
          "base_uri": "https://localhost:8080/",
          "height": 491
        },
        "id": "zVBtEV9gUJSX",
        "outputId": "be75c443-f0db-4430-821d-e5e1757eb0bb"
      },
      "execution_count": null,
      "outputs": [
        {
          "output_type": "error",
          "ename": "KeyboardInterrupt",
          "evalue": "ignored",
          "traceback": [
            "\u001b[0;31m---------------------------------------------------------------------------\u001b[0m",
            "\u001b[0;31mTypeError\u001b[0m                                 Traceback (most recent call last)",
            "\u001b[0;32m/usr/local/lib/python3.7/dist-packages/scipy/stats/stats.py\u001b[0m in \u001b[0;36m_contains_nan\u001b[0;34m(a, nan_policy)\u001b[0m\n\u001b[1;32m     87\u001b[0m         \u001b[0;32mwith\u001b[0m \u001b[0mnp\u001b[0m\u001b[0;34m.\u001b[0m\u001b[0merrstate\u001b[0m\u001b[0;34m(\u001b[0m\u001b[0minvalid\u001b[0m\u001b[0;34m=\u001b[0m\u001b[0;34m'ignore'\u001b[0m\u001b[0;34m)\u001b[0m\u001b[0;34m:\u001b[0m\u001b[0;34m\u001b[0m\u001b[0;34m\u001b[0m\u001b[0m\n\u001b[0;32m---> 88\u001b[0;31m             \u001b[0mcontains_nan\u001b[0m \u001b[0;34m=\u001b[0m \u001b[0mnp\u001b[0m\u001b[0;34m.\u001b[0m\u001b[0misnan\u001b[0m\u001b[0;34m(\u001b[0m\u001b[0mnp\u001b[0m\u001b[0;34m.\u001b[0m\u001b[0msum\u001b[0m\u001b[0;34m(\u001b[0m\u001b[0ma\u001b[0m\u001b[0;34m)\u001b[0m\u001b[0;34m)\u001b[0m\u001b[0;34m\u001b[0m\u001b[0;34m\u001b[0m\u001b[0m\n\u001b[0m\u001b[1;32m     89\u001b[0m     \u001b[0;32mexcept\u001b[0m \u001b[0mTypeError\u001b[0m\u001b[0;34m:\u001b[0m\u001b[0;34m\u001b[0m\u001b[0;34m\u001b[0m\u001b[0m\n",
            "\u001b[0;32m<__array_function__ internals>\u001b[0m in \u001b[0;36msum\u001b[0;34m(*args, **kwargs)\u001b[0m\n",
            "\u001b[0;32m/usr/local/lib/python3.7/dist-packages/numpy/core/fromnumeric.py\u001b[0m in \u001b[0;36msum\u001b[0;34m(a, axis, dtype, out, keepdims, initial, where)\u001b[0m\n\u001b[1;32m   2259\u001b[0m     return _wrapreduction(a, np.add, 'sum', axis, dtype, out, keepdims=keepdims,\n\u001b[0;32m-> 2260\u001b[0;31m                           initial=initial, where=where)\n\u001b[0m\u001b[1;32m   2261\u001b[0m \u001b[0;34m\u001b[0m\u001b[0m\n",
            "\u001b[0;32m/usr/local/lib/python3.7/dist-packages/numpy/core/fromnumeric.py\u001b[0m in \u001b[0;36m_wrapreduction\u001b[0;34m(obj, ufunc, method, axis, dtype, out, **kwargs)\u001b[0m\n\u001b[1;32m     85\u001b[0m \u001b[0;34m\u001b[0m\u001b[0m\n\u001b[0;32m---> 86\u001b[0;31m     \u001b[0;32mreturn\u001b[0m \u001b[0mufunc\u001b[0m\u001b[0;34m.\u001b[0m\u001b[0mreduce\u001b[0m\u001b[0;34m(\u001b[0m\u001b[0mobj\u001b[0m\u001b[0;34m,\u001b[0m \u001b[0maxis\u001b[0m\u001b[0;34m,\u001b[0m \u001b[0mdtype\u001b[0m\u001b[0;34m,\u001b[0m \u001b[0mout\u001b[0m\u001b[0;34m,\u001b[0m \u001b[0;34m**\u001b[0m\u001b[0mpasskwargs\u001b[0m\u001b[0;34m)\u001b[0m\u001b[0;34m\u001b[0m\u001b[0;34m\u001b[0m\u001b[0m\n\u001b[0m\u001b[1;32m     87\u001b[0m \u001b[0;34m\u001b[0m\u001b[0m\n",
            "\u001b[0;31mTypeError\u001b[0m: unsupported operand type(s) for +: 'float' and 'str'",
            "\nDuring handling of the above exception, another exception occurred:\n",
            "\u001b[0;31mKeyboardInterrupt\u001b[0m                         Traceback (most recent call last)",
            "\u001b[0;32m<ipython-input-31-6e8e12a6113f>\u001b[0m in \u001b[0;36m<module>\u001b[0;34m\u001b[0m\n\u001b[1;32m      1\u001b[0m \u001b[0;32mimport\u001b[0m \u001b[0mnumpy\u001b[0m \u001b[0;32mas\u001b[0m \u001b[0mnp\u001b[0m\u001b[0;34m\u001b[0m\u001b[0;34m\u001b[0m\u001b[0m\n\u001b[1;32m      2\u001b[0m \u001b[0;32mfrom\u001b[0m \u001b[0mscipy\u001b[0m \u001b[0;32mimport\u001b[0m \u001b[0mstats\u001b[0m\u001b[0;34m\u001b[0m\u001b[0;34m\u001b[0m\u001b[0m\n\u001b[0;32m----> 3\u001b[0;31m \u001b[0mpdf1\u001b[0m \u001b[0;34m=\u001b[0m \u001b[0mpdf1\u001b[0m\u001b[0;34m[\u001b[0m\u001b[0;34m(\u001b[0m\u001b[0mnp\u001b[0m\u001b[0;34m.\u001b[0m\u001b[0mabs\u001b[0m\u001b[0;34m(\u001b[0m\u001b[0mstats\u001b[0m\u001b[0;34m.\u001b[0m\u001b[0mzscore\u001b[0m\u001b[0;34m(\u001b[0m\u001b[0mpdf1\u001b[0m\u001b[0;34m)\u001b[0m\u001b[0;34m)\u001b[0m \u001b[0;34m<\u001b[0m \u001b[0;36m3\u001b[0m\u001b[0;34m)\u001b[0m\u001b[0;34m.\u001b[0m\u001b[0mall\u001b[0m\u001b[0;34m(\u001b[0m\u001b[0maxis\u001b[0m\u001b[0;34m=\u001b[0m\u001b[0;36m1\u001b[0m\u001b[0;34m)\u001b[0m\u001b[0;34m]\u001b[0m  \u001b[0;31m# Will remove outliers 3 Standard Deviations from mean\u001b[0m\u001b[0;34m\u001b[0m\u001b[0;34m\u001b[0m\u001b[0m\n\u001b[0m\u001b[1;32m      4\u001b[0m \u001b[0mpdf1\u001b[0m \u001b[0;34m=\u001b[0m \u001b[0mDF\u001b[0m\u001b[0;34m.\u001b[0m\u001b[0mtoPandas\u001b[0m\u001b[0;34m(\u001b[0m\u001b[0;34m)\u001b[0m\u001b[0;34m\u001b[0m\u001b[0;34m\u001b[0m\u001b[0m\n\u001b[1;32m      5\u001b[0m \u001b[0mpdf1\u001b[0m\u001b[0;34m.\u001b[0m\u001b[0mdescribe\u001b[0m\u001b[0;34m(\u001b[0m\u001b[0minclude\u001b[0m\u001b[0;34m=\u001b[0m\u001b[0;34m'all'\u001b[0m\u001b[0;34m)\u001b[0m\u001b[0;34m\u001b[0m\u001b[0;34m\u001b[0m\u001b[0m\n",
            "\u001b[0;32m/usr/local/lib/python3.7/dist-packages/scipy/stats/stats.py\u001b[0m in \u001b[0;36mzscore\u001b[0;34m(a, axis, ddof, nan_policy)\u001b[0m\n\u001b[1;32m   2472\u001b[0m            [-0.91611681, -0.89090508,  1.4983032 ,  0.88731639, -0.5785977 ]])\n\u001b[1;32m   2473\u001b[0m     \"\"\"\n\u001b[0;32m-> 2474\u001b[0;31m     \u001b[0;32mreturn\u001b[0m \u001b[0mzmap\u001b[0m\u001b[0;34m(\u001b[0m\u001b[0ma\u001b[0m\u001b[0;34m,\u001b[0m \u001b[0ma\u001b[0m\u001b[0;34m,\u001b[0m \u001b[0maxis\u001b[0m\u001b[0;34m=\u001b[0m\u001b[0maxis\u001b[0m\u001b[0;34m,\u001b[0m \u001b[0mddof\u001b[0m\u001b[0;34m=\u001b[0m\u001b[0mddof\u001b[0m\u001b[0;34m,\u001b[0m \u001b[0mnan_policy\u001b[0m\u001b[0;34m=\u001b[0m\u001b[0mnan_policy\u001b[0m\u001b[0;34m)\u001b[0m\u001b[0;34m\u001b[0m\u001b[0;34m\u001b[0m\u001b[0m\n\u001b[0m\u001b[1;32m   2475\u001b[0m \u001b[0;34m\u001b[0m\u001b[0m\n\u001b[1;32m   2476\u001b[0m \u001b[0;34m\u001b[0m\u001b[0m\n",
            "\u001b[0;32m/usr/local/lib/python3.7/dist-packages/scipy/stats/stats.py\u001b[0m in \u001b[0;36mzmap\u001b[0;34m(scores, compare, axis, ddof, nan_policy)\u001b[0m\n\u001b[1;32m   2530\u001b[0m         \u001b[0;32mreturn\u001b[0m \u001b[0mnp\u001b[0m\u001b[0;34m.\u001b[0m\u001b[0mempty\u001b[0m\u001b[0;34m(\u001b[0m\u001b[0ma\u001b[0m\u001b[0;34m.\u001b[0m\u001b[0mshape\u001b[0m\u001b[0;34m)\u001b[0m\u001b[0;34m\u001b[0m\u001b[0;34m\u001b[0m\u001b[0m\n\u001b[1;32m   2531\u001b[0m \u001b[0;34m\u001b[0m\u001b[0m\n\u001b[0;32m-> 2532\u001b[0;31m     \u001b[0mcontains_nan\u001b[0m\u001b[0;34m,\u001b[0m \u001b[0mnan_policy\u001b[0m \u001b[0;34m=\u001b[0m \u001b[0m_contains_nan\u001b[0m\u001b[0;34m(\u001b[0m\u001b[0ma\u001b[0m\u001b[0;34m,\u001b[0m \u001b[0mnan_policy\u001b[0m\u001b[0;34m)\u001b[0m\u001b[0;34m\u001b[0m\u001b[0;34m\u001b[0m\u001b[0m\n\u001b[0m\u001b[1;32m   2533\u001b[0m \u001b[0;34m\u001b[0m\u001b[0m\n\u001b[1;32m   2534\u001b[0m     \u001b[0;32mif\u001b[0m \u001b[0mcontains_nan\u001b[0m \u001b[0;32mand\u001b[0m \u001b[0mnan_policy\u001b[0m \u001b[0;34m==\u001b[0m \u001b[0;34m'omit'\u001b[0m\u001b[0;34m:\u001b[0m\u001b[0;34m\u001b[0m\u001b[0;34m\u001b[0m\u001b[0m\n",
            "\u001b[0;32m/usr/local/lib/python3.7/dist-packages/scipy/stats/stats.py\u001b[0m in \u001b[0;36m_contains_nan\u001b[0;34m(a, nan_policy)\u001b[0m\n\u001b[1;32m     91\u001b[0m         \u001b[0;31m# numbers (e.g. as in the function `mode`). Try an alternative method:\u001b[0m\u001b[0;34m\u001b[0m\u001b[0;34m\u001b[0m\u001b[0;34m\u001b[0m\u001b[0m\n\u001b[1;32m     92\u001b[0m         \u001b[0;32mtry\u001b[0m\u001b[0;34m:\u001b[0m\u001b[0;34m\u001b[0m\u001b[0;34m\u001b[0m\u001b[0m\n\u001b[0;32m---> 93\u001b[0;31m             \u001b[0mcontains_nan\u001b[0m \u001b[0;34m=\u001b[0m \u001b[0mnp\u001b[0m\u001b[0;34m.\u001b[0m\u001b[0mnan\u001b[0m \u001b[0;32min\u001b[0m \u001b[0mset\u001b[0m\u001b[0;34m(\u001b[0m\u001b[0ma\u001b[0m\u001b[0;34m.\u001b[0m\u001b[0mravel\u001b[0m\u001b[0;34m(\u001b[0m\u001b[0;34m)\u001b[0m\u001b[0;34m)\u001b[0m\u001b[0;34m\u001b[0m\u001b[0;34m\u001b[0m\u001b[0m\n\u001b[0m\u001b[1;32m     94\u001b[0m         \u001b[0;32mexcept\u001b[0m \u001b[0mTypeError\u001b[0m\u001b[0;34m:\u001b[0m\u001b[0;34m\u001b[0m\u001b[0;34m\u001b[0m\u001b[0m\n\u001b[1;32m     95\u001b[0m             \u001b[0;31m# Don't know what to do. Fall back to omitting nan values and\u001b[0m\u001b[0;34m\u001b[0m\u001b[0;34m\u001b[0m\u001b[0;34m\u001b[0m\u001b[0m\n",
            "\u001b[0;31mKeyboardInterrupt\u001b[0m: "
          ]
        }
      ]
    },
    {
      "cell_type": "code",
      "source": [
        "# Mean Value Assignment\n",
        "for x in Mean_Assign_Attributes:\n",
        "  df = df.fillna(value = DF.agg({x: 'mean'}).collect()[0][0],subset = x)"
      ],
      "metadata": {
        "colab": {
          "base_uri": "https://localhost:8080/"
        },
        "id": "67JcOBfHHMCA",
        "outputId": "b78c7be6-3048-4d19-be7b-a941f12caa6b"
      },
      "execution_count": null,
      "outputs": [
        {
          "output_type": "stream",
          "name": "stdout",
          "text": [
            "-223.95973099983794\n"
          ]
        }
      ]
    },
    {
      "cell_type": "code",
      "source": [],
      "metadata": {
        "id": "ZkmtjedcTBcn"
      },
      "execution_count": null,
      "outputs": []
    },
    {
      "cell_type": "markdown",
      "metadata": {
        "id": "AacSayQvgfct"
      },
      "source": [
        "Identifying the Important Attributes for the class labeling."
      ]
    },
    {
      "cell_type": "code",
      "execution_count": null,
      "metadata": {
        "id": "P168QSCcAbCw"
      },
      "outputs": [],
      "source": [
        "# imp_Attributes = ['DownloadSpeed','UploadSpeed','Ping','TTFB']\n",
        "imp_Attributes = ['WifiRssi','dnsLookup','TTFB','AvgJitter','AvgPing','AvgDownloadSpeed','AvgUploadSpeed','LteRssi','WcdmaRssi']\n",
        "Attributes = ['Latitude','Longitude','@timestamp','Manufacturer','Model','AppName','SdkVersion','AppVersion',\n",
        "              'AndroidApi','OSVersion','ActiveConnection','WifiRssi','lvl1_name','IP','ASN','ISP','URL','dnsLookup','initialConnection','sslNegotiation',\n",
        "              'TTFB','fullyLoaded','AvgJitter','AvgPing', 'AvgDownloadSpeed', 'AvgUploadSpeed', 'LteRssi', 'WcdmaRssi']"
      ]
    },
    {
      "cell_type": "markdown",
      "metadata": {
        "id": "TREPGqa7g8h-"
      },
      "source": [
        "Defining Function to calculate Median. Finding medians of required attributes."
      ]
    },
    {
      "cell_type": "code",
      "execution_count": null,
      "metadata": {
        "id": "lgLKzA6xg1MR"
      },
      "outputs": [],
      "source": [
        "def calculate_Median(tdf,At):\n",
        "  tdf = tdf.select(At)\n",
        "  tdf = tdf.na.drop(subset=[At])\n",
        "  count = tdf.count()\n",
        "  tdf = tdf.sort(At)\n",
        "  if count % 2 ==0:\n",
        "    Median = (tdf.select(At).collect()[int(count/2)][0] + tdf.select(At).collect()[int(count/2)-1][0])/2\n",
        "  else:\n",
        "    Median = tdf.select(At).collect()[int((count-1)/2)][0]\n",
        "  return Median\n",
        "\n",
        "Med_DNS = calculate_Median(DF,imp_Attributes[0])\n",
        "Med_UPS = calculate_Median(DF,imp_Attributes[1])\n",
        "Med_Ping = calculate_Median(DF,imp_Attributes[2])\n",
        "Med_TTFB = calculate_Median(DF,imp_Attributes[3])"
      ]
    },
    {
      "cell_type": "code",
      "execution_count": null,
      "metadata": {
        "id": "0-ZR8MO9HD3a"
      },
      "outputs": [],
      "source": [
        "print (' Median DNS: ',Med_DNS,\"\\n\",'Median UPS: ',Med_UPS,\"\\n\",'Median Ping: ',Med_Ping,\"\\n\",'Median TTFB: ',Med_TTFB )"
      ]
    },
    {
      "cell_type": "markdown",
      "metadata": {
        "id": "WjWNlhQLhONJ"
      },
      "source": [
        "All the Attributes to be used are defined here in this list."
      ]
    },
    {
      "cell_type": "code",
      "execution_count": null,
      "metadata": {
        "id": "h8o4wYJx0Bmc"
      },
      "outputs": [],
      "source": [
        "# Attributes = ['Latitude','Longitude','@timestamp','Manufacturer','Model','AppName','SdkVersion','AppVersion',\n",
        "#               'AndroidApi','OSVersion','ActiveConnection','WifiBSSID','WifiRssi','WifiLinkSpeed',\n",
        "#               'lvl1_name','IP','ASN','ISP','URL','dnsLookup','initialConnection','sslNegotiation',\n",
        "#               'TTFB','fullyLoaded','PageloadSpeed','loadEventEnd','documentComplete','Ping',\n",
        "#               'DownloadSpeed','UploadSpeed','LteRssi','WcdmaRssi','GsmRssi']\n",
        "Attributes = ['Latitude','Longitude','@timestamp','Manufacturer','Model','AppName','SdkVersion','AppVersion',\n",
        "              'AndroidApi','OSVersion','ActiveConnection','WifiRssi','lvl1_name','IP','ASN','ISP','URL','dnsLookup','initialConnection','sslNegotiation',\n",
        "              'TTFB','fullyLoaded','AvgJitter','AvgPing', 'AvgDownloadSpeed', 'AvgUploadSpeed', 'LteRssi', 'WcdmaRssi']"
      ]
    },
    {
      "cell_type": "code",
      "execution_count": null,
      "metadata": {
        "id": "p--yicAb0ZU0"
      },
      "outputs": [],
      "source": [
        "df = DF.select(Attributes)"
      ]
    },
    {
      "cell_type": "markdown",
      "metadata": {
        "id": "dZClwwkqhfNf"
      },
      "source": [
        "Visualizing the Attributes in our data to make sure we are using required ones."
      ]
    },
    {
      "cell_type": "code",
      "execution_count": null,
      "metadata": {
        "id": "P-v1WO8F0-Uc"
      },
      "outputs": [],
      "source": [
        "df.columns"
      ]
    },
    {
      "cell_type": "markdown",
      "metadata": {
        "id": "tgO9FWZLhzH6"
      },
      "source": []
    },
    {
      "cell_type": "code",
      "execution_count": null,
      "metadata": {
        "id": "CgX217GKUNDH"
      },
      "outputs": [],
      "source": []
    },
    {
      "cell_type": "markdown",
      "metadata": {
        "id": "S26-CwDth9ZI"
      },
      "source": [
        "Defining the Attributes according to the Action required for NULL values."
      ]
    },
    {
      "cell_type": "code",
      "execution_count": null,
      "metadata": {
        "id": "ktFbDRNu3isX"
      },
      "outputs": [],
      "source": [
        "Record_Removing_Attributes = ['Latitude','Longitude','@timestamp','AppName','SdkVersion','AppVersion','AndroidApi','OSVersion','ActiveConnection','lvl1_name','IP','ASN','ISP','URL','Manufacturer','Model']\n",
        "Assign_Zero_Attributes = ['WifiRssi','LteRssi','WcdmaRssi','sslNegotiation']"
      ]
    },
    {
      "cell_type": "markdown",
      "metadata": {
        "id": "zAdBNLAQzDFi"
      },
      "source": [
        "Droping rows of NULL values against record removing attributes and with google URL"
      ]
    },
    {
      "cell_type": "code",
      "execution_count": null,
      "metadata": {
        "id": "tlwNoTGiSXBq"
      },
      "outputs": [],
      "source": [
        "df = df.na.drop(subset=Record_Removing_Attributes)\n",
        "df = df[df.ActiveConnection != \"\"] # There were some values in this coulum that were empty but not assigned NULL position.\n",
        "df=df.where(df.URL !=\"https://www.google.com.bh\")\n",
        "print(\"Truncated df count will be :\", df.count())"
      ]
    },
    {
      "cell_type": "code",
      "execution_count": null,
      "metadata": {
        "id": "P4v48nGw9H6j"
      },
      "outputs": [],
      "source": [
        "print('Before replacing values')\n",
        "df"
      ]
    },
    {
      "cell_type": "markdown",
      "metadata": {
        "id": "MzccQ39vzi2j"
      },
      "source": [
        "Replacement of NULL values with 0 and Medians accordingly"
      ]
    },
    {
      "cell_type": "code",
      "execution_count": null,
      "metadata": {
        "id": "l2sFzAi--NAS"
      },
      "outputs": [],
      "source": [
        "df = df.fillna(value = Med_DNS ,subset = imp_Attributes[0])\n",
        "df = df.fillna(value = Med_UPS ,subset = imp_Attributes[1])\n",
        "df = df.fillna(value = Med_Ping ,subset = imp_Attributes[2])\n",
        "df = df.fillna(value = Med_TTFB ,subset = imp_Attributes[3])\n",
        "df = df.fillna(value=0,subset=Assign_Zero_Attributes)\n",
        "df = df.fillna(value='0',subset=Assign_Zero_Attributes_str)\n",
        "print('After replacing values')\n",
        "df\n"
      ]
    },
    {
      "cell_type": "markdown",
      "metadata": {
        "id": "fUqjYGSLz9yf"
      },
      "source": [
        "Counting Acceptable values in data"
      ]
    },
    {
      "cell_type": "code",
      "execution_count": null,
      "metadata": {
        "id": "eFQATYjcOxdS"
      },
      "outputs": [],
      "source": [
        "df.where((df.DownloadSpeed >= 1.5) & (df.UploadSpeed >= 0.5) & (df.Ping <=20) & (df.TTFB <=1200)).count()"
      ]
    },
    {
      "cell_type": "markdown",
      "metadata": {
        "id": "kZ_mRbWnDDyj"
      },
      "source": [
        "Adding QoE Coulum"
      ]
    },
    {
      "cell_type": "code",
      "execution_count": null,
      "metadata": {
        "id": "cnzBoWQwV4eq"
      },
      "outputs": [],
      "source": [
        "df3 = df.withColumn(\"QoE\", when(((df.DownloadSpeed >= 1.5) & (df.UploadSpeed >= 0.5) & (df.Ping <=20) & (df.TTFB <=1200)),1)\n",
        "                                 .otherwise(0))"
      ]
    },
    {
      "cell_type": "markdown",
      "metadata": {
        "id": "TBPuIXpE80uM"
      },
      "source": [
        "Understanding the storage type of data inside the coulums"
      ]
    },
    {
      "cell_type": "code",
      "execution_count": null,
      "metadata": {
        "id": "uhYQ-fijbNtC"
      },
      "outputs": [],
      "source": [
        "df3.printSchema()"
      ]
    },
    {
      "cell_type": "markdown",
      "metadata": {
        "id": "YT59sDPxAFnq"
      },
      "source": [
        "Extracting name of coulums containing string data"
      ]
    },
    {
      "cell_type": "code",
      "execution_count": null,
      "metadata": {
        "id": "-A0b4JJGb16z"
      },
      "outputs": [],
      "source": [
        "String_Cols = [item[0] for item in df3.dtypes if item[1].startswith('string')]"
      ]
    },
    {
      "cell_type": "code",
      "execution_count": null,
      "metadata": {
        "id": "jtCpjKQCim7s"
      },
      "outputs": [],
      "source": [
        "print(String_Cols)"
      ]
    },
    {
      "cell_type": "markdown",
      "metadata": {
        "id": "3bxEPqbWARhM"
      },
      "source": [
        "'gdf' contains frequency of each type of entry in string data frames."
      ]
    },
    {
      "cell_type": "code",
      "execution_count": null,
      "metadata": {
        "id": "6o3Ra-YzcAKo"
      },
      "outputs": [],
      "source": [
        "gdf = pd.DataFrame()\n",
        "for x in String_Cols:\n",
        "  t = df3.groupBy(x).count().toPandas()\n",
        "  gdf = pd.concat([gdf,t],axis = 1)"
      ]
    },
    {
      "cell_type": "markdown",
      "metadata": {
        "id": "NnoJcJovArHu"
      },
      "source": [
        "Saving Frequency information of string coulums in \"String_Frequency.csv\" file."
      ]
    },
    {
      "cell_type": "code",
      "execution_count": null,
      "metadata": {
        "id": "rg1035PQyEn8"
      },
      "outputs": [],
      "source": [
        "gdf.to_csv('/content/String_Frequency.csv')"
      ]
    },
    {
      "cell_type": "markdown",
      "metadata": {
        "id": "NIRKNXUEA_Mg"
      },
      "source": [
        "Saving actual data after Cleansing to \"After_Cleansing.csv\" file"
      ]
    },
    {
      "cell_type": "code",
      "execution_count": null,
      "metadata": {
        "id": "HLVDW2p77Au0"
      },
      "outputs": [],
      "source": [
        "pdf = df3.toPandas()"
      ]
    },
    {
      "cell_type": "code",
      "execution_count": null,
      "metadata": {
        "id": "e_Xqx1KwYD6g"
      },
      "outputs": [],
      "source": [
        "pdf.to_csv('/content/After_Cleansing.csv')"
      ]
    },
    {
      "cell_type": "markdown",
      "metadata": {
        "id": "M_Gq-hfnBfxg"
      },
      "source": [
        "It is saving the description of Data Distribution of all the coulums to \"Distribution.csv\" file "
      ]
    },
    {
      "cell_type": "code",
      "execution_count": null,
      "metadata": {
        "id": "DPOdN27x7zoO"
      },
      "outputs": [],
      "source": [
        "pdf.describe(include='all').to_csv('/content/Distribution.csv')"
      ]
    },
    {
      "cell_type": "markdown",
      "metadata": {
        "id": "Fgg02C-sCJJV"
      },
      "source": [
        "Code for using ADASYN technique of Oversampling for Data Balancing"
      ]
    },
    {
      "cell_type": "code",
      "execution_count": null,
      "metadata": {
        "id": "QzDWuOjBKV2-"
      },
      "outputs": [],
      "source": [
        "def makeOverSamplesADASYN(X,y):\n",
        " #input DataFrame\n",
        " #X →Independent Variable in DataFrame\\\n",
        " #y →dependent Variable in Pandas DataFrame format\n",
        " from imblearn.over_sampling import ADASYN \n",
        " sm = ADASYN()\n",
        " X, y = sm.fit_resample(X, y)\n",
        " return(X,y)"
      ]
    },
    {
      "cell_type": "code",
      "execution_count": null,
      "metadata": {
        "id": "TQaF4LZqIVis"
      },
      "outputs": [],
      "source": [
        "P_df = df.select(imp_Attributes).toPandas()\n",
        "Y_df = df3.select('QoE').toPandas()\n",
        "P_df,Y_df = makeOverSamplesADASYN(P_df,Y_df)"
      ]
    },
    {
      "cell_type": "code",
      "execution_count": null,
      "metadata": {
        "id": "yWvWZ5PWw-HF"
      },
      "outputs": [],
      "source": [
        "result = pd.concat([P_df,Y_df])"
      ]
    },
    {
      "cell_type": "code",
      "execution_count": null,
      "metadata": {
        "id": "dNl40uaW0Ulq"
      },
      "outputs": [],
      "source": [
        "result.to_csv('/content/After_ADASYN.csv')"
      ]
    },
    {
      "cell_type": "markdown",
      "metadata": {
        "id": "85YHFoJ3DP7T"
      },
      "source": [
        "Sample code for multi conditional work on spark"
      ]
    },
    {
      "cell_type": "code",
      "execution_count": null,
      "metadata": {
        "id": "sxE9T2dYwSxc"
      },
      "outputs": [],
      "source": [
        "# df2 = df.withColumn(\"QoE\", when(((df.DownloadSpeed >= 1.5) & (df.DownloadSpeed < 5) & (df.UploadSpeed >= 0.5) & (df.UploadSpeed < 1.5) & (df.Ping >50)& (df.Ping <=100) & (df.TTFB >800)& (df.TTFB <=1200)) ,\"A\")\n",
        "#                                  .when((df.DownloadSpeed >= 5) & (df.UploadSpeed >= 1.5) & (df.Ping <=50) & (df.TTFB <=800),\"E\")\n",
        "#                                  .otherwise(\"NA\"))"
      ]
    },
    {
      "cell_type": "markdown",
      "metadata": {
        "id": "uaohhSx4E-2Y"
      },
      "source": [
        "Code for removing Outliers"
      ]
    },
    {
      "cell_type": "code",
      "execution_count": null,
      "metadata": {
        "id": "T68_-5vrAkN4"
      },
      "outputs": [],
      "source": [
        "import numpy as np\n",
        "from scipy import stats\n",
        "df = df[(np.abs(stats.zscore(df)) < 3).all(axis=1)]  # Will remove outliers 3 Standard Deviations from mean"
      ]
    },
    {
      "cell_type": "markdown",
      "metadata": {
        "id": "Pn7MVE_LFn0x"
      },
      "source": [
        "Code for Normalization of values in the data frame"
      ]
    },
    {
      "cell_type": "code",
      "execution_count": null,
      "metadata": {
        "id": "hEcJ4d_VFCLl"
      },
      "outputs": [],
      "source": [
        "# copy the data\n",
        "df_min_max_scaled = df.copy()\n",
        "  \n",
        "# apply normalization techniques\n",
        "for column in df_min_max_scaled.columns:\n",
        "    df_min_max_scaled[column] = (df_min_max_scaled[column] - df_min_max_scaled[column].min()) / (df_min_max_scaled[column].max() - df_min_max_scaled[column].min())  "
      ]
    }
  ],
  "metadata": {
    "colab": {
      "collapsed_sections": [],
      "provenance": []
    },
    "kernelspec": {
      "display_name": "Python 3",
      "name": "python3"
    },
    "language_info": {
      "name": "python"
    }
  },
  "nbformat": 4,
  "nbformat_minor": 0
}